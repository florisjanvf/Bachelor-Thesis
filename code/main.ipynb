{
 "cells": [
  {
   "cell_type": "markdown",
   "source": [
    "# Analyzing Home Advantage in the English Premier League on an Individual Player Basis\n",
    "\n",
    "This notebook analyzes home advantage in the English Premier League (EPL) on an individual player basis. The timeframe considered is 2009-2023. The notebook is structured as follows:\n",
    "- Data\n",
    "- Results\n",
    "- Appendix"
   ],
   "metadata": {
    "collapsed": false
   }
  },
  {
   "cell_type": "code",
   "execution_count": 1,
   "outputs": [],
   "source": [
    "import os\n",
    "import numpy as np\n",
    "import pandas as pd\n",
    "import matplotlib.pyplot as plt\n",
    "import statsmodels.api as sm\n",
    "import statsmodels.formula.api as smf\n",
    "import pyperclip\n",
    "\n",
    "from datetime import datetime\n",
    "from unidecode import unidecode\n",
    "from sklearn import tree\n",
    "from sklearn.ensemble import BaggingRegressor, ExtraTreesRegressor, RandomForestRegressor, GradientBoostingRegressor, HistGradientBoostingRegressor\n",
    "from sklearn.model_selection import GridSearchCV, RandomizedSearchCV, train_test_split, cross_val_score\n",
    "from sklearn.metrics import r2_score, mean_squared_error, mean_absolute_error\n",
    "from sklearn.linear_model import LinearRegression\n",
    "from sklearn.inspection import partial_dependence, PartialDependenceDisplay, permutation_importance\n",
    "from sklearn.preprocessing import StandardScaler\n",
    "from sklearn.compose import ColumnTransformer\n",
    "from scipy.stats import randint"
   ],
   "metadata": {
    "collapsed": false,
    "ExecuteTime": {
     "end_time": "2023-06-17T13:11:01.983804Z",
     "start_time": "2023-06-17T13:10:57.713798Z"
    }
   }
  },
  {
   "cell_type": "code",
   "execution_count": 2,
   "outputs": [],
   "source": [
    "wrangle_data = False\n",
    "data_folder_path = os.path.join('..', 'data')\n",
    "results_folder_path = os.path.join('..', 'results')\n",
    "pc = pd.read_csv(filepath_or_buffer=os.path.join(data_folder_path, 'player-characteristics', 'player_characteristics.csv'))\n",
    "pr = pd.read_csv(filepath_or_buffer=os.path.join(data_folder_path, 'player-ratings', 'player_ratings.csv'))\n",
    "tc = pd.read_csv(filepath_or_buffer=os.path.join(data_folder_path, 'team-characteristics', 'team_characteristics.csv'))"
   ],
   "metadata": {
    "collapsed": false,
    "ExecuteTime": {
     "end_time": "2023-06-17T13:11:01.984253Z",
     "start_time": "2023-06-17T13:11:00.412447Z"
    }
   }
  },
  {
   "cell_type": "code",
   "execution_count": 3,
   "outputs": [
    {
     "name": "stderr",
     "output_type": "stream",
     "text": [
      "/var/folders/z2/ct83gjv97mz__q43gm_kd6f80000gn/T/ipykernel_8605/251037445.py:1: MatplotlibDeprecationWarning: The seaborn styles shipped by Matplotlib are deprecated since 3.6, as they no longer correspond to the styles shipped by seaborn. However, they will remain available as 'seaborn-v0_8-<style>'. Alternatively, directly use the seaborn API instead.\n",
      "  plt.style.use('seaborn')\n"
     ]
    }
   ],
   "source": [
    "plt.style.use('seaborn')\n",
    "params = {\"ytick.color\" : \"black\",\n",
    "          \"xtick.color\" : \"black\",\n",
    "          \"axes.labelcolor\" : \"black\",\n",
    "          \"axes.edgecolor\" : \"black\",\n",
    "          \"text.usetex\" : True,\n",
    "          \"font.family\" : \"serif\",\n",
    "          \"font.serif\" : [\"Computer Modern Serif\"]}\n",
    "plt.rcParams.update(params)"
   ],
   "metadata": {
    "collapsed": false,
    "ExecuteTime": {
     "end_time": "2023-06-17T13:11:01.984563Z",
     "start_time": "2023-06-17T13:11:00.637210Z"
    }
   }
  },
  {
   "cell_type": "code",
   "execution_count": 160,
   "outputs": [
    {
     "data": {
      "text/plain": "<contextlib.ExitStack at 0x127564e90>"
     },
     "execution_count": 160,
     "metadata": {},
     "output_type": "execute_result"
    }
   ],
   "source": [
    "plt.ioff()"
   ],
   "metadata": {
    "collapsed": false,
    "ExecuteTime": {
     "end_time": "2023-06-17T13:24:00.999240Z",
     "start_time": "2023-06-17T13:24:00.905961Z"
    }
   }
  },
  {
   "cell_type": "markdown",
   "source": [
    "## Data"
   ],
   "metadata": {
    "collapsed": false
   }
  },
  {
   "cell_type": "markdown",
   "source": [
    "### Calculating Home Rating Advtange (HRA)"
   ],
   "metadata": {
    "collapsed": false
   }
  },
  {
   "cell_type": "code",
   "execution_count": 5,
   "outputs": [
    {
     "data": {
      "text/plain": "      season    home_team away_team     player_name player_rating  starter  \\\n0  2009/2010  Aston Villa     Wigan    Brad Friedel          6.29     True   \n1  2009/2010  Aston Villa     Wigan      Habib Beye          6.44     True   \n2  2009/2010  Aston Villa     Wigan    Nicky Shorey          5.98     True   \n3  2009/2010  Aston Villa     Wigan    James Milner          7.10     True   \n4  2009/2010  Aston Villa     Wigan  Carlos Cuellar          6.46     True   \n\n   home_game  match_id  \n0       True    317787  \n1       True    317787  \n2       True    317787  \n3       True    317787  \n4       True    317787  ",
      "text/html": "<div>\n<style scoped>\n    .dataframe tbody tr th:only-of-type {\n        vertical-align: middle;\n    }\n\n    .dataframe tbody tr th {\n        vertical-align: top;\n    }\n\n    .dataframe thead th {\n        text-align: right;\n    }\n</style>\n<table border=\"1\" class=\"dataframe\">\n  <thead>\n    <tr style=\"text-align: right;\">\n      <th></th>\n      <th>season</th>\n      <th>home_team</th>\n      <th>away_team</th>\n      <th>player_name</th>\n      <th>player_rating</th>\n      <th>starter</th>\n      <th>home_game</th>\n      <th>match_id</th>\n    </tr>\n  </thead>\n  <tbody>\n    <tr>\n      <th>0</th>\n      <td>2009/2010</td>\n      <td>Aston Villa</td>\n      <td>Wigan</td>\n      <td>Brad Friedel</td>\n      <td>6.29</td>\n      <td>True</td>\n      <td>True</td>\n      <td>317787</td>\n    </tr>\n    <tr>\n      <th>1</th>\n      <td>2009/2010</td>\n      <td>Aston Villa</td>\n      <td>Wigan</td>\n      <td>Habib Beye</td>\n      <td>6.44</td>\n      <td>True</td>\n      <td>True</td>\n      <td>317787</td>\n    </tr>\n    <tr>\n      <th>2</th>\n      <td>2009/2010</td>\n      <td>Aston Villa</td>\n      <td>Wigan</td>\n      <td>Nicky Shorey</td>\n      <td>5.98</td>\n      <td>True</td>\n      <td>True</td>\n      <td>317787</td>\n    </tr>\n    <tr>\n      <th>3</th>\n      <td>2009/2010</td>\n      <td>Aston Villa</td>\n      <td>Wigan</td>\n      <td>James Milner</td>\n      <td>7.10</td>\n      <td>True</td>\n      <td>True</td>\n      <td>317787</td>\n    </tr>\n    <tr>\n      <th>4</th>\n      <td>2009/2010</td>\n      <td>Aston Villa</td>\n      <td>Wigan</td>\n      <td>Carlos Cuellar</td>\n      <td>6.46</td>\n      <td>True</td>\n      <td>True</td>\n      <td>317787</td>\n    </tr>\n  </tbody>\n</table>\n</div>"
     },
     "execution_count": 5,
     "metadata": {},
     "output_type": "execute_result"
    }
   ],
   "source": [
    "pr.head()  # get a quick overview of the data"
   ],
   "metadata": {
    "collapsed": false,
    "ExecuteTime": {
     "end_time": "2023-06-17T13:11:01.984966Z",
     "start_time": "2023-06-17T13:11:00.660857Z"
    }
   }
  },
  {
   "cell_type": "code",
   "execution_count": 6,
   "outputs": [
    {
     "name": "stdout",
     "output_type": "stream",
     "text": [
      "<class 'pandas.core.frame.DataFrame'>\n",
      "RangeIndex: 195789 entries, 0 to 195788\n",
      "Data columns (total 8 columns):\n",
      " #   Column         Non-Null Count   Dtype \n",
      "---  ------         --------------   ----- \n",
      " 0   season         195789 non-null  object\n",
      " 1   home_team      195789 non-null  object\n",
      " 2   away_team      195789 non-null  object\n",
      " 3   player_name    195789 non-null  object\n",
      " 4   player_rating  195789 non-null  object\n",
      " 5   starter        195789 non-null  bool  \n",
      " 6   home_game      195789 non-null  bool  \n",
      " 7   match_id       195789 non-null  int64 \n",
      "dtypes: bool(2), int64(1), object(5)\n",
      "memory usage: 9.3+ MB\n",
      "----------------------------------------------------------------------------------------------------\n",
      "Are the missing values: False\n"
     ]
    }
   ],
   "source": [
    "pr.info()\n",
    "print('-'*100)\n",
    "print(f'Are the missing values: {pr.isna().any().any()}')"
   ],
   "metadata": {
    "collapsed": false,
    "ExecuteTime": {
     "end_time": "2023-06-17T13:11:01.985243Z",
     "start_time": "2023-06-17T13:11:00.677366Z"
    }
   }
  },
  {
   "cell_type": "code",
   "execution_count": 7,
   "outputs": [
    {
     "name": "stdout",
     "output_type": "stream",
     "text": [
      "There are 48750 observations without a player rating\n"
     ]
    }
   ],
   "source": [
    "missing_rating_filter = pr['player_rating'] == '-'\n",
    "missing_rating_ix = (pr.loc[missing_rating_filter]).index\n",
    "print(f'There are {missing_rating_filter.sum()} observations without a player rating')\n",
    "pr.drop(index=missing_rating_ix, inplace=True)  # drop the observations without a player rating\n",
    "pr['player_rating'] = pr['player_rating'].astype('float')  # convert the player_rating column to the \"float\" datatype"
   ],
   "metadata": {
    "collapsed": false,
    "ExecuteTime": {
     "end_time": "2023-06-17T13:11:01.985478Z",
     "start_time": "2023-06-17T13:11:00.911167Z"
    }
   }
  },
  {
   "cell_type": "code",
   "execution_count": 8,
   "outputs": [
    {
     "name": "stdout",
     "output_type": "stream",
     "text": [
      "There are 30001 observations where a player did not start (came on as a sub)\n"
     ]
    }
   ],
   "source": [
    "# TODO: decide whether to keep or drop substitute observations\n",
    "substitute_filter = pr['starter'] == False\n",
    "substitute_ix = (pr.loc[substitute_filter]).index\n",
    "print(f'There are {substitute_filter.sum()} observations where a player did not start (came on as a sub)')\n",
    "pr.drop(index=substitute_ix, inplace=True)  # drop the observations for substitute ratings"
   ],
   "metadata": {
    "collapsed": false,
    "ExecuteTime": {
     "end_time": "2023-06-17T13:11:01.985673Z",
     "start_time": "2023-06-17T13:11:00.957910Z"
    }
   }
  },
  {
   "cell_type": "code",
   "execution_count": 9,
   "outputs": [],
   "source": [
    "pr['team_name'] = pr['home_game']*pr['home_team'] + (~pr['home_game'])*pr['away_team']  # make new column that shows the team on which the player plays"
   ],
   "metadata": {
    "collapsed": false,
    "ExecuteTime": {
     "end_time": "2023-06-17T13:11:01.985935Z",
     "start_time": "2023-06-17T13:11:00.990369Z"
    }
   }
  },
  {
   "cell_type": "code",
   "execution_count": 10,
   "outputs": [
    {
     "name": "stdout",
     "output_type": "stream",
     "text": [
      "5320\n"
     ]
    }
   ],
   "source": [
    "print(pr['match_id'].nunique())  # quick check to see that we indeed scraped all matches (380) for all seasons (14)"
   ],
   "metadata": {
    "collapsed": false,
    "ExecuteTime": {
     "end_time": "2023-06-17T13:11:01.986606Z",
     "start_time": "2023-06-17T13:11:00.996666Z"
    }
   }
  },
  {
   "cell_type": "code",
   "execution_count": 11,
   "outputs": [
    {
     "name": "stdout",
     "output_type": "stream",
     "text": [
      "<class 'pandas.core.frame.DataFrame'>\n",
      "Int64Index: 117038 entries, 0 to 195779\n",
      "Data columns (total 9 columns):\n",
      " #   Column         Non-Null Count   Dtype  \n",
      "---  ------         --------------   -----  \n",
      " 0   season         117038 non-null  object \n",
      " 1   home_team      117038 non-null  object \n",
      " 2   away_team      117038 non-null  object \n",
      " 3   player_name    117038 non-null  object \n",
      " 4   player_rating  117038 non-null  float64\n",
      " 5   starter        117038 non-null  bool   \n",
      " 6   home_game      117038 non-null  bool   \n",
      " 7   match_id       117038 non-null  int64  \n",
      " 8   team_name      117038 non-null  object \n",
      "dtypes: bool(2), float64(1), int64(1), object(5)\n",
      "memory usage: 7.4+ MB\n",
      "----------------------------------------------------------------------------------------------------\n",
      "Are the missing values: False\n"
     ]
    }
   ],
   "source": [
    "pr.info()\n",
    "print('-'*100)\n",
    "print(f'Are the missing values: {pr.isna().any().any()}')"
   ],
   "metadata": {
    "collapsed": false,
    "ExecuteTime": {
     "end_time": "2023-06-17T13:11:02.026815Z",
     "start_time": "2023-06-17T13:11:01.049177Z"
    }
   }
  },
  {
   "cell_type": "code",
   "execution_count": 12,
   "outputs": [
    {
     "name": "stdout",
     "output_type": "stream",
     "text": [
      "[190]\n"
     ]
    }
   ],
   "source": [
    "def sort_string(string):\n",
    "    return ''.join(sorted(string))\n",
    "\n",
    "\n",
    "# to construct pair-wise matches for player ratings for home and away we need an identifier per pair\n",
    "pr['fixture_alphabetical'] = (pr['home_team'] + pr['away_team']).apply(sort_string)\n",
    "# we need to check that per season we have 190 unique pair identifiers (38 match days * 10 matches)/2\n",
    "print(pr.groupby('season')['fixture_alphabetical'].nunique().unique())"
   ],
   "metadata": {
    "collapsed": false,
    "ExecuteTime": {
     "end_time": "2023-06-17T13:11:02.027938Z",
     "start_time": "2023-06-17T13:11:01.169098Z"
    }
   }
  },
  {
   "cell_type": "code",
   "execution_count": 13,
   "outputs": [
    {
     "data": {
      "text/plain": "      season    home_team away_team     player_name  player_rating  starter  \\\n0  2009/2010  Aston Villa     Wigan    Brad Friedel           6.29     True   \n1  2009/2010  Aston Villa     Wigan      Habib Beye           6.44     True   \n2  2009/2010  Aston Villa     Wigan    Nicky Shorey           5.98     True   \n3  2009/2010  Aston Villa     Wigan    James Milner           7.10     True   \n4  2009/2010  Aston Villa     Wigan  Carlos Cuellar           6.46     True   \n\n   home_game  match_id    team_name fixture_alphabetical  \n0       True    317787  Aston Villa      AVWaagiillnnost  \n1       True    317787  Aston Villa      AVWaagiillnnost  \n2       True    317787  Aston Villa      AVWaagiillnnost  \n3       True    317787  Aston Villa      AVWaagiillnnost  \n4       True    317787  Aston Villa      AVWaagiillnnost  ",
      "text/html": "<div>\n<style scoped>\n    .dataframe tbody tr th:only-of-type {\n        vertical-align: middle;\n    }\n\n    .dataframe tbody tr th {\n        vertical-align: top;\n    }\n\n    .dataframe thead th {\n        text-align: right;\n    }\n</style>\n<table border=\"1\" class=\"dataframe\">\n  <thead>\n    <tr style=\"text-align: right;\">\n      <th></th>\n      <th>season</th>\n      <th>home_team</th>\n      <th>away_team</th>\n      <th>player_name</th>\n      <th>player_rating</th>\n      <th>starter</th>\n      <th>home_game</th>\n      <th>match_id</th>\n      <th>team_name</th>\n      <th>fixture_alphabetical</th>\n    </tr>\n  </thead>\n  <tbody>\n    <tr>\n      <th>0</th>\n      <td>2009/2010</td>\n      <td>Aston Villa</td>\n      <td>Wigan</td>\n      <td>Brad Friedel</td>\n      <td>6.29</td>\n      <td>True</td>\n      <td>True</td>\n      <td>317787</td>\n      <td>Aston Villa</td>\n      <td>AVWaagiillnnost</td>\n    </tr>\n    <tr>\n      <th>1</th>\n      <td>2009/2010</td>\n      <td>Aston Villa</td>\n      <td>Wigan</td>\n      <td>Habib Beye</td>\n      <td>6.44</td>\n      <td>True</td>\n      <td>True</td>\n      <td>317787</td>\n      <td>Aston Villa</td>\n      <td>AVWaagiillnnost</td>\n    </tr>\n    <tr>\n      <th>2</th>\n      <td>2009/2010</td>\n      <td>Aston Villa</td>\n      <td>Wigan</td>\n      <td>Nicky Shorey</td>\n      <td>5.98</td>\n      <td>True</td>\n      <td>True</td>\n      <td>317787</td>\n      <td>Aston Villa</td>\n      <td>AVWaagiillnnost</td>\n    </tr>\n    <tr>\n      <th>3</th>\n      <td>2009/2010</td>\n      <td>Aston Villa</td>\n      <td>Wigan</td>\n      <td>James Milner</td>\n      <td>7.10</td>\n      <td>True</td>\n      <td>True</td>\n      <td>317787</td>\n      <td>Aston Villa</td>\n      <td>AVWaagiillnnost</td>\n    </tr>\n    <tr>\n      <th>4</th>\n      <td>2009/2010</td>\n      <td>Aston Villa</td>\n      <td>Wigan</td>\n      <td>Carlos Cuellar</td>\n      <td>6.46</td>\n      <td>True</td>\n      <td>True</td>\n      <td>317787</td>\n      <td>Aston Villa</td>\n      <td>AVWaagiillnnost</td>\n    </tr>\n  </tbody>\n</table>\n</div>"
     },
     "execution_count": 13,
     "metadata": {},
     "output_type": "execute_result"
    }
   ],
   "source": [
    "pr.head()"
   ],
   "metadata": {
    "collapsed": false,
    "ExecuteTime": {
     "end_time": "2023-06-17T13:11:02.028855Z",
     "start_time": "2023-06-17T13:11:01.312361Z"
    }
   }
  },
  {
   "cell_type": "markdown",
   "source": [
    "#### Remove observations that are not part of a home-away match pair"
   ],
   "metadata": {
    "collapsed": false
   }
  },
  {
   "cell_type": "code",
   "execution_count": 14,
   "outputs": [],
   "source": [
    "# in the code below we will remove all observations (rows) that are not part of a home-away match pair\n",
    "# this is done by computing the fixture_alphabetical count per season per player_name\n",
    "# if this count is not equal to 2, it is not part of pair. And thus should be dropped.\n",
    "# once there are only pairs remaining in the \"pr\" dataframe we can compute simple weighted averages for ratings\n",
    "\n",
    "pr_season_player_name_team_name_group = pr.groupby(['season', 'player_name', 'team_name'])\n",
    "pr_fixture_counts = pr_season_player_name_team_name_group['fixture_alphabetical'].value_counts()\n",
    "not_pairs = pr_fixture_counts.loc[pr_fixture_counts==1]\n",
    "not_pairs_df = pd.DataFrame(data=not_pairs.index.to_list(), columns=['season', 'player_name', 'team_name', 'fixture_alphabetical'])\n",
    "not_pairs_df['fixture_count'] = not_pairs.values"
   ],
   "metadata": {
    "collapsed": false,
    "ExecuteTime": {
     "end_time": "2023-06-17T13:11:02.029472Z",
     "start_time": "2023-06-17T13:11:01.318986Z"
    }
   }
  },
  {
   "cell_type": "code",
   "execution_count": 15,
   "outputs": [
    {
     "data": {
      "text/plain": "      season   player_name  team_name  fixture_alphabetical  fixture_count\n0  2009/2010  Aaron Hughes     Fulham         FHWaaehlmmstu              1\n1  2009/2010  Aaron Hughes     Fulham         AFaaehllmnrsu              1\n2  2009/2010  Aaron Hughes     Fulham         EFaehlmnortuv              1\n3  2009/2010  Aaron Hughes     Fulham            FHahlllmuu              1\n4  2009/2010  Aaron Lennon  Tottenham   ATVaaehillmnnoosttt              1",
      "text/html": "<div>\n<style scoped>\n    .dataframe tbody tr th:only-of-type {\n        vertical-align: middle;\n    }\n\n    .dataframe tbody tr th {\n        vertical-align: top;\n    }\n\n    .dataframe thead th {\n        text-align: right;\n    }\n</style>\n<table border=\"1\" class=\"dataframe\">\n  <thead>\n    <tr style=\"text-align: right;\">\n      <th></th>\n      <th>season</th>\n      <th>player_name</th>\n      <th>team_name</th>\n      <th>fixture_alphabetical</th>\n      <th>fixture_count</th>\n    </tr>\n  </thead>\n  <tbody>\n    <tr>\n      <th>0</th>\n      <td>2009/2010</td>\n      <td>Aaron Hughes</td>\n      <td>Fulham</td>\n      <td>FHWaaehlmmstu</td>\n      <td>1</td>\n    </tr>\n    <tr>\n      <th>1</th>\n      <td>2009/2010</td>\n      <td>Aaron Hughes</td>\n      <td>Fulham</td>\n      <td>AFaaehllmnrsu</td>\n      <td>1</td>\n    </tr>\n    <tr>\n      <th>2</th>\n      <td>2009/2010</td>\n      <td>Aaron Hughes</td>\n      <td>Fulham</td>\n      <td>EFaehlmnortuv</td>\n      <td>1</td>\n    </tr>\n    <tr>\n      <th>3</th>\n      <td>2009/2010</td>\n      <td>Aaron Hughes</td>\n      <td>Fulham</td>\n      <td>FHahlllmuu</td>\n      <td>1</td>\n    </tr>\n    <tr>\n      <th>4</th>\n      <td>2009/2010</td>\n      <td>Aaron Lennon</td>\n      <td>Tottenham</td>\n      <td>ATVaaehillmnnoosttt</td>\n      <td>1</td>\n    </tr>\n  </tbody>\n</table>\n</div>"
     },
     "execution_count": 15,
     "metadata": {},
     "output_type": "execute_result"
    }
   ],
   "source": [
    "not_pairs_df.head()"
   ],
   "metadata": {
    "collapsed": false,
    "ExecuteTime": {
     "end_time": "2023-06-17T13:11:02.029910Z",
     "start_time": "2023-06-17T13:11:01.480228Z"
    }
   }
  },
  {
   "cell_type": "code",
   "execution_count": 16,
   "outputs": [
    {
     "name": "stdout",
     "output_type": "stream",
     "text": [
      "The not_pairs_df has 47032 observations and the merged_df has 47032 observations\n",
      "There are now 0 remaining fixture-rating combinations which are not part of a pair\n"
     ]
    }
   ],
   "source": [
    "columns_to_match = ['season', 'player_name', 'team_name', 'fixture_alphabetical']\n",
    "pr_ix_reset = pr.reset_index()\n",
    "merged_df = pr_ix_reset.merge(not_pairs_df, on=columns_to_match, how='inner')\n",
    "print(f'The not_pairs_df has {not_pairs_df.shape[0]} observations and the merged_df has {merged_df.shape[0]} observations')\n",
    "\n",
    "# now we drop all the rows which are not part of a pair from the original \"pr\" dataframe based on the ORIGINAL index of the merged_df\n",
    "pr.drop(index=merged_df['index'], inplace=True)\n",
    "pr_season_player_name_team_name_group = pr.groupby(['season', 'player_name', 'team_name'])\n",
    "\n",
    "# check that we only have pairs remaining\n",
    "fixture_count_per_player = pr_season_player_name_team_name_group['fixture_alphabetical'].value_counts()\n",
    "print(f'There are now {(fixture_count_per_player<2).sum()} remaining fixture-rating combinations which are not part of a pair')"
   ],
   "metadata": {
    "collapsed": false,
    "ExecuteTime": {
     "end_time": "2023-06-17T13:11:02.030325Z",
     "start_time": "2023-06-17T13:11:01.491238Z"
    }
   }
  },
  {
   "cell_type": "code",
   "execution_count": 17,
   "outputs": [
    {
     "data": {
      "text/plain": "season     team_name      player_name     \n2009/2010  Arsenal        Thomas Vermaelen    28\n                          Manuel Almunia      26\n                          Bacary Sagna        24\n                          Andrey Arshavin     20\n                          Abou Diaby          18\n                                              ..\n2022/2023  Wolverhampton  Craig Dawson         2\n                          Hwang Hee-Chan       2\n                          Mario Lemina         2\n                          Pablo Sarabia        2\n                          Raúl Jiménez         2\nName: player_name, Length: 4525, dtype: int64"
     },
     "execution_count": 17,
     "metadata": {},
     "output_type": "execute_result"
    }
   ],
   "source": [
    "# check that the max occurrences of a player name per season per team is 38 (38 matches are played in a season) and the min 2 (only want pairs remaining)\n",
    "pr.groupby(['season', 'team_name'])['player_name'].value_counts()"
   ],
   "metadata": {
    "collapsed": false,
    "ExecuteTime": {
     "end_time": "2023-06-17T13:11:02.030951Z",
     "start_time": "2023-06-17T13:11:01.645952Z"
    }
   }
  },
  {
   "cell_type": "markdown",
   "source": [
    "#### Computing HRA"
   ],
   "metadata": {
    "collapsed": false
   }
  },
  {
   "cell_type": "code",
   "execution_count": 18,
   "outputs": [],
   "source": [
    "# below we will not compute average home and away ratings per season per player as well the number of home-away pairs\n",
    "average_ratings_stack = pr.groupby(['season', 'player_name', 'team_name', 'home_game'])['player_rating'].agg(mean='mean', count=lambda x: x.count())"
   ],
   "metadata": {
    "collapsed": false,
    "ExecuteTime": {
     "end_time": "2023-06-17T13:11:02.034872Z",
     "start_time": "2023-06-17T13:11:01.687555Z"
    }
   }
  },
  {
   "cell_type": "code",
   "execution_count": 19,
   "outputs": [
    {
     "data": {
      "text/plain": "                                                          mean  count\nseason    player_name           team_name  home_game                 \n2009/2010 Aaron Hughes          Fulham     False      6.729333     15\n                                           True       7.077333     15\n          Aaron Lennon          Tottenham  False      7.046667      3\n                                           True       8.076667      3\n          Aaron Mokoena         Portsmouth False      6.687500      8\n                                           True       6.610000      8\n          Aaron Ramsey          Arsenal    False      6.660000      1\n                                           True       7.230000      1\n          Abdoulaye Diagne-Faye Stoke      False      6.963846     13\n                                           True       7.080769     13\n          Abou Diaby            Arsenal    False      7.365556      9\n                                           True       8.480000      9\n          Albert Riera          Liverpool  False      6.780000      1\n                                           True       6.750000      1\n          Alessandro Diamanti   West Ham   False      7.007500      4",
      "text/html": "<div>\n<style scoped>\n    .dataframe tbody tr th:only-of-type {\n        vertical-align: middle;\n    }\n\n    .dataframe tbody tr th {\n        vertical-align: top;\n    }\n\n    .dataframe thead th {\n        text-align: right;\n    }\n</style>\n<table border=\"1\" class=\"dataframe\">\n  <thead>\n    <tr style=\"text-align: right;\">\n      <th></th>\n      <th></th>\n      <th></th>\n      <th></th>\n      <th>mean</th>\n      <th>count</th>\n    </tr>\n    <tr>\n      <th>season</th>\n      <th>player_name</th>\n      <th>team_name</th>\n      <th>home_game</th>\n      <th></th>\n      <th></th>\n    </tr>\n  </thead>\n  <tbody>\n    <tr>\n      <th rowspan=\"15\" valign=\"top\">2009/2010</th>\n      <th rowspan=\"2\" valign=\"top\">Aaron Hughes</th>\n      <th rowspan=\"2\" valign=\"top\">Fulham</th>\n      <th>False</th>\n      <td>6.729333</td>\n      <td>15</td>\n    </tr>\n    <tr>\n      <th>True</th>\n      <td>7.077333</td>\n      <td>15</td>\n    </tr>\n    <tr>\n      <th rowspan=\"2\" valign=\"top\">Aaron Lennon</th>\n      <th rowspan=\"2\" valign=\"top\">Tottenham</th>\n      <th>False</th>\n      <td>7.046667</td>\n      <td>3</td>\n    </tr>\n    <tr>\n      <th>True</th>\n      <td>8.076667</td>\n      <td>3</td>\n    </tr>\n    <tr>\n      <th rowspan=\"2\" valign=\"top\">Aaron Mokoena</th>\n      <th rowspan=\"2\" valign=\"top\">Portsmouth</th>\n      <th>False</th>\n      <td>6.687500</td>\n      <td>8</td>\n    </tr>\n    <tr>\n      <th>True</th>\n      <td>6.610000</td>\n      <td>8</td>\n    </tr>\n    <tr>\n      <th rowspan=\"2\" valign=\"top\">Aaron Ramsey</th>\n      <th rowspan=\"2\" valign=\"top\">Arsenal</th>\n      <th>False</th>\n      <td>6.660000</td>\n      <td>1</td>\n    </tr>\n    <tr>\n      <th>True</th>\n      <td>7.230000</td>\n      <td>1</td>\n    </tr>\n    <tr>\n      <th rowspan=\"2\" valign=\"top\">Abdoulaye Diagne-Faye</th>\n      <th rowspan=\"2\" valign=\"top\">Stoke</th>\n      <th>False</th>\n      <td>6.963846</td>\n      <td>13</td>\n    </tr>\n    <tr>\n      <th>True</th>\n      <td>7.080769</td>\n      <td>13</td>\n    </tr>\n    <tr>\n      <th rowspan=\"2\" valign=\"top\">Abou Diaby</th>\n      <th rowspan=\"2\" valign=\"top\">Arsenal</th>\n      <th>False</th>\n      <td>7.365556</td>\n      <td>9</td>\n    </tr>\n    <tr>\n      <th>True</th>\n      <td>8.480000</td>\n      <td>9</td>\n    </tr>\n    <tr>\n      <th rowspan=\"2\" valign=\"top\">Albert Riera</th>\n      <th rowspan=\"2\" valign=\"top\">Liverpool</th>\n      <th>False</th>\n      <td>6.780000</td>\n      <td>1</td>\n    </tr>\n    <tr>\n      <th>True</th>\n      <td>6.750000</td>\n      <td>1</td>\n    </tr>\n    <tr>\n      <th>Alessandro Diamanti</th>\n      <th>West Ham</th>\n      <th>False</th>\n      <td>7.007500</td>\n      <td>4</td>\n    </tr>\n  </tbody>\n</table>\n</div>"
     },
     "execution_count": 19,
     "metadata": {},
     "output_type": "execute_result"
    }
   ],
   "source": [
    "average_ratings_stack.head(15)"
   ],
   "metadata": {
    "collapsed": false,
    "ExecuteTime": {
     "end_time": "2023-06-17T13:11:02.035572Z",
     "start_time": "2023-06-17T13:11:01.951823Z"
    }
   }
  },
  {
   "cell_type": "code",
   "execution_count": 20,
   "outputs": [
    {
     "data": {
      "text/plain": "                                                       mean           count  \\\nhome_game                                             False     True  False   \nseason    player_name           team_name                                     \n2009/2010 Aaron Hughes          Fulham             6.729333  7.077333    15   \n          Aaron Lennon          Tottenham          7.046667  8.076667     3   \n          Aaron Mokoena         Portsmouth         6.687500  6.610000     8   \n          Aaron Ramsey          Arsenal            6.660000  7.230000     1   \n          Abdoulaye Diagne-Faye Stoke              6.963846  7.080769    13   \n          Abou Diaby            Arsenal            7.365556  8.480000     9   \n          Albert Riera          Liverpool          6.780000  6.750000     1   \n          Alessandro Diamanti   West Ham           7.007500  8.210000     4   \n          Alexandre Song        Arsenal            6.980000  7.368571     7   \n          Anderson              Manchester United  7.860000  6.260000     1   \n          Andrey Arshavin       Arsenal            7.104000  7.316000    10   \n          André Bikey           Burnley            6.528750  6.986250     8   \n          Andy Dawson           Hull               6.488750  6.685000    16   \n          Andy O'Brien          Bolton             7.500000  7.160000     1   \n          Andy Reid             Sunderland         7.395000  7.430000     2   \n\n                                                         \nhome_game                                         True   \nseason    player_name           team_name                \n2009/2010 Aaron Hughes          Fulham               15  \n          Aaron Lennon          Tottenham             3  \n          Aaron Mokoena         Portsmouth            8  \n          Aaron Ramsey          Arsenal               1  \n          Abdoulaye Diagne-Faye Stoke                13  \n          Abou Diaby            Arsenal               9  \n          Albert Riera          Liverpool             1  \n          Alessandro Diamanti   West Ham              4  \n          Alexandre Song        Arsenal               7  \n          Anderson              Manchester United     1  \n          Andrey Arshavin       Arsenal              10  \n          André Bikey           Burnley               8  \n          Andy Dawson           Hull                 16  \n          Andy O'Brien          Bolton                1  \n          Andy Reid             Sunderland            2  ",
      "text/html": "<div>\n<style scoped>\n    .dataframe tbody tr th:only-of-type {\n        vertical-align: middle;\n    }\n\n    .dataframe tbody tr th {\n        vertical-align: top;\n    }\n\n    .dataframe thead tr th {\n        text-align: left;\n    }\n\n    .dataframe thead tr:last-of-type th {\n        text-align: right;\n    }\n</style>\n<table border=\"1\" class=\"dataframe\">\n  <thead>\n    <tr>\n      <th></th>\n      <th></th>\n      <th></th>\n      <th colspan=\"2\" halign=\"left\">mean</th>\n      <th colspan=\"2\" halign=\"left\">count</th>\n    </tr>\n    <tr>\n      <th></th>\n      <th></th>\n      <th>home_game</th>\n      <th>False</th>\n      <th>True</th>\n      <th>False</th>\n      <th>True</th>\n    </tr>\n    <tr>\n      <th>season</th>\n      <th>player_name</th>\n      <th>team_name</th>\n      <th></th>\n      <th></th>\n      <th></th>\n      <th></th>\n    </tr>\n  </thead>\n  <tbody>\n    <tr>\n      <th rowspan=\"15\" valign=\"top\">2009/2010</th>\n      <th>Aaron Hughes</th>\n      <th>Fulham</th>\n      <td>6.729333</td>\n      <td>7.077333</td>\n      <td>15</td>\n      <td>15</td>\n    </tr>\n    <tr>\n      <th>Aaron Lennon</th>\n      <th>Tottenham</th>\n      <td>7.046667</td>\n      <td>8.076667</td>\n      <td>3</td>\n      <td>3</td>\n    </tr>\n    <tr>\n      <th>Aaron Mokoena</th>\n      <th>Portsmouth</th>\n      <td>6.687500</td>\n      <td>6.610000</td>\n      <td>8</td>\n      <td>8</td>\n    </tr>\n    <tr>\n      <th>Aaron Ramsey</th>\n      <th>Arsenal</th>\n      <td>6.660000</td>\n      <td>7.230000</td>\n      <td>1</td>\n      <td>1</td>\n    </tr>\n    <tr>\n      <th>Abdoulaye Diagne-Faye</th>\n      <th>Stoke</th>\n      <td>6.963846</td>\n      <td>7.080769</td>\n      <td>13</td>\n      <td>13</td>\n    </tr>\n    <tr>\n      <th>Abou Diaby</th>\n      <th>Arsenal</th>\n      <td>7.365556</td>\n      <td>8.480000</td>\n      <td>9</td>\n      <td>9</td>\n    </tr>\n    <tr>\n      <th>Albert Riera</th>\n      <th>Liverpool</th>\n      <td>6.780000</td>\n      <td>6.750000</td>\n      <td>1</td>\n      <td>1</td>\n    </tr>\n    <tr>\n      <th>Alessandro Diamanti</th>\n      <th>West Ham</th>\n      <td>7.007500</td>\n      <td>8.210000</td>\n      <td>4</td>\n      <td>4</td>\n    </tr>\n    <tr>\n      <th>Alexandre Song</th>\n      <th>Arsenal</th>\n      <td>6.980000</td>\n      <td>7.368571</td>\n      <td>7</td>\n      <td>7</td>\n    </tr>\n    <tr>\n      <th>Anderson</th>\n      <th>Manchester United</th>\n      <td>7.860000</td>\n      <td>6.260000</td>\n      <td>1</td>\n      <td>1</td>\n    </tr>\n    <tr>\n      <th>Andrey Arshavin</th>\n      <th>Arsenal</th>\n      <td>7.104000</td>\n      <td>7.316000</td>\n      <td>10</td>\n      <td>10</td>\n    </tr>\n    <tr>\n      <th>André Bikey</th>\n      <th>Burnley</th>\n      <td>6.528750</td>\n      <td>6.986250</td>\n      <td>8</td>\n      <td>8</td>\n    </tr>\n    <tr>\n      <th>Andy Dawson</th>\n      <th>Hull</th>\n      <td>6.488750</td>\n      <td>6.685000</td>\n      <td>16</td>\n      <td>16</td>\n    </tr>\n    <tr>\n      <th>Andy O'Brien</th>\n      <th>Bolton</th>\n      <td>7.500000</td>\n      <td>7.160000</td>\n      <td>1</td>\n      <td>1</td>\n    </tr>\n    <tr>\n      <th>Andy Reid</th>\n      <th>Sunderland</th>\n      <td>7.395000</td>\n      <td>7.430000</td>\n      <td>2</td>\n      <td>2</td>\n    </tr>\n  </tbody>\n</table>\n</div>"
     },
     "execution_count": 20,
     "metadata": {},
     "output_type": "execute_result"
    }
   ],
   "source": [
    "average_ratings_stack.unstack().head(15)"
   ],
   "metadata": {
    "collapsed": false,
    "ExecuteTime": {
     "end_time": "2023-06-17T13:11:02.036079Z",
     "start_time": "2023-06-17T13:11:01.956716Z"
    }
   }
  },
  {
   "cell_type": "code",
   "execution_count": 21,
   "outputs": [],
   "source": [
    "# now let's compute HRA per season per player as well as the weight of the observation.\n",
    "# here weight denotes the number of home-away pairs the calculated hra per season per player is based on\n",
    "\n",
    "average_ratings = average_ratings_stack.unstack().reset_index()\n",
    "new_column_names = ['season', 'player_name', 'team_name', 'average_away_rating', 'average_home_rating', 'weight', 'drop_this']\n",
    "average_ratings.columns = new_column_names\n",
    "average_ratings.drop(columns=['drop_this'], inplace=True)\n",
    "average_ratings.columns.name = None\n",
    "average_ratings['hra'] = average_ratings['average_home_rating'] - average_ratings['average_away_rating']"
   ],
   "metadata": {
    "collapsed": false,
    "ExecuteTime": {
     "end_time": "2023-06-17T13:11:02.036506Z",
     "start_time": "2023-06-17T13:11:01.977308Z"
    }
   }
  },
  {
   "cell_type": "code",
   "execution_count": 22,
   "outputs": [
    {
     "data": {
      "text/plain": "       season            player_name          team_name  average_away_rating  \\\n0   2009/2010           Aaron Hughes             Fulham             6.729333   \n1   2009/2010           Aaron Lennon          Tottenham             7.046667   \n2   2009/2010          Aaron Mokoena         Portsmouth             6.687500   \n3   2009/2010           Aaron Ramsey            Arsenal             6.660000   \n4   2009/2010  Abdoulaye Diagne-Faye              Stoke             6.963846   \n5   2009/2010             Abou Diaby            Arsenal             7.365556   \n6   2009/2010           Albert Riera          Liverpool             6.780000   \n7   2009/2010    Alessandro Diamanti           West Ham             7.007500   \n8   2009/2010         Alexandre Song            Arsenal             6.980000   \n9   2009/2010               Anderson  Manchester United             7.860000   \n10  2009/2010        Andrey Arshavin            Arsenal             7.104000   \n11  2009/2010            André Bikey            Burnley             6.528750   \n12  2009/2010            Andy Dawson               Hull             6.488750   \n13  2009/2010           Andy O'Brien             Bolton             7.500000   \n14  2009/2010              Andy Reid         Sunderland             7.395000   \n\n    average_home_rating  weight       hra  \n0              7.077333      15  0.348000  \n1              8.076667       3  1.030000  \n2              6.610000       8 -0.077500  \n3              7.230000       1  0.570000  \n4              7.080769      13  0.116923  \n5              8.480000       9  1.114444  \n6              6.750000       1 -0.030000  \n7              8.210000       4  1.202500  \n8              7.368571       7  0.388571  \n9              6.260000       1 -1.600000  \n10             7.316000      10  0.212000  \n11             6.986250       8  0.457500  \n12             6.685000      16  0.196250  \n13             7.160000       1 -0.340000  \n14             7.430000       2  0.035000  ",
      "text/html": "<div>\n<style scoped>\n    .dataframe tbody tr th:only-of-type {\n        vertical-align: middle;\n    }\n\n    .dataframe tbody tr th {\n        vertical-align: top;\n    }\n\n    .dataframe thead th {\n        text-align: right;\n    }\n</style>\n<table border=\"1\" class=\"dataframe\">\n  <thead>\n    <tr style=\"text-align: right;\">\n      <th></th>\n      <th>season</th>\n      <th>player_name</th>\n      <th>team_name</th>\n      <th>average_away_rating</th>\n      <th>average_home_rating</th>\n      <th>weight</th>\n      <th>hra</th>\n    </tr>\n  </thead>\n  <tbody>\n    <tr>\n      <th>0</th>\n      <td>2009/2010</td>\n      <td>Aaron Hughes</td>\n      <td>Fulham</td>\n      <td>6.729333</td>\n      <td>7.077333</td>\n      <td>15</td>\n      <td>0.348000</td>\n    </tr>\n    <tr>\n      <th>1</th>\n      <td>2009/2010</td>\n      <td>Aaron Lennon</td>\n      <td>Tottenham</td>\n      <td>7.046667</td>\n      <td>8.076667</td>\n      <td>3</td>\n      <td>1.030000</td>\n    </tr>\n    <tr>\n      <th>2</th>\n      <td>2009/2010</td>\n      <td>Aaron Mokoena</td>\n      <td>Portsmouth</td>\n      <td>6.687500</td>\n      <td>6.610000</td>\n      <td>8</td>\n      <td>-0.077500</td>\n    </tr>\n    <tr>\n      <th>3</th>\n      <td>2009/2010</td>\n      <td>Aaron Ramsey</td>\n      <td>Arsenal</td>\n      <td>6.660000</td>\n      <td>7.230000</td>\n      <td>1</td>\n      <td>0.570000</td>\n    </tr>\n    <tr>\n      <th>4</th>\n      <td>2009/2010</td>\n      <td>Abdoulaye Diagne-Faye</td>\n      <td>Stoke</td>\n      <td>6.963846</td>\n      <td>7.080769</td>\n      <td>13</td>\n      <td>0.116923</td>\n    </tr>\n    <tr>\n      <th>5</th>\n      <td>2009/2010</td>\n      <td>Abou Diaby</td>\n      <td>Arsenal</td>\n      <td>7.365556</td>\n      <td>8.480000</td>\n      <td>9</td>\n      <td>1.114444</td>\n    </tr>\n    <tr>\n      <th>6</th>\n      <td>2009/2010</td>\n      <td>Albert Riera</td>\n      <td>Liverpool</td>\n      <td>6.780000</td>\n      <td>6.750000</td>\n      <td>1</td>\n      <td>-0.030000</td>\n    </tr>\n    <tr>\n      <th>7</th>\n      <td>2009/2010</td>\n      <td>Alessandro Diamanti</td>\n      <td>West Ham</td>\n      <td>7.007500</td>\n      <td>8.210000</td>\n      <td>4</td>\n      <td>1.202500</td>\n    </tr>\n    <tr>\n      <th>8</th>\n      <td>2009/2010</td>\n      <td>Alexandre Song</td>\n      <td>Arsenal</td>\n      <td>6.980000</td>\n      <td>7.368571</td>\n      <td>7</td>\n      <td>0.388571</td>\n    </tr>\n    <tr>\n      <th>9</th>\n      <td>2009/2010</td>\n      <td>Anderson</td>\n      <td>Manchester United</td>\n      <td>7.860000</td>\n      <td>6.260000</td>\n      <td>1</td>\n      <td>-1.600000</td>\n    </tr>\n    <tr>\n      <th>10</th>\n      <td>2009/2010</td>\n      <td>Andrey Arshavin</td>\n      <td>Arsenal</td>\n      <td>7.104000</td>\n      <td>7.316000</td>\n      <td>10</td>\n      <td>0.212000</td>\n    </tr>\n    <tr>\n      <th>11</th>\n      <td>2009/2010</td>\n      <td>André Bikey</td>\n      <td>Burnley</td>\n      <td>6.528750</td>\n      <td>6.986250</td>\n      <td>8</td>\n      <td>0.457500</td>\n    </tr>\n    <tr>\n      <th>12</th>\n      <td>2009/2010</td>\n      <td>Andy Dawson</td>\n      <td>Hull</td>\n      <td>6.488750</td>\n      <td>6.685000</td>\n      <td>16</td>\n      <td>0.196250</td>\n    </tr>\n    <tr>\n      <th>13</th>\n      <td>2009/2010</td>\n      <td>Andy O'Brien</td>\n      <td>Bolton</td>\n      <td>7.500000</td>\n      <td>7.160000</td>\n      <td>1</td>\n      <td>-0.340000</td>\n    </tr>\n    <tr>\n      <th>14</th>\n      <td>2009/2010</td>\n      <td>Andy Reid</td>\n      <td>Sunderland</td>\n      <td>7.395000</td>\n      <td>7.430000</td>\n      <td>2</td>\n      <td>0.035000</td>\n    </tr>\n  </tbody>\n</table>\n</div>"
     },
     "execution_count": 22,
     "metadata": {},
     "output_type": "execute_result"
    }
   ],
   "source": [
    "average_ratings.head(15)"
   ],
   "metadata": {
    "collapsed": false,
    "ExecuteTime": {
     "end_time": "2023-06-17T13:11:02.036781Z",
     "start_time": "2023-06-17T13:11:01.990652Z"
    }
   }
  },
  {
   "cell_type": "code",
   "execution_count": 23,
   "outputs": [
    {
     "name": "stdout",
     "output_type": "stream",
     "text": [
      "<class 'pandas.core.frame.DataFrame'>\n",
      "RangeIndex: 4525 entries, 0 to 4524\n",
      "Data columns (total 7 columns):\n",
      " #   Column               Non-Null Count  Dtype  \n",
      "---  ------               --------------  -----  \n",
      " 0   season               4525 non-null   object \n",
      " 1   player_name          4525 non-null   object \n",
      " 2   team_name            4525 non-null   object \n",
      " 3   average_away_rating  4525 non-null   float64\n",
      " 4   average_home_rating  4525 non-null   float64\n",
      " 5   weight               4525 non-null   int64  \n",
      " 6   hra                  4525 non-null   float64\n",
      "dtypes: float64(3), int64(1), object(3)\n",
      "memory usage: 247.6+ KB\n",
      "----------------------------------------------------------------------------------------------------\n",
      "Are the missing values: False\n"
     ]
    }
   ],
   "source": [
    "average_ratings.info()\n",
    "print('-'*100)\n",
    "print(f'Are the missing values: {average_ratings.isna().any().any()}')\n",
    "\n",
    "# there are no missing values"
   ],
   "metadata": {
    "collapsed": false,
    "ExecuteTime": {
     "end_time": "2023-06-17T13:11:02.332440Z",
     "start_time": "2023-06-17T13:11:02.014719Z"
    }
   }
  },
  {
   "cell_type": "markdown",
   "source": [
    "### Combining HRA and team-characteristics"
   ],
   "metadata": {
    "collapsed": false
   }
  },
  {
   "cell_type": "code",
   "execution_count": 24,
   "outputs": [],
   "source": [
    "hra = average_ratings.copy()"
   ],
   "metadata": {
    "collapsed": false,
    "ExecuteTime": {
     "end_time": "2023-06-17T13:11:02.332944Z",
     "start_time": "2023-06-17T13:11:02.026496Z"
    }
   }
  },
  {
   "cell_type": "code",
   "execution_count": 25,
   "outputs": [
    {
     "name": "stdout",
     "output_type": "stream",
     "text": [
      "<class 'pandas.core.frame.DataFrame'>\n",
      "RangeIndex: 4525 entries, 0 to 4524\n",
      "Data columns (total 7 columns):\n",
      " #   Column               Non-Null Count  Dtype  \n",
      "---  ------               --------------  -----  \n",
      " 0   season               4525 non-null   object \n",
      " 1   player_name          4525 non-null   object \n",
      " 2   team_name            4525 non-null   object \n",
      " 3   average_away_rating  4525 non-null   float64\n",
      " 4   average_home_rating  4525 non-null   float64\n",
      " 5   weight               4525 non-null   int64  \n",
      " 6   hra                  4525 non-null   float64\n",
      "dtypes: float64(3), int64(1), object(3)\n",
      "memory usage: 247.6+ KB\n"
     ]
    }
   ],
   "source": [
    "hra.info()"
   ],
   "metadata": {
    "collapsed": false,
    "ExecuteTime": {
     "end_time": "2023-06-17T13:11:02.335173Z",
     "start_time": "2023-06-17T13:11:02.041145Z"
    }
   }
  },
  {
   "cell_type": "code",
   "execution_count": 26,
   "outputs": [
    {
     "name": "stdout",
     "output_type": "stream",
     "text": [
      "<class 'pandas.core.frame.DataFrame'>\n",
      "RangeIndex: 280 entries, 0 to 279\n",
      "Data columns (total 9 columns):\n",
      " #   Column              Non-Null Count  Dtype \n",
      "---  ------              --------------  ----- \n",
      " 0   season              280 non-null    object\n",
      " 1   team_name           280 non-null    object\n",
      " 2   location            280 non-null    object\n",
      " 3   stadium_name        280 non-null    object\n",
      " 4   stadium_capacity    280 non-null    int64 \n",
      " 5   average_attendance  280 non-null    int64 \n",
      " 6   manager_name        280 non-null    object\n",
      " 7   promoted            280 non-null    bool  \n",
      " 8   captain             280 non-null    object\n",
      "dtypes: bool(1), int64(2), object(6)\n",
      "memory usage: 17.9+ KB\n"
     ]
    }
   ],
   "source": [
    "tc.info()"
   ],
   "metadata": {
    "collapsed": false,
    "ExecuteTime": {
     "end_time": "2023-06-17T13:11:02.335732Z",
     "start_time": "2023-06-17T13:11:02.057686Z"
    }
   }
  },
  {
   "cell_type": "markdown",
   "source": [
    "#### Renaming dubious columns"
   ],
   "metadata": {
    "collapsed": false
   }
  },
  {
   "cell_type": "code",
   "execution_count": 27,
   "outputs": [],
   "source": [
    "tc.rename(columns={'average_attendance': 'average_home_attendance'}, inplace=True)"
   ],
   "metadata": {
    "collapsed": false,
    "ExecuteTime": {
     "end_time": "2023-06-17T13:11:02.336104Z",
     "start_time": "2023-06-17T13:11:02.071763Z"
    }
   }
  },
  {
   "cell_type": "markdown",
   "source": [
    "#### Matching team names"
   ],
   "metadata": {
    "collapsed": false
   }
  },
  {
   "cell_type": "code",
   "execution_count": 28,
   "outputs": [
    {
     "name": "stdout",
     "output_type": "stream",
     "text": [
      "hra team_names unique values: 40\n",
      "clubs team_names unique values: 40\n"
     ]
    }
   ],
   "source": [
    "hra_team_names_set = set(hra['team_name'].unique().tolist())\n",
    "tc_team_names_set = set(tc['team_name'].unique().tolist())\n",
    "##############\n",
    "print(f'hra team_names unique values: {len(hra_team_names_set)}')\n",
    "print(f'clubs team_names unique values: {len(tc_team_names_set)}')"
   ],
   "metadata": {
    "collapsed": false,
    "ExecuteTime": {
     "end_time": "2023-06-17T13:11:02.336606Z",
     "start_time": "2023-06-17T13:11:02.078248Z"
    }
   }
  },
  {
   "cell_type": "code",
   "execution_count": 29,
   "outputs": [
    {
     "name": "stdout",
     "output_type": "stream",
     "text": [
      "{'Birmingham': 'Birmingham City', 'Blackburn': 'Blackburn Rovers', 'Bolton': 'Bolton Wanderers', 'Brighton': 'Brighton & Hove Albion', 'Cardiff': 'Cardiff City', 'Huddersfield': 'Huddersfield Town', 'Hull': 'Hull City', 'Leeds': 'Leeds United', 'Leicester': 'Leicester City', 'Newcastle': 'Newcastle United', 'Norwich': 'Norwich City', 'Stoke': 'Stoke City', 'Swansea': 'Swansea City', 'Tottenham': 'Tottenham Hotspur', 'West Bromwich': 'West Bromwich Albion', 'West Ham': 'West Ham United', 'Wigan': 'Wigan Athletic', 'Wolverhampton': 'Wolverhampton Wanderers'}\n"
     ]
    }
   ],
   "source": [
    "replacement_team_names = sorted(tc_team_names_set-hra_team_names_set)  # using sorted automatically converts the set into a list dtype and sorts the values\n",
    "hra_team_names_to_be_replaced = sorted(hra_team_names_set-tc_team_names_set)  # using sorted automatically converts the set into a list dtype and sorts the values\n",
    "hra_team_name_replacement_dic = dict(zip(hra_team_names_to_be_replaced, replacement_team_names))\n",
    "\n",
    "print(hra_team_name_replacement_dic)"
   ],
   "metadata": {
    "collapsed": false,
    "ExecuteTime": {
     "end_time": "2023-06-17T13:11:02.336996Z",
     "start_time": "2023-06-17T13:11:02.084265Z"
    }
   }
  },
  {
   "cell_type": "code",
   "execution_count": 30,
   "outputs": [],
   "source": [
    "hra['team_name'].replace(hra_team_name_replacement_dic, inplace=True)"
   ],
   "metadata": {
    "collapsed": false,
    "ExecuteTime": {
     "end_time": "2023-06-17T13:11:02.394765Z",
     "start_time": "2023-06-17T13:11:02.090941Z"
    }
   }
  },
  {
   "cell_type": "markdown",
   "source": [
    "#### Final overview and rearranging some columns"
   ],
   "metadata": {
    "collapsed": false
   }
  },
  {
   "cell_type": "code",
   "execution_count": 31,
   "outputs": [],
   "source": [
    "hra.rename(columns={'weight': 'observation_weight'}, inplace=True)\n",
    "hra = hra[['season', 'player_name', 'team_name', 'observation_weight', 'hra', 'average_home_rating', 'average_away_rating']]"
   ],
   "metadata": {
    "collapsed": false,
    "ExecuteTime": {
     "end_time": "2023-06-17T13:11:02.395094Z",
     "start_time": "2023-06-17T13:11:02.101611Z"
    }
   }
  },
  {
   "cell_type": "code",
   "execution_count": 32,
   "outputs": [
    {
     "name": "stdout",
     "output_type": "stream",
     "text": [
      "<class 'pandas.core.frame.DataFrame'>\n",
      "RangeIndex: 4525 entries, 0 to 4524\n",
      "Data columns (total 7 columns):\n",
      " #   Column               Non-Null Count  Dtype  \n",
      "---  ------               --------------  -----  \n",
      " 0   season               4525 non-null   object \n",
      " 1   player_name          4525 non-null   object \n",
      " 2   team_name            4525 non-null   object \n",
      " 3   observation_weight   4525 non-null   int64  \n",
      " 4   hra                  4525 non-null   float64\n",
      " 5   average_home_rating  4525 non-null   float64\n",
      " 6   average_away_rating  4525 non-null   float64\n",
      "dtypes: float64(3), int64(1), object(3)\n",
      "memory usage: 247.6+ KB\n"
     ]
    }
   ],
   "source": [
    "hra.info()"
   ],
   "metadata": {
    "collapsed": false,
    "ExecuteTime": {
     "end_time": "2023-06-17T13:11:02.433477Z",
     "start_time": "2023-06-17T13:11:02.108528Z"
    }
   }
  },
  {
   "cell_type": "code",
   "execution_count": 33,
   "outputs": [
    {
     "data": {
      "text/plain": "      season            player_name          team_name  observation_weight  \\\n0  2009/2010           Aaron Hughes             Fulham                  15   \n1  2009/2010           Aaron Lennon  Tottenham Hotspur                   3   \n2  2009/2010          Aaron Mokoena         Portsmouth                   8   \n3  2009/2010           Aaron Ramsey            Arsenal                   1   \n4  2009/2010  Abdoulaye Diagne-Faye         Stoke City                  13   \n\n        hra  average_home_rating  average_away_rating  \n0  0.348000             7.077333             6.729333  \n1  1.030000             8.076667             7.046667  \n2 -0.077500             6.610000             6.687500  \n3  0.570000             7.230000             6.660000  \n4  0.116923             7.080769             6.963846  ",
      "text/html": "<div>\n<style scoped>\n    .dataframe tbody tr th:only-of-type {\n        vertical-align: middle;\n    }\n\n    .dataframe tbody tr th {\n        vertical-align: top;\n    }\n\n    .dataframe thead th {\n        text-align: right;\n    }\n</style>\n<table border=\"1\" class=\"dataframe\">\n  <thead>\n    <tr style=\"text-align: right;\">\n      <th></th>\n      <th>season</th>\n      <th>player_name</th>\n      <th>team_name</th>\n      <th>observation_weight</th>\n      <th>hra</th>\n      <th>average_home_rating</th>\n      <th>average_away_rating</th>\n    </tr>\n  </thead>\n  <tbody>\n    <tr>\n      <th>0</th>\n      <td>2009/2010</td>\n      <td>Aaron Hughes</td>\n      <td>Fulham</td>\n      <td>15</td>\n      <td>0.348000</td>\n      <td>7.077333</td>\n      <td>6.729333</td>\n    </tr>\n    <tr>\n      <th>1</th>\n      <td>2009/2010</td>\n      <td>Aaron Lennon</td>\n      <td>Tottenham Hotspur</td>\n      <td>3</td>\n      <td>1.030000</td>\n      <td>8.076667</td>\n      <td>7.046667</td>\n    </tr>\n    <tr>\n      <th>2</th>\n      <td>2009/2010</td>\n      <td>Aaron Mokoena</td>\n      <td>Portsmouth</td>\n      <td>8</td>\n      <td>-0.077500</td>\n      <td>6.610000</td>\n      <td>6.687500</td>\n    </tr>\n    <tr>\n      <th>3</th>\n      <td>2009/2010</td>\n      <td>Aaron Ramsey</td>\n      <td>Arsenal</td>\n      <td>1</td>\n      <td>0.570000</td>\n      <td>7.230000</td>\n      <td>6.660000</td>\n    </tr>\n    <tr>\n      <th>4</th>\n      <td>2009/2010</td>\n      <td>Abdoulaye Diagne-Faye</td>\n      <td>Stoke City</td>\n      <td>13</td>\n      <td>0.116923</td>\n      <td>7.080769</td>\n      <td>6.963846</td>\n    </tr>\n  </tbody>\n</table>\n</div>"
     },
     "execution_count": 33,
     "metadata": {},
     "output_type": "execute_result"
    }
   ],
   "source": [
    "hra.head()"
   ],
   "metadata": {
    "collapsed": false,
    "ExecuteTime": {
     "end_time": "2023-06-17T13:11:02.434352Z",
     "start_time": "2023-06-17T13:11:02.118032Z"
    }
   }
  },
  {
   "cell_type": "markdown",
   "source": [
    "#### Matching captain names\n",
    "Below we will match the player names from \"hra\" and captain names from \"team_characteristics\""
   ],
   "metadata": {
    "collapsed": false
   }
  },
  {
   "cell_type": "code",
   "execution_count": 34,
   "outputs": [],
   "source": [
    "# first we decode all the player names to English player names (e.g., über to uber)\n",
    "hra['normalized_player_name'] = hra['player_name'].apply(unidecode)\n",
    "tc['normalized_captain'] = tc['captain'].apply(unidecode)"
   ],
   "metadata": {
    "collapsed": false,
    "ExecuteTime": {
     "end_time": "2023-06-17T13:11:02.437014Z",
     "start_time": "2023-06-17T13:11:02.134754Z"
    }
   }
  },
  {
   "cell_type": "code",
   "execution_count": 35,
   "outputs": [
    {
     "name": "stdout",
     "output_type": "stream",
     "text": [
      "{'Abdoulaye Diagne-Faye': 'Abdoulaye Faye', 'Matt Upson': 'Matthew Upson'}\n"
     ]
    }
   ],
   "source": [
    "clubs_captains_list = tc['normalized_captain'].unique().tolist()\n",
    "clubs_captains_set = set(clubs_captains_list)\n",
    "\n",
    "hra_players_list = hra['normalized_player_name'].unique().tolist()\n",
    "hra_players_set = set(hra_players_list)\n",
    "\n",
    "replacement_captain_names = sorted(clubs_captains_set-hra_players_set)\n",
    "hra_player_names_to_be_replaced = ['Abdoulaye Diagne-Faye', 'Matt Upson']  # manually found in the hra df\n",
    "hra_captain_name_replacement_dic = dict(zip(hra_player_names_to_be_replaced, replacement_captain_names))\n",
    "\n",
    "print(hra_captain_name_replacement_dic)"
   ],
   "metadata": {
    "collapsed": false,
    "ExecuteTime": {
     "end_time": "2023-06-17T13:11:02.437597Z",
     "start_time": "2023-06-17T13:11:02.149024Z"
    }
   }
  },
  {
   "cell_type": "code",
   "execution_count": 36,
   "outputs": [],
   "source": [
    "hra['normalized_player_name'].replace(hra_captain_name_replacement_dic, inplace=True)  # replace non-matching names"
   ],
   "metadata": {
    "collapsed": false,
    "ExecuteTime": {
     "end_time": "2023-06-17T13:11:02.437847Z",
     "start_time": "2023-06-17T13:11:02.155676Z"
    }
   }
  },
  {
   "cell_type": "markdown",
   "source": [
    "#### Merging HRA and team-characteristics"
   ],
   "metadata": {
    "collapsed": false
   }
  },
  {
   "cell_type": "code",
   "execution_count": 37,
   "outputs": [],
   "source": [
    "hra_tc_merged = hra.merge(tc, on=['season', 'team_name'])"
   ],
   "metadata": {
    "collapsed": false,
    "ExecuteTime": {
     "end_time": "2023-06-17T13:11:02.482469Z",
     "start_time": "2023-06-17T13:11:02.161463Z"
    }
   }
  },
  {
   "cell_type": "code",
   "execution_count": 38,
   "outputs": [
    {
     "name": "stdout",
     "output_type": "stream",
     "text": [
      "<class 'pandas.core.frame.DataFrame'>\n",
      "Int64Index: 4525 entries, 0 to 4524\n",
      "Data columns (total 16 columns):\n",
      " #   Column                   Non-Null Count  Dtype  \n",
      "---  ------                   --------------  -----  \n",
      " 0   season                   4525 non-null   object \n",
      " 1   player_name              4525 non-null   object \n",
      " 2   team_name                4525 non-null   object \n",
      " 3   observation_weight       4525 non-null   int64  \n",
      " 4   hra                      4525 non-null   float64\n",
      " 5   average_home_rating      4525 non-null   float64\n",
      " 6   average_away_rating      4525 non-null   float64\n",
      " 7   normalized_player_name   4525 non-null   object \n",
      " 8   location                 4525 non-null   object \n",
      " 9   stadium_name             4525 non-null   object \n",
      " 10  stadium_capacity         4525 non-null   int64  \n",
      " 11  average_home_attendance  4525 non-null   int64  \n",
      " 12  manager_name             4525 non-null   object \n",
      " 13  promoted                 4525 non-null   bool   \n",
      " 14  captain                  4525 non-null   object \n",
      " 15  normalized_captain       4525 non-null   object \n",
      "dtypes: bool(1), float64(3), int64(3), object(9)\n",
      "memory usage: 570.0+ KB\n",
      "----------------------------------------------------------------------------------------------------\n",
      "Are the missing values: False\n"
     ]
    }
   ],
   "source": [
    "hra_tc_merged.info()\n",
    "print('-'*100)\n",
    "print(f'Are the missing values: {average_ratings.isna().any().any()}')"
   ],
   "metadata": {
    "collapsed": false,
    "ExecuteTime": {
     "end_time": "2023-06-17T13:11:02.511686Z",
     "start_time": "2023-06-17T13:11:02.184905Z"
    }
   }
  },
  {
   "cell_type": "code",
   "execution_count": 39,
   "outputs": [],
   "source": [
    "hra_tc_merged['is_captain'] = (hra_tc_merged['normalized_player_name'] == hra_tc_merged['normalized_captain'])"
   ],
   "metadata": {
    "collapsed": false,
    "ExecuteTime": {
     "end_time": "2023-06-17T13:11:02.511917Z",
     "start_time": "2023-06-17T13:11:02.191291Z"
    }
   }
  },
  {
   "cell_type": "code",
   "execution_count": 40,
   "outputs": [
    {
     "data": {
      "text/plain": "      season      player_name team_name  observation_weight       hra  \\\n0  2009/2010     Aaron Hughes    Fulham                  15  0.348000   \n1  2009/2010     Bobby Zamora    Fulham                  10  0.547000   \n2  2009/2010  Brede Hangeland    Fulham                  13  0.483077   \n3  2009/2010      Chris Baird    Fulham                  10  0.172000   \n4  2009/2010    Clint Dempsey    Fulham                   8  0.720000   \n\n   average_home_rating  average_away_rating normalized_player_name  \\\n0             7.077333             6.729333           Aaron Hughes   \n1             7.399000             6.852000           Bobby Zamora   \n2             7.486923             7.003846        Brede Hangeland   \n3             7.277000             7.105000            Chris Baird   \n4             7.628750             6.908750          Clint Dempsey   \n\n          location    stadium_name  stadium_capacity  average_home_attendance  \\\n0  London (Fulham)  Craven Cottage             25700                    23909   \n1  London (Fulham)  Craven Cottage             25700                    23909   \n2  London (Fulham)  Craven Cottage             25700                    23909   \n3  London (Fulham)  Craven Cottage             25700                    23909   \n4  London (Fulham)  Craven Cottage             25700                    23909   \n\n  manager_name  promoted       captain normalized_captain  is_captain  \n0  Roy Hodgson     False  Danny Murphy       Danny Murphy       False  \n1  Roy Hodgson     False  Danny Murphy       Danny Murphy       False  \n2  Roy Hodgson     False  Danny Murphy       Danny Murphy       False  \n3  Roy Hodgson     False  Danny Murphy       Danny Murphy       False  \n4  Roy Hodgson     False  Danny Murphy       Danny Murphy       False  ",
      "text/html": "<div>\n<style scoped>\n    .dataframe tbody tr th:only-of-type {\n        vertical-align: middle;\n    }\n\n    .dataframe tbody tr th {\n        vertical-align: top;\n    }\n\n    .dataframe thead th {\n        text-align: right;\n    }\n</style>\n<table border=\"1\" class=\"dataframe\">\n  <thead>\n    <tr style=\"text-align: right;\">\n      <th></th>\n      <th>season</th>\n      <th>player_name</th>\n      <th>team_name</th>\n      <th>observation_weight</th>\n      <th>hra</th>\n      <th>average_home_rating</th>\n      <th>average_away_rating</th>\n      <th>normalized_player_name</th>\n      <th>location</th>\n      <th>stadium_name</th>\n      <th>stadium_capacity</th>\n      <th>average_home_attendance</th>\n      <th>manager_name</th>\n      <th>promoted</th>\n      <th>captain</th>\n      <th>normalized_captain</th>\n      <th>is_captain</th>\n    </tr>\n  </thead>\n  <tbody>\n    <tr>\n      <th>0</th>\n      <td>2009/2010</td>\n      <td>Aaron Hughes</td>\n      <td>Fulham</td>\n      <td>15</td>\n      <td>0.348000</td>\n      <td>7.077333</td>\n      <td>6.729333</td>\n      <td>Aaron Hughes</td>\n      <td>London (Fulham)</td>\n      <td>Craven Cottage</td>\n      <td>25700</td>\n      <td>23909</td>\n      <td>Roy Hodgson</td>\n      <td>False</td>\n      <td>Danny Murphy</td>\n      <td>Danny Murphy</td>\n      <td>False</td>\n    </tr>\n    <tr>\n      <th>1</th>\n      <td>2009/2010</td>\n      <td>Bobby Zamora</td>\n      <td>Fulham</td>\n      <td>10</td>\n      <td>0.547000</td>\n      <td>7.399000</td>\n      <td>6.852000</td>\n      <td>Bobby Zamora</td>\n      <td>London (Fulham)</td>\n      <td>Craven Cottage</td>\n      <td>25700</td>\n      <td>23909</td>\n      <td>Roy Hodgson</td>\n      <td>False</td>\n      <td>Danny Murphy</td>\n      <td>Danny Murphy</td>\n      <td>False</td>\n    </tr>\n    <tr>\n      <th>2</th>\n      <td>2009/2010</td>\n      <td>Brede Hangeland</td>\n      <td>Fulham</td>\n      <td>13</td>\n      <td>0.483077</td>\n      <td>7.486923</td>\n      <td>7.003846</td>\n      <td>Brede Hangeland</td>\n      <td>London (Fulham)</td>\n      <td>Craven Cottage</td>\n      <td>25700</td>\n      <td>23909</td>\n      <td>Roy Hodgson</td>\n      <td>False</td>\n      <td>Danny Murphy</td>\n      <td>Danny Murphy</td>\n      <td>False</td>\n    </tr>\n    <tr>\n      <th>3</th>\n      <td>2009/2010</td>\n      <td>Chris Baird</td>\n      <td>Fulham</td>\n      <td>10</td>\n      <td>0.172000</td>\n      <td>7.277000</td>\n      <td>7.105000</td>\n      <td>Chris Baird</td>\n      <td>London (Fulham)</td>\n      <td>Craven Cottage</td>\n      <td>25700</td>\n      <td>23909</td>\n      <td>Roy Hodgson</td>\n      <td>False</td>\n      <td>Danny Murphy</td>\n      <td>Danny Murphy</td>\n      <td>False</td>\n    </tr>\n    <tr>\n      <th>4</th>\n      <td>2009/2010</td>\n      <td>Clint Dempsey</td>\n      <td>Fulham</td>\n      <td>8</td>\n      <td>0.720000</td>\n      <td>7.628750</td>\n      <td>6.908750</td>\n      <td>Clint Dempsey</td>\n      <td>London (Fulham)</td>\n      <td>Craven Cottage</td>\n      <td>25700</td>\n      <td>23909</td>\n      <td>Roy Hodgson</td>\n      <td>False</td>\n      <td>Danny Murphy</td>\n      <td>Danny Murphy</td>\n      <td>False</td>\n    </tr>\n  </tbody>\n</table>\n</div>"
     },
     "execution_count": 40,
     "metadata": {},
     "output_type": "execute_result"
    }
   ],
   "source": [
    "hra_tc_merged.head()"
   ],
   "metadata": {
    "collapsed": false,
    "ExecuteTime": {
     "end_time": "2023-06-17T13:11:02.512168Z",
     "start_time": "2023-06-17T13:11:02.194244Z"
    }
   }
  },
  {
   "cell_type": "code",
   "execution_count": 41,
   "outputs": [],
   "source": [
    "# for consistency let's also create a normalized_manager column\n",
    "hra_tc_merged['normalized_manager_name'] = hra_tc_merged['manager_name'].apply(unidecode)\n",
    "\n",
    "# drop columns that are not useful anymore\n",
    "hra_tc_merged.drop(columns=['player_name', 'location', 'stadium_name', 'manager_name', 'captain'], inplace=True)\n",
    "\n",
    "# rename columns\n",
    "hra_tc_merged.rename(columns={'normalized_player_name': 'player_name', 'normalized_captain': 'captain_name', 'normalized_manager_name': 'manager_name'}, inplace=True)\n",
    "\n",
    "# rearrange some columns\n",
    "hra_tc_merged = hra_tc_merged[['season', 'player_name', 'team_name', 'observation_weight', 'hra',\n",
    "                               'average_home_rating', 'average_away_rating', 'average_home_attendance',\n",
    "                               'stadium_capacity', 'manager_name', 'captain_name', 'promoted', 'is_captain']]"
   ],
   "metadata": {
    "collapsed": false,
    "ExecuteTime": {
     "end_time": "2023-06-17T13:11:02.580346Z",
     "start_time": "2023-06-17T13:11:02.215498Z"
    }
   }
  },
  {
   "cell_type": "code",
   "execution_count": 42,
   "outputs": [
    {
     "data": {
      "text/plain": "      season      player_name team_name  observation_weight       hra  \\\n0  2009/2010     Aaron Hughes    Fulham                  15  0.348000   \n1  2009/2010     Bobby Zamora    Fulham                  10  0.547000   \n2  2009/2010  Brede Hangeland    Fulham                  13  0.483077   \n3  2009/2010      Chris Baird    Fulham                  10  0.172000   \n4  2009/2010    Clint Dempsey    Fulham                   8  0.720000   \n\n   average_home_rating  average_away_rating  average_home_attendance  \\\n0             7.077333             6.729333                    23909   \n1             7.399000             6.852000                    23909   \n2             7.486923             7.003846                    23909   \n3             7.277000             7.105000                    23909   \n4             7.628750             6.908750                    23909   \n\n   stadium_capacity manager_name  captain_name  promoted  is_captain  \n0             25700  Roy Hodgson  Danny Murphy     False       False  \n1             25700  Roy Hodgson  Danny Murphy     False       False  \n2             25700  Roy Hodgson  Danny Murphy     False       False  \n3             25700  Roy Hodgson  Danny Murphy     False       False  \n4             25700  Roy Hodgson  Danny Murphy     False       False  ",
      "text/html": "<div>\n<style scoped>\n    .dataframe tbody tr th:only-of-type {\n        vertical-align: middle;\n    }\n\n    .dataframe tbody tr th {\n        vertical-align: top;\n    }\n\n    .dataframe thead th {\n        text-align: right;\n    }\n</style>\n<table border=\"1\" class=\"dataframe\">\n  <thead>\n    <tr style=\"text-align: right;\">\n      <th></th>\n      <th>season</th>\n      <th>player_name</th>\n      <th>team_name</th>\n      <th>observation_weight</th>\n      <th>hra</th>\n      <th>average_home_rating</th>\n      <th>average_away_rating</th>\n      <th>average_home_attendance</th>\n      <th>stadium_capacity</th>\n      <th>manager_name</th>\n      <th>captain_name</th>\n      <th>promoted</th>\n      <th>is_captain</th>\n    </tr>\n  </thead>\n  <tbody>\n    <tr>\n      <th>0</th>\n      <td>2009/2010</td>\n      <td>Aaron Hughes</td>\n      <td>Fulham</td>\n      <td>15</td>\n      <td>0.348000</td>\n      <td>7.077333</td>\n      <td>6.729333</td>\n      <td>23909</td>\n      <td>25700</td>\n      <td>Roy Hodgson</td>\n      <td>Danny Murphy</td>\n      <td>False</td>\n      <td>False</td>\n    </tr>\n    <tr>\n      <th>1</th>\n      <td>2009/2010</td>\n      <td>Bobby Zamora</td>\n      <td>Fulham</td>\n      <td>10</td>\n      <td>0.547000</td>\n      <td>7.399000</td>\n      <td>6.852000</td>\n      <td>23909</td>\n      <td>25700</td>\n      <td>Roy Hodgson</td>\n      <td>Danny Murphy</td>\n      <td>False</td>\n      <td>False</td>\n    </tr>\n    <tr>\n      <th>2</th>\n      <td>2009/2010</td>\n      <td>Brede Hangeland</td>\n      <td>Fulham</td>\n      <td>13</td>\n      <td>0.483077</td>\n      <td>7.486923</td>\n      <td>7.003846</td>\n      <td>23909</td>\n      <td>25700</td>\n      <td>Roy Hodgson</td>\n      <td>Danny Murphy</td>\n      <td>False</td>\n      <td>False</td>\n    </tr>\n    <tr>\n      <th>3</th>\n      <td>2009/2010</td>\n      <td>Chris Baird</td>\n      <td>Fulham</td>\n      <td>10</td>\n      <td>0.172000</td>\n      <td>7.277000</td>\n      <td>7.105000</td>\n      <td>23909</td>\n      <td>25700</td>\n      <td>Roy Hodgson</td>\n      <td>Danny Murphy</td>\n      <td>False</td>\n      <td>False</td>\n    </tr>\n    <tr>\n      <th>4</th>\n      <td>2009/2010</td>\n      <td>Clint Dempsey</td>\n      <td>Fulham</td>\n      <td>8</td>\n      <td>0.720000</td>\n      <td>7.628750</td>\n      <td>6.908750</td>\n      <td>23909</td>\n      <td>25700</td>\n      <td>Roy Hodgson</td>\n      <td>Danny Murphy</td>\n      <td>False</td>\n      <td>False</td>\n    </tr>\n  </tbody>\n</table>\n</div>"
     },
     "execution_count": 42,
     "metadata": {},
     "output_type": "execute_result"
    }
   ],
   "source": [
    "hra_tc_merged.head()"
   ],
   "metadata": {
    "collapsed": false,
    "ExecuteTime": {
     "end_time": "2023-06-17T13:11:02.646804Z",
     "start_time": "2023-06-17T13:11:02.228311Z"
    }
   }
  },
  {
   "cell_type": "markdown",
   "source": [
    "### Combining HRA, TC and PC"
   ],
   "metadata": {
    "collapsed": false
   }
  },
  {
   "cell_type": "code",
   "execution_count": 43,
   "outputs": [],
   "source": [
    "hra_and_tc = hra_tc_merged.copy()"
   ],
   "metadata": {
    "collapsed": false,
    "ExecuteTime": {
     "end_time": "2023-06-17T13:11:02.647079Z",
     "start_time": "2023-06-17T13:11:02.233118Z"
    }
   }
  },
  {
   "cell_type": "code",
   "execution_count": 44,
   "outputs": [
    {
     "name": "stdout",
     "output_type": "stream",
     "text": [
      "<class 'pandas.core.frame.DataFrame'>\n",
      "RangeIndex: 10233 entries, 0 to 10232\n",
      "Data columns (total 14 columns):\n",
      " #   Column             Non-Null Count  Dtype  \n",
      "---  ------             --------------  -----  \n",
      " 0   season             10233 non-null  object \n",
      " 1   player_name        10233 non-null  object \n",
      " 2   team               10233 non-null  object \n",
      " 3   player_rating      10233 non-null  int64  \n",
      " 4   position           10233 non-null  object \n",
      " 5   nation             10233 non-null  object \n",
      " 6   league             10233 non-null  object \n",
      " 7   skill_moves        9642 non-null   float64\n",
      " 8   weak_foot_quality  10233 non-null  int64  \n",
      " 9   work_rate_a        7229 non-null   object \n",
      " 10  work_rate_d        7229 non-null   object \n",
      " 11  player_height      10231 non-null  object \n",
      " 12  player_weight      9448 non-null   object \n",
      " 13  age                10233 non-null  int64  \n",
      "dtypes: float64(1), int64(3), object(10)\n",
      "memory usage: 1.1+ MB\n",
      "----------------------------------------------------------------------------------------------------\n",
      "Are the missing values: True\n"
     ]
    }
   ],
   "source": [
    "pc.info()\n",
    "print('-'*100)\n",
    "print(f'Are the missing values: {pc.isna().any().any()}')"
   ],
   "metadata": {
    "collapsed": false,
    "ExecuteTime": {
     "end_time": "2023-06-17T13:11:02.742875Z",
     "start_time": "2023-06-17T13:11:02.237021Z"
    }
   }
  },
  {
   "cell_type": "markdown",
   "source": [
    "#### Fix duplicate players"
   ],
   "metadata": {
    "collapsed": false
   }
  },
  {
   "cell_type": "code",
   "execution_count": 45,
   "outputs": [
    {
     "name": "stdout",
     "output_type": "stream",
     "text": [
      "(9980, 14)\n"
     ]
    }
   ],
   "source": [
    "pc.drop_duplicates(subset=['season', 'team', 'player_name'], keep='first', inplace=True, ignore_index=True)\n",
    "print(pc.shape)"
   ],
   "metadata": {
    "collapsed": false,
    "ExecuteTime": {
     "end_time": "2023-06-17T13:11:02.793750Z",
     "start_time": "2023-06-17T13:11:02.265194Z"
    }
   }
  },
  {
   "cell_type": "markdown",
   "source": [
    "#### Fix duplicate team names & match team names"
   ],
   "metadata": {
    "collapsed": false
   }
  },
  {
   "cell_type": "code",
   "execution_count": 46,
   "outputs": [
    {
     "name": "stdout",
     "output_type": "stream",
     "text": [
      "{'Norwich', 'West Ham', 'Newcastle Utd', 'Manchester Utd', 'AFC Bournemouth', 'Brighton', 'West Brom', 'Sheffield Utd', 'QPR', \"Nott'm Forest\", 'Wolves', 'Spurs'}\n",
      "----------------------------------------------------------------------------------------------------\n",
      "['Arsenal', 'Aston Villa', 'Birmingham City', 'Blackburn Rovers', 'Blackpool', 'Bolton Wanderers', 'Bournemouth', 'Brentford', 'Brighton & Hove Albion', 'Burnley', 'Cardiff City', 'Chelsea', 'Crystal Palace', 'Everton', 'Fulham', 'Huddersfield Town', 'Hull City', 'Leeds United', 'Leicester City', 'Liverpool', 'Manchester City', 'Manchester United', 'Middlesbrough', 'Newcastle United', 'Norwich City', 'Nottingham Forest', 'Portsmouth', 'Queens Park Rangers', 'Reading', 'Sheffield United', 'Southampton', 'Stoke City', 'Sunderland', 'Swansea City', 'Tottenham Hotspur', 'Watford', 'West Bromwich Albion', 'West Ham United', 'Wigan Athletic', 'Wolverhampton Wanderers']\n"
     ]
    }
   ],
   "source": [
    "# get a list of team names that is not recognized by the hra_and_tc dataframe\n",
    "teams_not_recognized = set(sorted(pc['team'].sort_values().unique().tolist()))-set(sorted(hra_and_tc['team_name'].sort_values().unique().tolist()))\n",
    "\n",
    "# get a list of team names from the hra_and_tc dataframe\n",
    "recognized_teams = hra_and_tc['team_name'].sort_values().unique().tolist()\n",
    "\n",
    "print(teams_not_recognized)\n",
    "print('-'*100)\n",
    "print(recognized_teams)"
   ],
   "metadata": {
    "collapsed": false,
    "ExecuteTime": {
     "end_time": "2023-06-17T13:11:02.794167Z",
     "start_time": "2023-06-17T13:11:02.281569Z"
    }
   }
  },
  {
   "cell_type": "code",
   "execution_count": 47,
   "outputs": [
    {
     "name": "stdout",
     "output_type": "stream",
     "text": [
      "set()\n"
     ]
    }
   ],
   "source": [
    "pc_team_name_replacement_dic = {'AFC Bournemouth': 'Bournemouth', 'Brighton': 'Brighton & Hove Albion',\n",
    "                                'Manchester Utd': 'Manchester United', 'Newcastle Utd': 'Newcastle United',\n",
    "                                'Norwich': 'Norwich City', 'Nott\\'m Forest': 'Nottingham Forest',\n",
    "                                'Sheffield Utd': 'Sheffield United', 'Spurs': 'Tottenham Hotspur',\n",
    "                                'West Brom': 'West Bromwich Albion', 'West Ham': 'West Ham United',\n",
    "                                'Wolves': 'Wolverhampton Wanderers', 'QPR': 'Queens Park Rangers'}\n",
    "\n",
    "pc['team'].replace(pc_team_name_replacement_dic, inplace=True)\n",
    "\n",
    "# check that now all team names match between the two dataframes\n",
    "pc_unique_team_names = set(sorted(pc['team'].sort_values().unique().tolist()))\n",
    "hra_and_tc_unique_team_names = set(sorted(hra_and_tc['team_name'].sort_values().unique().tolist()))\n",
    "print(hra_and_tc_unique_team_names-pc_unique_team_names)"
   ],
   "metadata": {
    "collapsed": false,
    "ExecuteTime": {
     "end_time": "2023-06-17T13:11:02.795107Z",
     "start_time": "2023-06-17T13:11:02.289378Z"
    }
   }
  },
  {
   "cell_type": "markdown",
   "source": [
    "#### Fix duplicate nation names"
   ],
   "metadata": {
    "collapsed": false
   }
  },
  {
   "cell_type": "code",
   "execution_count": 48,
   "outputs": [
    {
     "data": {
      "text/plain": "array(['Albania', 'Algeria', 'Antigua & Barbuda', 'Antigua and Barbuda',\n       'Argentina', 'Armenia', 'Australia', 'Austria', 'Azerbaijan',\n       'Barbados', 'Belarus', 'Belgium', 'Benin', 'Bermuda', 'Bolivia',\n       'Bosnia Herzegovina', 'Bosnia and Herzegovina', 'Brazil',\n       'Brunei Darussalam', 'Bulgaria', 'Burkina Faso', 'Burundi',\n       'Cameroon', 'Canada', 'Chile', 'Colombia', 'Congo', 'Congo DR',\n       'Costa Rica', 'Croatia', 'Cuba', 'Curaçao', 'Cyprus',\n       'Czech Republic', \"Côte d'Ivoire\", 'DR Congo', 'Denmark',\n       'Ecuador', 'Egypt', 'England', 'Equatorial Guinea', 'Estonia',\n       'FYR Macedonia', 'Faroe Islands', 'Finland', 'France', 'Gabon',\n       'Gambia', 'Georgia', 'Germany', 'Ghana', 'Greece', 'Grenada',\n       'Guinea', 'Guinea Bissau', 'Holland', 'Honduras', 'Hungary',\n       'Iceland', 'Iran', 'Israel', 'Italy', 'Ivory Coast', 'Jamaica',\n       'Japan', 'Kenya', 'Korea Republic', 'Kosovo', 'Latvia', 'Liberia',\n       'Lithuania', 'Luxembourg', 'Mali', 'Mexico', 'Montenegro',\n       'Montserrat', 'Morocco', 'Netherlands', 'Netherlands Antilles',\n       'New Zealand', 'Nigeria', 'Northern Ireland', 'Norway', 'Oman',\n       'Paraguay', 'Peru', 'Philippines', 'Poland', 'Portugal',\n       'Republic of Ireland', 'Romania', 'Russia', 'Scotland', 'Senegal',\n       'Serbia', 'Sierra Leone', 'Singapore', 'Slovakia', 'Slovenia',\n       'South Africa', 'Spain', 'St Lucia', 'St. Kitts and Nevis',\n       'St. Lucia', 'Sweden', 'Switzerland', 'Tanzania', 'Thailand',\n       'Togo', 'Trinidad & Tobago', 'Tunisia', 'Turkey', 'Ukraine',\n       'United States', 'Uruguay', 'Venezuela', 'Wales', 'Zambia',\n       'Zimbabwe'], dtype=object)"
     },
     "execution_count": 48,
     "metadata": {},
     "output_type": "execute_result"
    }
   ],
   "source": [
    "pc['nation'].sort_values().unique()"
   ],
   "metadata": {
    "collapsed": false,
    "ExecuteTime": {
     "end_time": "2023-06-17T13:11:02.795793Z",
     "start_time": "2023-06-17T13:11:02.306581Z"
    }
   }
  },
  {
   "cell_type": "code",
   "execution_count": 49,
   "outputs": [
    {
     "data": {
      "text/plain": "array(['Albania', 'Algeria', 'Antigua and Barbuda', 'Argentina',\n       'Armenia', 'Australia', 'Austria', 'Azerbaijan', 'Barbados',\n       'Belarus', 'Belgium', 'Benin', 'Bermuda', 'Bolivia',\n       'Bosnia and Herzegovina', 'Brazil', 'Brunei Darussalam',\n       'Bulgaria', 'Burkina Faso', 'Burundi', 'Cameroon', 'Canada',\n       'Chile', 'Colombia', 'Congo', 'Costa Rica', 'Croatia', 'Cuba',\n       'Curaçao', 'Cyprus', 'Czech Republic', \"Côte d'Ivoire\", 'DR Congo',\n       'Denmark', 'Ecuador', 'Egypt', 'England', 'Equatorial Guinea',\n       'Estonia', 'FYR Macedonia', 'Faroe Islands', 'Finland', 'France',\n       'Gabon', 'Gambia', 'Georgia', 'Germany', 'Ghana', 'Greece',\n       'Grenada', 'Guinea', 'Guinea Bissau', 'Honduras', 'Hungary',\n       'Iceland', 'Iran', 'Israel', 'Italy', 'Ivory Coast', 'Jamaica',\n       'Japan', 'Kenya', 'Korea Republic', 'Kosovo', 'Latvia', 'Liberia',\n       'Lithuania', 'Luxembourg', 'Mali', 'Mexico', 'Montenegro',\n       'Montserrat', 'Morocco', 'Netherlands', 'Netherlands Antilles',\n       'New Zealand', 'Nigeria', 'Northern Ireland', 'Norway', 'Oman',\n       'Paraguay', 'Peru', 'Philippines', 'Poland', 'Portugal',\n       'Republic of Ireland', 'Romania', 'Russia', 'Scotland', 'Senegal',\n       'Serbia', 'Sierra Leone', 'Singapore', 'Slovakia', 'Slovenia',\n       'South Africa', 'Spain', 'St. Kitts and Nevis', 'St. Lucia',\n       'Sweden', 'Switzerland', 'Tanzania', 'Thailand', 'Togo',\n       'Trinidad & Tobago', 'Tunisia', 'Turkey', 'Ukraine',\n       'United States', 'Uruguay', 'Venezuela', 'Wales', 'Zambia',\n       'Zimbabwe'], dtype=object)"
     },
     "execution_count": 49,
     "metadata": {},
     "output_type": "execute_result"
    }
   ],
   "source": [
    "nation_replacement_dic = {'Antigua & Barbuda': 'Antigua and Barbuda', 'Bosnia Herzegovina': 'Bosnia and Herzegovina',\n",
    "                          'Congo DR': 'DR Congo', 'Holland': 'Netherlands', 'St Lucia': 'St. Lucia'}\n",
    "\n",
    "pc['nation'].replace(nation_replacement_dic, inplace=True)\n",
    "\n",
    "# check that now duplicates are gone\n",
    "pc['nation'].sort_values().unique()"
   ],
   "metadata": {
    "collapsed": false,
    "ExecuteTime": {
     "end_time": "2023-06-17T13:11:02.796286Z",
     "start_time": "2023-06-17T13:11:02.318497Z"
    }
   }
  },
  {
   "cell_type": "markdown",
   "source": [
    "#### Creating position column"
   ],
   "metadata": {
    "collapsed": false
   }
  },
  {
   "cell_type": "code",
   "execution_count": 50,
   "outputs": [
    {
     "name": "stdout",
     "output_type": "stream",
     "text": [
      "['CAM', 'ST', 'CF', 'GK', 'CM', 'CB', 'LW', 'RB', 'CDM', 'LWB', 'LM', 'RW', 'RWB', 'RF', 'LB', 'RM', 'LF']\n"
     ]
    }
   ],
   "source": [
    "print(pc['position'].unique().tolist())  # see the unique values of specific positions"
   ],
   "metadata": {
    "collapsed": false,
    "ExecuteTime": {
     "end_time": "2023-06-17T13:11:02.796887Z",
     "start_time": "2023-06-17T13:11:02.333096Z"
    }
   }
  },
  {
   "cell_type": "code",
   "execution_count": 51,
   "outputs": [],
   "source": [
    "def extract_basic_position_from(specific_position):\n",
    "    goalkeeper_values = ['GK']\n",
    "    defender_values = ['CB', 'RB', 'LWB', 'RWB', 'LB', ]\n",
    "    midfielder_values = ['CAM', 'CM', 'CDM', 'LM', 'RM', ]\n",
    "    attacker_values = ['ST', 'CF', 'LW', 'RW', 'RF', 'LF']\n",
    "\n",
    "    if specific_position in goalkeeper_values:\n",
    "        result = 'goalkeeper'\n",
    "    elif specific_position in defender_values:\n",
    "        result = 'defender'\n",
    "    elif specific_position in midfielder_values:\n",
    "        result = 'midfielder'\n",
    "    elif specific_position in attacker_values:\n",
    "        result = 'attacker'\n",
    "    else:\n",
    "        result = np.nan\n",
    "\n",
    "    return result\n",
    "\n",
    "\n",
    "pc['basic_position'] = pc['position'].apply(extract_basic_position_from)"
   ],
   "metadata": {
    "collapsed": false,
    "ExecuteTime": {
     "end_time": "2023-06-17T13:11:02.797153Z",
     "start_time": "2023-06-17T13:11:02.344972Z"
    }
   }
  },
  {
   "cell_type": "code",
   "execution_count": 52,
   "outputs": [
    {
     "data": {
      "text/plain": "      season       player_name               team  player_rating position  \\\n0  2009/2010    Steven Gerrard          Liverpool             90      CAM   \n1  2009/2010   Fernando Torres          Liverpool             89       ST   \n2  2009/2010      Wayne Rooney  Manchester United             89       CF   \n3  2009/2010  Robin van Persie            Arsenal             88       CF   \n4  2009/2010        José Reina          Liverpool             88       GK   \n\n        nation league  skill_moves  weak_foot_quality work_rate_a work_rate_d  \\\n0      England    EPL          NaN                  4         NaN         NaN   \n1        Spain    EPL          NaN                  4         NaN         NaN   \n2      England    EPL          NaN                  4         NaN         NaN   \n3  Netherlands    EPL          NaN                  4         NaN         NaN   \n4        Spain    EPL          NaN                  5         NaN         NaN   \n\n  player_height player_weight  age basic_position  \n0         183cm          79kg   29     midfielder  \n1         185cm          78kg   26       attacker  \n2         177cm          79kg   24       attacker  \n3         183cm          71kg   26       attacker  \n4         188cm          92kg   27     goalkeeper  ",
      "text/html": "<div>\n<style scoped>\n    .dataframe tbody tr th:only-of-type {\n        vertical-align: middle;\n    }\n\n    .dataframe tbody tr th {\n        vertical-align: top;\n    }\n\n    .dataframe thead th {\n        text-align: right;\n    }\n</style>\n<table border=\"1\" class=\"dataframe\">\n  <thead>\n    <tr style=\"text-align: right;\">\n      <th></th>\n      <th>season</th>\n      <th>player_name</th>\n      <th>team</th>\n      <th>player_rating</th>\n      <th>position</th>\n      <th>nation</th>\n      <th>league</th>\n      <th>skill_moves</th>\n      <th>weak_foot_quality</th>\n      <th>work_rate_a</th>\n      <th>work_rate_d</th>\n      <th>player_height</th>\n      <th>player_weight</th>\n      <th>age</th>\n      <th>basic_position</th>\n    </tr>\n  </thead>\n  <tbody>\n    <tr>\n      <th>0</th>\n      <td>2009/2010</td>\n      <td>Steven Gerrard</td>\n      <td>Liverpool</td>\n      <td>90</td>\n      <td>CAM</td>\n      <td>England</td>\n      <td>EPL</td>\n      <td>NaN</td>\n      <td>4</td>\n      <td>NaN</td>\n      <td>NaN</td>\n      <td>183cm</td>\n      <td>79kg</td>\n      <td>29</td>\n      <td>midfielder</td>\n    </tr>\n    <tr>\n      <th>1</th>\n      <td>2009/2010</td>\n      <td>Fernando Torres</td>\n      <td>Liverpool</td>\n      <td>89</td>\n      <td>ST</td>\n      <td>Spain</td>\n      <td>EPL</td>\n      <td>NaN</td>\n      <td>4</td>\n      <td>NaN</td>\n      <td>NaN</td>\n      <td>185cm</td>\n      <td>78kg</td>\n      <td>26</td>\n      <td>attacker</td>\n    </tr>\n    <tr>\n      <th>2</th>\n      <td>2009/2010</td>\n      <td>Wayne Rooney</td>\n      <td>Manchester United</td>\n      <td>89</td>\n      <td>CF</td>\n      <td>England</td>\n      <td>EPL</td>\n      <td>NaN</td>\n      <td>4</td>\n      <td>NaN</td>\n      <td>NaN</td>\n      <td>177cm</td>\n      <td>79kg</td>\n      <td>24</td>\n      <td>attacker</td>\n    </tr>\n    <tr>\n      <th>3</th>\n      <td>2009/2010</td>\n      <td>Robin van Persie</td>\n      <td>Arsenal</td>\n      <td>88</td>\n      <td>CF</td>\n      <td>Netherlands</td>\n      <td>EPL</td>\n      <td>NaN</td>\n      <td>4</td>\n      <td>NaN</td>\n      <td>NaN</td>\n      <td>183cm</td>\n      <td>71kg</td>\n      <td>26</td>\n      <td>attacker</td>\n    </tr>\n    <tr>\n      <th>4</th>\n      <td>2009/2010</td>\n      <td>José Reina</td>\n      <td>Liverpool</td>\n      <td>88</td>\n      <td>GK</td>\n      <td>Spain</td>\n      <td>EPL</td>\n      <td>NaN</td>\n      <td>5</td>\n      <td>NaN</td>\n      <td>NaN</td>\n      <td>188cm</td>\n      <td>92kg</td>\n      <td>27</td>\n      <td>goalkeeper</td>\n    </tr>\n  </tbody>\n</table>\n</div>"
     },
     "execution_count": 52,
     "metadata": {},
     "output_type": "execute_result"
    }
   ],
   "source": [
    "pc.head()"
   ],
   "metadata": {
    "collapsed": false,
    "ExecuteTime": {
     "end_time": "2023-06-17T13:11:03.362194Z",
     "start_time": "2023-06-17T13:11:02.354674Z"
    }
   }
  },
  {
   "cell_type": "markdown",
   "source": [
    "#### Matching player names"
   ],
   "metadata": {
    "collapsed": false
   }
  },
  {
   "cell_type": "code",
   "execution_count": 53,
   "outputs": [],
   "source": [
    "hra_and_tc['player_name'].replace({'John Pantsil': 'John Paintsil'}, inplace=True)  # mistake in the hra_and_tc dataframe apparently"
   ],
   "metadata": {
    "collapsed": false,
    "ExecuteTime": {
     "end_time": "2023-06-17T13:11:03.362442Z",
     "start_time": "2023-06-17T13:11:02.365668Z"
    }
   }
  },
  {
   "cell_type": "code",
   "execution_count": 54,
   "outputs": [
    {
     "name": "stdout",
     "output_type": "stream",
     "text": [
      "4145\n",
      "1522\n"
     ]
    }
   ],
   "source": [
    "pc['player_name'] = pc['player_name'].apply(unidecode)\n",
    "pc_player_names_set = set(pc['player_name'].unique().tolist())\n",
    "hra_tc_player_names_set = set(hra_tc_merged['player_name'].unique().tolist())\n",
    "\n",
    "print(len(pc_player_names_set))\n",
    "print(len(hra_tc_player_names_set))"
   ],
   "metadata": {
    "collapsed": false,
    "ExecuteTime": {
     "end_time": "2023-06-17T13:11:03.362636Z",
     "start_time": "2023-06-17T13:11:02.375332Z"
    }
   }
  },
  {
   "cell_type": "code",
   "execution_count": 55,
   "outputs": [
    {
     "name": "stdout",
     "output_type": "stream",
     "text": [
      "2764\n",
      "141\n"
     ]
    }
   ],
   "source": [
    "difference_1 = pc_player_names_set - hra_tc_player_names_set\n",
    "difference_2 = hra_tc_player_names_set - pc_player_names_set\n",
    "\n",
    "print(len(difference_1))\n",
    "print(len(difference_2))"
   ],
   "metadata": {
    "collapsed": false,
    "ExecuteTime": {
     "end_time": "2023-06-17T13:11:03.362854Z",
     "start_time": "2023-06-17T13:11:02.388741Z"
    }
   }
  },
  {
   "cell_type": "code",
   "execution_count": 56,
   "outputs": [
    {
     "name": "stdout",
     "output_type": "stream",
     "text": [
      "2009/2010: 35\n",
      "2010/2011: 39\n",
      "2011/2012: 57\n",
      "2012/2013: 39\n",
      "2013/2014: 31\n",
      "2014/2015: 22\n",
      "2015/2016: 280\n",
      "2016/2017: 289\n",
      "2017/2018: 21\n",
      "2018/2019: 25\n",
      "2019/2020: 23\n",
      "2020/2021: 48\n",
      "2021/2022: 42\n",
      "2022/2023: 32\n",
      "983\n"
     ]
    }
   ],
   "source": [
    "count = 0\n",
    "seasons = list(range(2009,2023))\n",
    "result = []\n",
    "for season in seasons:\n",
    "    season_string = f'{season}/{season+1}'\n",
    "    pc_s = pc.loc[pc['season']==season_string]\n",
    "    hra_s = hra_and_tc.loc[hra_and_tc['season']==season_string]\n",
    "    pc_s_set = set(pc_s['player_name'].unique().tolist())\n",
    "    hra_s_set = set(hra_s['player_name'].unique().tolist())\n",
    "    diff_1 = pc_s_set-hra_s_set\n",
    "    diff_2 = hra_s_set-pc_s_set\n",
    "    result.append(diff_2)\n",
    "    print(f'{season_string}: {len(diff_2)}')\n",
    "    count += len(diff_2)\n",
    "print(count)"
   ],
   "metadata": {
    "collapsed": false,
    "ExecuteTime": {
     "end_time": "2023-06-17T13:11:03.494591Z",
     "start_time": "2023-06-17T13:11:02.399203Z"
    }
   }
  },
  {
   "cell_type": "code",
   "execution_count": 57,
   "outputs": [],
   "source": [
    "pc.rename(columns={'team': 'team_name'}, inplace=True)"
   ],
   "metadata": {
    "collapsed": false,
    "ExecuteTime": {
     "end_time": "2023-06-17T13:11:03.521466Z",
     "start_time": "2023-06-17T13:11:02.440592Z"
    }
   }
  },
  {
   "cell_type": "code",
   "execution_count": 58,
   "outputs": [
    {
     "data": {
      "text/plain": "      season       player_name          team_name  player_rating position  \\\n0  2009/2010    Steven Gerrard          Liverpool             90      CAM   \n1  2009/2010   Fernando Torres          Liverpool             89       ST   \n2  2009/2010      Wayne Rooney  Manchester United             89       CF   \n3  2009/2010  Robin van Persie            Arsenal             88       CF   \n4  2009/2010        Jose Reina          Liverpool             88       GK   \n\n        nation league  skill_moves  weak_foot_quality work_rate_a work_rate_d  \\\n0      England    EPL          NaN                  4         NaN         NaN   \n1        Spain    EPL          NaN                  4         NaN         NaN   \n2      England    EPL          NaN                  4         NaN         NaN   \n3  Netherlands    EPL          NaN                  4         NaN         NaN   \n4        Spain    EPL          NaN                  5         NaN         NaN   \n\n  player_height player_weight  age basic_position  \n0         183cm          79kg   29     midfielder  \n1         185cm          78kg   26       attacker  \n2         177cm          79kg   24       attacker  \n3         183cm          71kg   26       attacker  \n4         188cm          92kg   27     goalkeeper  ",
      "text/html": "<div>\n<style scoped>\n    .dataframe tbody tr th:only-of-type {\n        vertical-align: middle;\n    }\n\n    .dataframe tbody tr th {\n        vertical-align: top;\n    }\n\n    .dataframe thead th {\n        text-align: right;\n    }\n</style>\n<table border=\"1\" class=\"dataframe\">\n  <thead>\n    <tr style=\"text-align: right;\">\n      <th></th>\n      <th>season</th>\n      <th>player_name</th>\n      <th>team_name</th>\n      <th>player_rating</th>\n      <th>position</th>\n      <th>nation</th>\n      <th>league</th>\n      <th>skill_moves</th>\n      <th>weak_foot_quality</th>\n      <th>work_rate_a</th>\n      <th>work_rate_d</th>\n      <th>player_height</th>\n      <th>player_weight</th>\n      <th>age</th>\n      <th>basic_position</th>\n    </tr>\n  </thead>\n  <tbody>\n    <tr>\n      <th>0</th>\n      <td>2009/2010</td>\n      <td>Steven Gerrard</td>\n      <td>Liverpool</td>\n      <td>90</td>\n      <td>CAM</td>\n      <td>England</td>\n      <td>EPL</td>\n      <td>NaN</td>\n      <td>4</td>\n      <td>NaN</td>\n      <td>NaN</td>\n      <td>183cm</td>\n      <td>79kg</td>\n      <td>29</td>\n      <td>midfielder</td>\n    </tr>\n    <tr>\n      <th>1</th>\n      <td>2009/2010</td>\n      <td>Fernando Torres</td>\n      <td>Liverpool</td>\n      <td>89</td>\n      <td>ST</td>\n      <td>Spain</td>\n      <td>EPL</td>\n      <td>NaN</td>\n      <td>4</td>\n      <td>NaN</td>\n      <td>NaN</td>\n      <td>185cm</td>\n      <td>78kg</td>\n      <td>26</td>\n      <td>attacker</td>\n    </tr>\n    <tr>\n      <th>2</th>\n      <td>2009/2010</td>\n      <td>Wayne Rooney</td>\n      <td>Manchester United</td>\n      <td>89</td>\n      <td>CF</td>\n      <td>England</td>\n      <td>EPL</td>\n      <td>NaN</td>\n      <td>4</td>\n      <td>NaN</td>\n      <td>NaN</td>\n      <td>177cm</td>\n      <td>79kg</td>\n      <td>24</td>\n      <td>attacker</td>\n    </tr>\n    <tr>\n      <th>3</th>\n      <td>2009/2010</td>\n      <td>Robin van Persie</td>\n      <td>Arsenal</td>\n      <td>88</td>\n      <td>CF</td>\n      <td>Netherlands</td>\n      <td>EPL</td>\n      <td>NaN</td>\n      <td>4</td>\n      <td>NaN</td>\n      <td>NaN</td>\n      <td>183cm</td>\n      <td>71kg</td>\n      <td>26</td>\n      <td>attacker</td>\n    </tr>\n    <tr>\n      <th>4</th>\n      <td>2009/2010</td>\n      <td>Jose Reina</td>\n      <td>Liverpool</td>\n      <td>88</td>\n      <td>GK</td>\n      <td>Spain</td>\n      <td>EPL</td>\n      <td>NaN</td>\n      <td>5</td>\n      <td>NaN</td>\n      <td>NaN</td>\n      <td>188cm</td>\n      <td>92kg</td>\n      <td>27</td>\n      <td>goalkeeper</td>\n    </tr>\n  </tbody>\n</table>\n</div>"
     },
     "execution_count": 58,
     "metadata": {},
     "output_type": "execute_result"
    }
   ],
   "source": [
    "pc.head()"
   ],
   "metadata": {
    "collapsed": false,
    "ExecuteTime": {
     "end_time": "2023-06-17T13:11:03.522077Z",
     "start_time": "2023-06-17T13:11:02.452083Z"
    }
   }
  },
  {
   "cell_type": "code",
   "execution_count": 59,
   "outputs": [],
   "source": [
    "###############################################################################################\n",
    "# the cells enclosed by the hashtag symbols will ask for user input"
   ],
   "metadata": {
    "collapsed": false,
    "ExecuteTime": {
     "end_time": "2023-06-17T13:11:03.539955Z",
     "start_time": "2023-06-17T13:11:02.457483Z"
    }
   }
  },
  {
   "cell_type": "code",
   "execution_count": 60,
   "outputs": [],
   "source": [
    "replacement_dics = []\n",
    "failed_to_replace = []"
   ],
   "metadata": {
    "collapsed": false,
    "ExecuteTime": {
     "end_time": "2023-06-17T13:11:03.540369Z",
     "start_time": "2023-06-17T13:11:02.461582Z"
    }
   }
  },
  {
   "cell_type": "code",
   "execution_count": 61,
   "outputs": [],
   "source": [
    "def replace_unmatched_player_names(season):\n",
    "    season_string = f'{season}/{season+1}'\n",
    "    replacement_list = []\n",
    "    to_be_replaced = []\n",
    "    hra_failed_to_replace = []\n",
    "\n",
    "    pc_df = pc.loc[pc['season']==season_string].copy()\n",
    "    hra_tc_df = hra_and_tc.loc[hra_and_tc['season']==season_string]\n",
    "    pc_df_set = set(pc_df['player_name'].unique().tolist())\n",
    "    hra_tc_set = set(hra_tc_df['player_name'].unique().tolist())\n",
    "    missing_names_pc = sorted(hra_tc_set-pc_df_set)\n",
    "\n",
    "    hra_tc_df_missing = hra_tc_df.loc[hra_tc_df['player_name'].isin(missing_names_pc)]\n",
    "\n",
    "    for index, row in hra_tc_df_missing.iterrows():\n",
    "        replacement_name_split_check = [row['player_name'].split(' ')[0], row['player_name'].split(' ')[-1]]\n",
    "\n",
    "        def get_filt_2(player_name):\n",
    "            if player_name in replacement_name:\n",
    "                return True\n",
    "            else:\n",
    "                return False\n",
    "\n",
    "        def get_filt_3(player_name):\n",
    "            player_name_list = player_name.split(' ')\n",
    "            if replacement_name_split_check[0] in player_name_list or replacement_name_split_check[1] in player_name_list:\n",
    "                return True\n",
    "            else:\n",
    "                return False\n",
    "\n",
    "        season = row['season']\n",
    "        team_name = row['team_name']\n",
    "        replacement_name = row['player_name']\n",
    "\n",
    "        pc_to_be_replaced = pc_df.loc[pc_df['team_name']==team_name]\n",
    "        name_filt_1 = pc_to_be_replaced['player_name'].str.contains(replacement_name)\n",
    "        name_filt_2 = pc_to_be_replaced['player_name'].apply(get_filt_2)\n",
    "        name_filt_3 = pc_to_be_replaced['player_name'].apply(get_filt_3)\n",
    "        df = pc_to_be_replaced.loc[(name_filt_1) | (name_filt_2) | (name_filt_3)]\n",
    "        if df.shape[0] == 0:\n",
    "            hra_failed_to_replace.append((season, team_name, replacement_name))\n",
    "        elif df.shape[0]==1:\n",
    "            replacement_list.append(replacement_name)\n",
    "            to_be_replaced.append(df['player_name'].values[0])\n",
    "        else:\n",
    "            replacement_list.append(replacement_name)\n",
    "            possible_names = df['player_name'].values\n",
    "            number_name_to_add = input(f'original name: {replacement_name}, possible replacements: {possible_names}, please enter number for name to add (starting at 0): ')\n",
    "            to_be_replaced.append(possible_names[int(number_name_to_add)])\n",
    "\n",
    "    failed_to_replace.append(hra_failed_to_replace)\n",
    "    pc_replacement_dic = dict(zip(to_be_replaced, replacement_list))\n",
    "    replacement_dics.append(pc_replacement_dic)\n",
    "    pc_df['player_name'].replace(pc_replacement_dic, inplace=True)\n",
    "    pc.loc[pc['season']==season_string] = pc_df"
   ],
   "metadata": {
    "collapsed": false,
    "ExecuteTime": {
     "end_time": "2023-06-17T13:11:03.540530Z",
     "start_time": "2023-06-17T13:11:02.475506Z"
    }
   }
  },
  {
   "cell_type": "code",
   "execution_count": 62,
   "outputs": [],
   "source": [
    "if wrangle_data:\n",
    "    replace_unmatched_player_names(2009)\n",
    "    replace_unmatched_player_names(2010)\n",
    "    replace_unmatched_player_names(2011)\n",
    "    replace_unmatched_player_names(2012)\n",
    "    replace_unmatched_player_names(2013)\n",
    "    replace_unmatched_player_names(2014)\n",
    "    replace_unmatched_player_names(2015)\n",
    "    replace_unmatched_player_names(2016)\n",
    "    replace_unmatched_player_names(2017)\n",
    "    replace_unmatched_player_names(2018)\n",
    "    replace_unmatched_player_names(2019)\n",
    "    replace_unmatched_player_names(2020)\n",
    "    replace_unmatched_player_names(2021)\n",
    "    replace_unmatched_player_names(2022)"
   ],
   "metadata": {
    "collapsed": false,
    "ExecuteTime": {
     "end_time": "2023-06-17T13:11:03.540712Z",
     "start_time": "2023-06-17T13:11:02.481408Z"
    }
   }
  },
  {
   "cell_type": "code",
   "execution_count": 63,
   "outputs": [],
   "source": [
    "replacement_dic_v2 = {'Alex Rodrigo Dias da Costa': 'Deco', 'Javier Hernandez': 'Chicharito', 'Gervais Yao Kouassi': 'Gervinho',\n",
    "                      'Miguel Perez Cuesta': 'Michu', 'Ahmed Elmohamady': 'Ahmed El Mohamady', 'Mathias Jorgensen': 'Zanka',\n",
    "                      'Luiz Frello Filho Jorge': 'Jorginho', 'Raphael Dias Belloli': 'Raphinha'}\n",
    "\n",
    "pc['player_name'].replace(replacement_dic_v2, inplace=True)"
   ],
   "metadata": {
    "collapsed": false,
    "ExecuteTime": {
     "end_time": "2023-06-17T13:11:03.559431Z",
     "start_time": "2023-06-17T13:11:02.485472Z"
    }
   }
  },
  {
   "cell_type": "code",
   "execution_count": 64,
   "outputs": [],
   "source": [
    "###############################################################################################"
   ],
   "metadata": {
    "collapsed": false,
    "ExecuteTime": {
     "end_time": "2023-06-17T13:11:03.566398Z",
     "start_time": "2023-06-17T13:11:02.498353Z"
    }
   }
  },
  {
   "cell_type": "markdown",
   "source": [
    "#### Check for duplicate players once more\n",
    "I checked for duplicate players at the beginning of the section, however that was before normalizing the player names. So, do it again just to be sure. We do this because Futbin is not consistent in its naming with respect to special letters (e.g., ü)"
   ],
   "metadata": {
    "collapsed": false
   }
  },
  {
   "cell_type": "code",
   "execution_count": 65,
   "outputs": [
    {
     "data": {
      "text/plain": "         season    player_name          team_name  player_rating position  \\\n5429  2017/2018  Nemanja Matic  Manchester United             83      CDM   \n\n      nation league  skill_moves  weak_foot_quality work_rate_a work_rate_d  \\\n5429  Serbia    EPL          3.0                  3           M           H   \n\n     player_height player_weight  age basic_position  \n5429         194cm          85kg   29     midfielder  ",
      "text/html": "<div>\n<style scoped>\n    .dataframe tbody tr th:only-of-type {\n        vertical-align: middle;\n    }\n\n    .dataframe tbody tr th {\n        vertical-align: top;\n    }\n\n    .dataframe thead th {\n        text-align: right;\n    }\n</style>\n<table border=\"1\" class=\"dataframe\">\n  <thead>\n    <tr style=\"text-align: right;\">\n      <th></th>\n      <th>season</th>\n      <th>player_name</th>\n      <th>team_name</th>\n      <th>player_rating</th>\n      <th>position</th>\n      <th>nation</th>\n      <th>league</th>\n      <th>skill_moves</th>\n      <th>weak_foot_quality</th>\n      <th>work_rate_a</th>\n      <th>work_rate_d</th>\n      <th>player_height</th>\n      <th>player_weight</th>\n      <th>age</th>\n      <th>basic_position</th>\n    </tr>\n  </thead>\n  <tbody>\n    <tr>\n      <th>5429</th>\n      <td>2017/2018</td>\n      <td>Nemanja Matic</td>\n      <td>Manchester United</td>\n      <td>83</td>\n      <td>CDM</td>\n      <td>Serbia</td>\n      <td>EPL</td>\n      <td>3.0</td>\n      <td>3</td>\n      <td>M</td>\n      <td>H</td>\n      <td>194cm</td>\n      <td>85kg</td>\n      <td>29</td>\n      <td>midfielder</td>\n    </tr>\n  </tbody>\n</table>\n</div>"
     },
     "execution_count": 65,
     "metadata": {},
     "output_type": "execute_result"
    }
   ],
   "source": [
    "duplicate_filter = pc.duplicated(subset=['season', 'player_name', 'team_name'])\n",
    "pc.loc[duplicate_filter]"
   ],
   "metadata": {
    "collapsed": false,
    "ExecuteTime": {
     "end_time": "2023-06-17T13:11:03.583432Z",
     "start_time": "2023-06-17T13:11:02.505710Z"
    }
   }
  },
  {
   "cell_type": "code",
   "execution_count": 66,
   "outputs": [],
   "source": [
    "pc.drop_duplicates(subset=['season', 'player_name', 'team_name'], inplace=True)"
   ],
   "metadata": {
    "collapsed": false,
    "ExecuteTime": {
     "end_time": "2023-06-17T13:11:03.591267Z",
     "start_time": "2023-06-17T13:11:02.521622Z"
    }
   }
  },
  {
   "cell_type": "code",
   "execution_count": 67,
   "outputs": [
    {
     "name": "stdout",
     "output_type": "stream",
     "text": [
      "2009/2010: 34\n",
      "2010/2011: 37\n",
      "2011/2012: 55\n",
      "2012/2013: 36\n",
      "2013/2014: 28\n",
      "2014/2015: 21\n",
      "2015/2016: 280\n",
      "2016/2017: 289\n",
      "2017/2018: 19\n",
      "2018/2019: 22\n",
      "2019/2020: 21\n",
      "2020/2021: 46\n",
      "2021/2022: 39\n",
      "2022/2023: 32\n",
      "959\n"
     ]
    }
   ],
   "source": [
    "count = 0\n",
    "seasons = list(range(2009,2023))\n",
    "result = []\n",
    "for season in seasons:\n",
    "    season_string = f'{season}/{season+1}'\n",
    "    pc_s = pc.loc[pc['season']==season_string]\n",
    "    hra_s = hra_and_tc.loc[hra_and_tc['season']==season_string]\n",
    "    pc_s_set = set(pc_s['player_name'].unique().tolist())\n",
    "    hra_s_set = set(hra_s['player_name'].unique().tolist())\n",
    "    diff_1 = pc_s_set-hra_s_set\n",
    "    diff_2 = hra_s_set-pc_s_set\n",
    "    result.append(diff_2)\n",
    "    print(f'{season_string}: {len(diff_2)}')\n",
    "    count += len(diff_2)\n",
    "print(count)"
   ],
   "metadata": {
    "collapsed": false,
    "ExecuteTime": {
     "end_time": "2023-06-17T13:11:03.595414Z",
     "start_time": "2023-06-17T13:11:02.532099Z"
    }
   }
  },
  {
   "cell_type": "markdown",
   "source": [
    "#### Finalizing and Exporting the data"
   ],
   "metadata": {
    "collapsed": false
   }
  },
  {
   "cell_type": "code",
   "execution_count": 68,
   "outputs": [],
   "source": [
    "data = hra_and_tc.merge(pc, on=['season', 'player_name', 'team_name'], how='left', indicator=True)"
   ],
   "metadata": {
    "collapsed": false,
    "ExecuteTime": {
     "end_time": "2023-06-17T13:11:03.595649Z",
     "start_time": "2023-06-17T13:11:02.580822Z"
    }
   }
  },
  {
   "cell_type": "code",
   "execution_count": 69,
   "outputs": [
    {
     "data": {
      "text/plain": "      season      player_name team_name  observation_weight       hra  \\\n0  2009/2010     Aaron Hughes    Fulham                  15  0.348000   \n1  2009/2010     Bobby Zamora    Fulham                  10  0.547000   \n2  2009/2010  Brede Hangeland    Fulham                  13  0.483077   \n3  2009/2010      Chris Baird    Fulham                  10  0.172000   \n4  2009/2010    Clint Dempsey    Fulham                   8  0.720000   \n5  2009/2010      Damien Duff    Fulham                  12 -0.170000   \n6  2009/2010     Danny Murphy    Fulham                   6  0.143333   \n7  2009/2010    Dickson Etuhu    Fulham                   1  0.360000   \n8  2009/2010     Erik Nevland    Fulham                   2  0.410000   \n9  2009/2010    John Paintsil    Fulham                   4  0.495000   \n\n   average_home_rating  average_away_rating  average_home_attendance  \\\n0             7.077333             6.729333                    23909   \n1             7.399000             6.852000                    23909   \n2             7.486923             7.003846                    23909   \n3             7.277000             7.105000                    23909   \n4             7.628750             6.908750                    23909   \n5             7.117500             7.287500                    23909   \n6             7.171667             7.028333                    23909   \n7             6.910000             6.550000                    23909   \n8             6.425000             6.015000                    23909   \n9             7.142500             6.647500                    23909   \n\n   stadium_capacity manager_name  ... league  skill_moves  weak_foot_quality  \\\n0             25700  Roy Hodgson  ...    EPL          NaN                3.0   \n1             25700  Roy Hodgson  ...    EPL          NaN                3.0   \n2             25700  Roy Hodgson  ...    EPL          NaN                3.0   \n3             25700  Roy Hodgson  ...    EPL          NaN                3.0   \n4             25700  Roy Hodgson  ...    EPL          NaN                3.0   \n5             25700  Roy Hodgson  ...    EPL          NaN                3.0   \n6             25700  Roy Hodgson  ...    EPL          NaN                3.0   \n7             25700  Roy Hodgson  ...    EPL          NaN                3.0   \n8             25700  Roy Hodgson  ...    EPL          NaN                4.0   \n9             25700  Roy Hodgson  ...    NaN          NaN                NaN   \n\n   work_rate_a work_rate_d player_height player_weight   age  basic_position  \\\n0          NaN         NaN         183cm          72kg  30.0        defender   \n1          NaN         NaN         183cm          74kg  29.0        attacker   \n2          NaN         NaN         195cm          92kg  28.0        defender   \n3          NaN         NaN         179cm          72kg  28.0        defender   \n4          NaN         NaN         185cm          84kg  27.0      midfielder   \n5          NaN         NaN         175cm          77kg  31.0        attacker   \n6          NaN         NaN         175cm          69kg  33.0      midfielder   \n7          NaN         NaN         188cm          83kg  27.0      midfielder   \n8          NaN         NaN         177cm          70kg  32.0        attacker   \n9          NaN         NaN           NaN           NaN   NaN             NaN   \n\n      _merge  \n0       both  \n1       both  \n2       both  \n3       both  \n4       both  \n5       both  \n6       both  \n7       both  \n8       both  \n9  left_only  \n\n[10 rows x 26 columns]",
      "text/html": "<div>\n<style scoped>\n    .dataframe tbody tr th:only-of-type {\n        vertical-align: middle;\n    }\n\n    .dataframe tbody tr th {\n        vertical-align: top;\n    }\n\n    .dataframe thead th {\n        text-align: right;\n    }\n</style>\n<table border=\"1\" class=\"dataframe\">\n  <thead>\n    <tr style=\"text-align: right;\">\n      <th></th>\n      <th>season</th>\n      <th>player_name</th>\n      <th>team_name</th>\n      <th>observation_weight</th>\n      <th>hra</th>\n      <th>average_home_rating</th>\n      <th>average_away_rating</th>\n      <th>average_home_attendance</th>\n      <th>stadium_capacity</th>\n      <th>manager_name</th>\n      <th>...</th>\n      <th>league</th>\n      <th>skill_moves</th>\n      <th>weak_foot_quality</th>\n      <th>work_rate_a</th>\n      <th>work_rate_d</th>\n      <th>player_height</th>\n      <th>player_weight</th>\n      <th>age</th>\n      <th>basic_position</th>\n      <th>_merge</th>\n    </tr>\n  </thead>\n  <tbody>\n    <tr>\n      <th>0</th>\n      <td>2009/2010</td>\n      <td>Aaron Hughes</td>\n      <td>Fulham</td>\n      <td>15</td>\n      <td>0.348000</td>\n      <td>7.077333</td>\n      <td>6.729333</td>\n      <td>23909</td>\n      <td>25700</td>\n      <td>Roy Hodgson</td>\n      <td>...</td>\n      <td>EPL</td>\n      <td>NaN</td>\n      <td>3.0</td>\n      <td>NaN</td>\n      <td>NaN</td>\n      <td>183cm</td>\n      <td>72kg</td>\n      <td>30.0</td>\n      <td>defender</td>\n      <td>both</td>\n    </tr>\n    <tr>\n      <th>1</th>\n      <td>2009/2010</td>\n      <td>Bobby Zamora</td>\n      <td>Fulham</td>\n      <td>10</td>\n      <td>0.547000</td>\n      <td>7.399000</td>\n      <td>6.852000</td>\n      <td>23909</td>\n      <td>25700</td>\n      <td>Roy Hodgson</td>\n      <td>...</td>\n      <td>EPL</td>\n      <td>NaN</td>\n      <td>3.0</td>\n      <td>NaN</td>\n      <td>NaN</td>\n      <td>183cm</td>\n      <td>74kg</td>\n      <td>29.0</td>\n      <td>attacker</td>\n      <td>both</td>\n    </tr>\n    <tr>\n      <th>2</th>\n      <td>2009/2010</td>\n      <td>Brede Hangeland</td>\n      <td>Fulham</td>\n      <td>13</td>\n      <td>0.483077</td>\n      <td>7.486923</td>\n      <td>7.003846</td>\n      <td>23909</td>\n      <td>25700</td>\n      <td>Roy Hodgson</td>\n      <td>...</td>\n      <td>EPL</td>\n      <td>NaN</td>\n      <td>3.0</td>\n      <td>NaN</td>\n      <td>NaN</td>\n      <td>195cm</td>\n      <td>92kg</td>\n      <td>28.0</td>\n      <td>defender</td>\n      <td>both</td>\n    </tr>\n    <tr>\n      <th>3</th>\n      <td>2009/2010</td>\n      <td>Chris Baird</td>\n      <td>Fulham</td>\n      <td>10</td>\n      <td>0.172000</td>\n      <td>7.277000</td>\n      <td>7.105000</td>\n      <td>23909</td>\n      <td>25700</td>\n      <td>Roy Hodgson</td>\n      <td>...</td>\n      <td>EPL</td>\n      <td>NaN</td>\n      <td>3.0</td>\n      <td>NaN</td>\n      <td>NaN</td>\n      <td>179cm</td>\n      <td>72kg</td>\n      <td>28.0</td>\n      <td>defender</td>\n      <td>both</td>\n    </tr>\n    <tr>\n      <th>4</th>\n      <td>2009/2010</td>\n      <td>Clint Dempsey</td>\n      <td>Fulham</td>\n      <td>8</td>\n      <td>0.720000</td>\n      <td>7.628750</td>\n      <td>6.908750</td>\n      <td>23909</td>\n      <td>25700</td>\n      <td>Roy Hodgson</td>\n      <td>...</td>\n      <td>EPL</td>\n      <td>NaN</td>\n      <td>3.0</td>\n      <td>NaN</td>\n      <td>NaN</td>\n      <td>185cm</td>\n      <td>84kg</td>\n      <td>27.0</td>\n      <td>midfielder</td>\n      <td>both</td>\n    </tr>\n    <tr>\n      <th>5</th>\n      <td>2009/2010</td>\n      <td>Damien Duff</td>\n      <td>Fulham</td>\n      <td>12</td>\n      <td>-0.170000</td>\n      <td>7.117500</td>\n      <td>7.287500</td>\n      <td>23909</td>\n      <td>25700</td>\n      <td>Roy Hodgson</td>\n      <td>...</td>\n      <td>EPL</td>\n      <td>NaN</td>\n      <td>3.0</td>\n      <td>NaN</td>\n      <td>NaN</td>\n      <td>175cm</td>\n      <td>77kg</td>\n      <td>31.0</td>\n      <td>attacker</td>\n      <td>both</td>\n    </tr>\n    <tr>\n      <th>6</th>\n      <td>2009/2010</td>\n      <td>Danny Murphy</td>\n      <td>Fulham</td>\n      <td>6</td>\n      <td>0.143333</td>\n      <td>7.171667</td>\n      <td>7.028333</td>\n      <td>23909</td>\n      <td>25700</td>\n      <td>Roy Hodgson</td>\n      <td>...</td>\n      <td>EPL</td>\n      <td>NaN</td>\n      <td>3.0</td>\n      <td>NaN</td>\n      <td>NaN</td>\n      <td>175cm</td>\n      <td>69kg</td>\n      <td>33.0</td>\n      <td>midfielder</td>\n      <td>both</td>\n    </tr>\n    <tr>\n      <th>7</th>\n      <td>2009/2010</td>\n      <td>Dickson Etuhu</td>\n      <td>Fulham</td>\n      <td>1</td>\n      <td>0.360000</td>\n      <td>6.910000</td>\n      <td>6.550000</td>\n      <td>23909</td>\n      <td>25700</td>\n      <td>Roy Hodgson</td>\n      <td>...</td>\n      <td>EPL</td>\n      <td>NaN</td>\n      <td>3.0</td>\n      <td>NaN</td>\n      <td>NaN</td>\n      <td>188cm</td>\n      <td>83kg</td>\n      <td>27.0</td>\n      <td>midfielder</td>\n      <td>both</td>\n    </tr>\n    <tr>\n      <th>8</th>\n      <td>2009/2010</td>\n      <td>Erik Nevland</td>\n      <td>Fulham</td>\n      <td>2</td>\n      <td>0.410000</td>\n      <td>6.425000</td>\n      <td>6.015000</td>\n      <td>23909</td>\n      <td>25700</td>\n      <td>Roy Hodgson</td>\n      <td>...</td>\n      <td>EPL</td>\n      <td>NaN</td>\n      <td>4.0</td>\n      <td>NaN</td>\n      <td>NaN</td>\n      <td>177cm</td>\n      <td>70kg</td>\n      <td>32.0</td>\n      <td>attacker</td>\n      <td>both</td>\n    </tr>\n    <tr>\n      <th>9</th>\n      <td>2009/2010</td>\n      <td>John Paintsil</td>\n      <td>Fulham</td>\n      <td>4</td>\n      <td>0.495000</td>\n      <td>7.142500</td>\n      <td>6.647500</td>\n      <td>23909</td>\n      <td>25700</td>\n      <td>Roy Hodgson</td>\n      <td>...</td>\n      <td>NaN</td>\n      <td>NaN</td>\n      <td>NaN</td>\n      <td>NaN</td>\n      <td>NaN</td>\n      <td>NaN</td>\n      <td>NaN</td>\n      <td>NaN</td>\n      <td>NaN</td>\n      <td>left_only</td>\n    </tr>\n  </tbody>\n</table>\n<p>10 rows × 26 columns</p>\n</div>"
     },
     "execution_count": 69,
     "metadata": {},
     "output_type": "execute_result"
    }
   ],
   "source": [
    "data.head(10)"
   ],
   "metadata": {
    "collapsed": false,
    "ExecuteTime": {
     "end_time": "2023-06-17T13:11:03.595903Z",
     "start_time": "2023-06-17T13:11:02.591402Z"
    }
   }
  },
  {
   "cell_type": "code",
   "execution_count": 70,
   "outputs": [
    {
     "name": "stdout",
     "output_type": "stream",
     "text": [
      "The size of the hra_and_tc df and the merged_df are the same?: True\n"
     ]
    }
   ],
   "source": [
    "print(f'The size of the hra_and_tc df and the merged_df are the same?: {data.shape[0] == hra_and_tc.shape[0]}')"
   ],
   "metadata": {
    "collapsed": false,
    "ExecuteTime": {
     "end_time": "2023-06-17T13:11:03.620845Z",
     "start_time": "2023-06-17T13:11:02.617027Z"
    }
   }
  },
  {
   "cell_type": "code",
   "execution_count": 71,
   "outputs": [],
   "source": [
    "# create new column indicating whether the player characteristics are available for this observation or not\n",
    "data['missing_player_characteristics'] = data['_merge'].map({'both': False, 'left_only': True})\n",
    "\n",
    "# drop columns that are not useful for our later analysis\n",
    "data.drop(columns=['_merge'], inplace=True)\n",
    "\n",
    "# export the data\n",
    "if wrangle_data:\n",
    "    data.to_csv(path_or_buf=os.path.join(data_folder_path, 'data.csv'), index=False)"
   ],
   "metadata": {
    "collapsed": false,
    "ExecuteTime": {
     "end_time": "2023-06-17T13:11:03.621084Z",
     "start_time": "2023-06-17T13:11:02.622865Z"
    }
   }
  },
  {
   "cell_type": "code",
   "execution_count": 72,
   "outputs": [
    {
     "data": {
      "text/plain": "      season      player_name team_name  observation_weight       hra  \\\n0  2009/2010     Aaron Hughes    Fulham                  15  0.348000   \n1  2009/2010     Bobby Zamora    Fulham                  10  0.547000   \n2  2009/2010  Brede Hangeland    Fulham                  13  0.483077   \n3  2009/2010      Chris Baird    Fulham                  10  0.172000   \n4  2009/2010    Clint Dempsey    Fulham                   8  0.720000   \n5  2009/2010      Damien Duff    Fulham                  12 -0.170000   \n6  2009/2010     Danny Murphy    Fulham                   6  0.143333   \n7  2009/2010    Dickson Etuhu    Fulham                   1  0.360000   \n8  2009/2010     Erik Nevland    Fulham                   2  0.410000   \n9  2009/2010    John Paintsil    Fulham                   4  0.495000   \n\n   average_home_rating  average_away_rating  average_home_attendance  \\\n0             7.077333             6.729333                    23909   \n1             7.399000             6.852000                    23909   \n2             7.486923             7.003846                    23909   \n3             7.277000             7.105000                    23909   \n4             7.628750             6.908750                    23909   \n5             7.117500             7.287500                    23909   \n6             7.171667             7.028333                    23909   \n7             6.910000             6.550000                    23909   \n8             6.425000             6.015000                    23909   \n9             7.142500             6.647500                    23909   \n\n   stadium_capacity manager_name  ... league  skill_moves  weak_foot_quality  \\\n0             25700  Roy Hodgson  ...    EPL          NaN                3.0   \n1             25700  Roy Hodgson  ...    EPL          NaN                3.0   \n2             25700  Roy Hodgson  ...    EPL          NaN                3.0   \n3             25700  Roy Hodgson  ...    EPL          NaN                3.0   \n4             25700  Roy Hodgson  ...    EPL          NaN                3.0   \n5             25700  Roy Hodgson  ...    EPL          NaN                3.0   \n6             25700  Roy Hodgson  ...    EPL          NaN                3.0   \n7             25700  Roy Hodgson  ...    EPL          NaN                3.0   \n8             25700  Roy Hodgson  ...    EPL          NaN                4.0   \n9             25700  Roy Hodgson  ...    NaN          NaN                NaN   \n\n   work_rate_a work_rate_d player_height player_weight   age  basic_position  \\\n0          NaN         NaN         183cm          72kg  30.0        defender   \n1          NaN         NaN         183cm          74kg  29.0        attacker   \n2          NaN         NaN         195cm          92kg  28.0        defender   \n3          NaN         NaN         179cm          72kg  28.0        defender   \n4          NaN         NaN         185cm          84kg  27.0      midfielder   \n5          NaN         NaN         175cm          77kg  31.0        attacker   \n6          NaN         NaN         175cm          69kg  33.0      midfielder   \n7          NaN         NaN         188cm          83kg  27.0      midfielder   \n8          NaN         NaN         177cm          70kg  32.0        attacker   \n9          NaN         NaN           NaN           NaN   NaN             NaN   \n\n  missing_player_characteristics  \n0                          False  \n1                          False  \n2                          False  \n3                          False  \n4                          False  \n5                          False  \n6                          False  \n7                          False  \n8                          False  \n9                           True  \n\n[10 rows x 26 columns]",
      "text/html": "<div>\n<style scoped>\n    .dataframe tbody tr th:only-of-type {\n        vertical-align: middle;\n    }\n\n    .dataframe tbody tr th {\n        vertical-align: top;\n    }\n\n    .dataframe thead th {\n        text-align: right;\n    }\n</style>\n<table border=\"1\" class=\"dataframe\">\n  <thead>\n    <tr style=\"text-align: right;\">\n      <th></th>\n      <th>season</th>\n      <th>player_name</th>\n      <th>team_name</th>\n      <th>observation_weight</th>\n      <th>hra</th>\n      <th>average_home_rating</th>\n      <th>average_away_rating</th>\n      <th>average_home_attendance</th>\n      <th>stadium_capacity</th>\n      <th>manager_name</th>\n      <th>...</th>\n      <th>league</th>\n      <th>skill_moves</th>\n      <th>weak_foot_quality</th>\n      <th>work_rate_a</th>\n      <th>work_rate_d</th>\n      <th>player_height</th>\n      <th>player_weight</th>\n      <th>age</th>\n      <th>basic_position</th>\n      <th>missing_player_characteristics</th>\n    </tr>\n  </thead>\n  <tbody>\n    <tr>\n      <th>0</th>\n      <td>2009/2010</td>\n      <td>Aaron Hughes</td>\n      <td>Fulham</td>\n      <td>15</td>\n      <td>0.348000</td>\n      <td>7.077333</td>\n      <td>6.729333</td>\n      <td>23909</td>\n      <td>25700</td>\n      <td>Roy Hodgson</td>\n      <td>...</td>\n      <td>EPL</td>\n      <td>NaN</td>\n      <td>3.0</td>\n      <td>NaN</td>\n      <td>NaN</td>\n      <td>183cm</td>\n      <td>72kg</td>\n      <td>30.0</td>\n      <td>defender</td>\n      <td>False</td>\n    </tr>\n    <tr>\n      <th>1</th>\n      <td>2009/2010</td>\n      <td>Bobby Zamora</td>\n      <td>Fulham</td>\n      <td>10</td>\n      <td>0.547000</td>\n      <td>7.399000</td>\n      <td>6.852000</td>\n      <td>23909</td>\n      <td>25700</td>\n      <td>Roy Hodgson</td>\n      <td>...</td>\n      <td>EPL</td>\n      <td>NaN</td>\n      <td>3.0</td>\n      <td>NaN</td>\n      <td>NaN</td>\n      <td>183cm</td>\n      <td>74kg</td>\n      <td>29.0</td>\n      <td>attacker</td>\n      <td>False</td>\n    </tr>\n    <tr>\n      <th>2</th>\n      <td>2009/2010</td>\n      <td>Brede Hangeland</td>\n      <td>Fulham</td>\n      <td>13</td>\n      <td>0.483077</td>\n      <td>7.486923</td>\n      <td>7.003846</td>\n      <td>23909</td>\n      <td>25700</td>\n      <td>Roy Hodgson</td>\n      <td>...</td>\n      <td>EPL</td>\n      <td>NaN</td>\n      <td>3.0</td>\n      <td>NaN</td>\n      <td>NaN</td>\n      <td>195cm</td>\n      <td>92kg</td>\n      <td>28.0</td>\n      <td>defender</td>\n      <td>False</td>\n    </tr>\n    <tr>\n      <th>3</th>\n      <td>2009/2010</td>\n      <td>Chris Baird</td>\n      <td>Fulham</td>\n      <td>10</td>\n      <td>0.172000</td>\n      <td>7.277000</td>\n      <td>7.105000</td>\n      <td>23909</td>\n      <td>25700</td>\n      <td>Roy Hodgson</td>\n      <td>...</td>\n      <td>EPL</td>\n      <td>NaN</td>\n      <td>3.0</td>\n      <td>NaN</td>\n      <td>NaN</td>\n      <td>179cm</td>\n      <td>72kg</td>\n      <td>28.0</td>\n      <td>defender</td>\n      <td>False</td>\n    </tr>\n    <tr>\n      <th>4</th>\n      <td>2009/2010</td>\n      <td>Clint Dempsey</td>\n      <td>Fulham</td>\n      <td>8</td>\n      <td>0.720000</td>\n      <td>7.628750</td>\n      <td>6.908750</td>\n      <td>23909</td>\n      <td>25700</td>\n      <td>Roy Hodgson</td>\n      <td>...</td>\n      <td>EPL</td>\n      <td>NaN</td>\n      <td>3.0</td>\n      <td>NaN</td>\n      <td>NaN</td>\n      <td>185cm</td>\n      <td>84kg</td>\n      <td>27.0</td>\n      <td>midfielder</td>\n      <td>False</td>\n    </tr>\n    <tr>\n      <th>5</th>\n      <td>2009/2010</td>\n      <td>Damien Duff</td>\n      <td>Fulham</td>\n      <td>12</td>\n      <td>-0.170000</td>\n      <td>7.117500</td>\n      <td>7.287500</td>\n      <td>23909</td>\n      <td>25700</td>\n      <td>Roy Hodgson</td>\n      <td>...</td>\n      <td>EPL</td>\n      <td>NaN</td>\n      <td>3.0</td>\n      <td>NaN</td>\n      <td>NaN</td>\n      <td>175cm</td>\n      <td>77kg</td>\n      <td>31.0</td>\n      <td>attacker</td>\n      <td>False</td>\n    </tr>\n    <tr>\n      <th>6</th>\n      <td>2009/2010</td>\n      <td>Danny Murphy</td>\n      <td>Fulham</td>\n      <td>6</td>\n      <td>0.143333</td>\n      <td>7.171667</td>\n      <td>7.028333</td>\n      <td>23909</td>\n      <td>25700</td>\n      <td>Roy Hodgson</td>\n      <td>...</td>\n      <td>EPL</td>\n      <td>NaN</td>\n      <td>3.0</td>\n      <td>NaN</td>\n      <td>NaN</td>\n      <td>175cm</td>\n      <td>69kg</td>\n      <td>33.0</td>\n      <td>midfielder</td>\n      <td>False</td>\n    </tr>\n    <tr>\n      <th>7</th>\n      <td>2009/2010</td>\n      <td>Dickson Etuhu</td>\n      <td>Fulham</td>\n      <td>1</td>\n      <td>0.360000</td>\n      <td>6.910000</td>\n      <td>6.550000</td>\n      <td>23909</td>\n      <td>25700</td>\n      <td>Roy Hodgson</td>\n      <td>...</td>\n      <td>EPL</td>\n      <td>NaN</td>\n      <td>3.0</td>\n      <td>NaN</td>\n      <td>NaN</td>\n      <td>188cm</td>\n      <td>83kg</td>\n      <td>27.0</td>\n      <td>midfielder</td>\n      <td>False</td>\n    </tr>\n    <tr>\n      <th>8</th>\n      <td>2009/2010</td>\n      <td>Erik Nevland</td>\n      <td>Fulham</td>\n      <td>2</td>\n      <td>0.410000</td>\n      <td>6.425000</td>\n      <td>6.015000</td>\n      <td>23909</td>\n      <td>25700</td>\n      <td>Roy Hodgson</td>\n      <td>...</td>\n      <td>EPL</td>\n      <td>NaN</td>\n      <td>4.0</td>\n      <td>NaN</td>\n      <td>NaN</td>\n      <td>177cm</td>\n      <td>70kg</td>\n      <td>32.0</td>\n      <td>attacker</td>\n      <td>False</td>\n    </tr>\n    <tr>\n      <th>9</th>\n      <td>2009/2010</td>\n      <td>John Paintsil</td>\n      <td>Fulham</td>\n      <td>4</td>\n      <td>0.495000</td>\n      <td>7.142500</td>\n      <td>6.647500</td>\n      <td>23909</td>\n      <td>25700</td>\n      <td>Roy Hodgson</td>\n      <td>...</td>\n      <td>NaN</td>\n      <td>NaN</td>\n      <td>NaN</td>\n      <td>NaN</td>\n      <td>NaN</td>\n      <td>NaN</td>\n      <td>NaN</td>\n      <td>NaN</td>\n      <td>NaN</td>\n      <td>True</td>\n    </tr>\n  </tbody>\n</table>\n<p>10 rows × 26 columns</p>\n</div>"
     },
     "execution_count": 72,
     "metadata": {},
     "output_type": "execute_result"
    }
   ],
   "source": [
    "data.head(10)"
   ],
   "metadata": {
    "collapsed": false,
    "ExecuteTime": {
     "end_time": "2023-06-17T13:11:03.621365Z",
     "start_time": "2023-06-17T13:11:02.640760Z"
    }
   }
  },
  {
   "cell_type": "code",
   "execution_count": 73,
   "outputs": [
    {
     "name": "stdout",
     "output_type": "stream",
     "text": [
      "<class 'pandas.core.frame.DataFrame'>\n",
      "Int64Index: 4525 entries, 0 to 4524\n",
      "Data columns (total 26 columns):\n",
      " #   Column                          Non-Null Count  Dtype  \n",
      "---  ------                          --------------  -----  \n",
      " 0   season                          4525 non-null   object \n",
      " 1   player_name                     4525 non-null   object \n",
      " 2   team_name                       4525 non-null   object \n",
      " 3   observation_weight              4525 non-null   int64  \n",
      " 4   hra                             4525 non-null   float64\n",
      " 5   average_home_rating             4525 non-null   float64\n",
      " 6   average_away_rating             4525 non-null   float64\n",
      " 7   average_home_attendance         4525 non-null   int64  \n",
      " 8   stadium_capacity                4525 non-null   int64  \n",
      " 9   manager_name                    4525 non-null   object \n",
      " 10  captain_name                    4525 non-null   object \n",
      " 11  promoted                        4525 non-null   bool   \n",
      " 12  is_captain                      4525 non-null   bool   \n",
      " 13  player_rating                   3561 non-null   float64\n",
      " 14  position                        3561 non-null   object \n",
      " 15  nation                          3561 non-null   object \n",
      " 16  league                          3561 non-null   object \n",
      " 17  skill_moves                     3273 non-null   float64\n",
      " 18  weak_foot_quality               3561 non-null   float64\n",
      " 19  work_rate_a                     2162 non-null   object \n",
      " 20  work_rate_d                     2162 non-null   object \n",
      " 21  player_height                   3561 non-null   object \n",
      " 22  player_weight                   3255 non-null   object \n",
      " 23  age                             3561 non-null   float64\n",
      " 24  basic_position                  3561 non-null   object \n",
      " 25  missing_player_characteristics  4525 non-null   object \n",
      "dtypes: bool(2), float64(7), int64(3), object(14)\n",
      "memory usage: 892.6+ KB\n"
     ]
    }
   ],
   "source": [
    "data.info()"
   ],
   "metadata": {
    "collapsed": false,
    "ExecuteTime": {
     "end_time": "2023-06-17T13:11:03.713910Z",
     "start_time": "2023-06-17T13:11:02.647668Z"
    }
   }
  },
  {
   "cell_type": "markdown",
   "source": [
    "## Results"
   ],
   "metadata": {
    "collapsed": false
   }
  },
  {
   "cell_type": "code",
   "execution_count": 74,
   "outputs": [],
   "source": [
    "data = pd.read_csv(os.path.join(data_folder_path, 'data.csv'))\n",
    "model_data = data.copy()"
   ],
   "metadata": {
    "collapsed": false,
    "ExecuteTime": {
     "end_time": "2023-06-17T13:11:03.714144Z",
     "start_time": "2023-06-17T13:11:02.667286Z"
    }
   }
  },
  {
   "cell_type": "code",
   "execution_count": 75,
   "outputs": [
    {
     "name": "stdout",
     "output_type": "stream",
     "text": [
      "<class 'pandas.core.frame.DataFrame'>\n",
      "RangeIndex: 4525 entries, 0 to 4524\n",
      "Data columns (total 26 columns):\n",
      " #   Column                          Non-Null Count  Dtype  \n",
      "---  ------                          --------------  -----  \n",
      " 0   season                          4525 non-null   object \n",
      " 1   player_name                     4525 non-null   object \n",
      " 2   team_name                       4525 non-null   object \n",
      " 3   observation_weight              4525 non-null   int64  \n",
      " 4   hra                             4525 non-null   float64\n",
      " 5   average_home_rating             4525 non-null   float64\n",
      " 6   average_away_rating             4525 non-null   float64\n",
      " 7   average_home_attendance         4525 non-null   int64  \n",
      " 8   stadium_capacity                4525 non-null   int64  \n",
      " 9   manager_name                    4525 non-null   object \n",
      " 10  captain_name                    4525 non-null   object \n",
      " 11  promoted                        4525 non-null   bool   \n",
      " 12  is_captain                      4525 non-null   bool   \n",
      " 13  player_rating                   4438 non-null   float64\n",
      " 14  position                        4438 non-null   object \n",
      " 15  nation                          4438 non-null   object \n",
      " 16  league                          4438 non-null   object \n",
      " 17  skill_moves                     4122 non-null   float64\n",
      " 18  weak_foot_quality               4438 non-null   float64\n",
      " 19  work_rate_a                     2893 non-null   object \n",
      " 20  work_rate_d                     2893 non-null   object \n",
      " 21  player_height                   4438 non-null   object \n",
      " 22  player_weight                   4109 non-null   object \n",
      " 23  age                             4438 non-null   float64\n",
      " 24  basic_position                  4438 non-null   object \n",
      " 25  missing_player_characteristics  4525 non-null   bool   \n",
      "dtypes: bool(3), float64(7), int64(3), object(13)\n",
      "memory usage: 826.5+ KB\n"
     ]
    }
   ],
   "source": [
    "data.info()"
   ],
   "metadata": {
    "collapsed": false,
    "ExecuteTime": {
     "end_time": "2023-06-17T13:11:03.831799Z",
     "start_time": "2023-06-17T13:11:02.694456Z"
    }
   }
  },
  {
   "cell_type": "markdown",
   "source": [
    "### HRA"
   ],
   "metadata": {
    "collapsed": false
   }
  },
  {
   "cell_type": "code",
   "execution_count": 76,
   "outputs": [
    {
     "data": {
      "text/plain": "count    108.000000\nmean       0.247357\nstd        0.289715\nmin       -0.446364\n25%        0.060825\n50%        0.231845\n75%        0.416010\nmax        1.063333\nName: hra, dtype: float64"
     },
     "execution_count": 76,
     "metadata": {},
     "output_type": "execute_result"
    }
   ],
   "source": [
    "data_filter = data.loc[:,'observation_weight'] >= 10\n",
    "data.loc[(data['season']=='2009/2010') & (data_filter), 'hra'].describe()"
   ],
   "metadata": {
    "collapsed": false,
    "ExecuteTime": {
     "end_time": "2023-06-17T13:11:03.832483Z",
     "start_time": "2023-06-17T13:11:02.709697Z"
    }
   }
  },
  {
   "cell_type": "markdown",
   "source": [
    "#### Descriptive Statistics"
   ],
   "metadata": {
    "collapsed": false
   }
  },
  {
   "cell_type": "code",
   "execution_count": 77,
   "outputs": [
    {
     "data": {
      "text/plain": "               hra  observation_weight\ncount  4525.000000          4525.00000\nmean      0.143751             7.73547\nstd       0.512492             5.51632\nmin      -3.280000             1.00000\n25%      -0.105625             3.00000\n50%       0.141429             7.00000\n75%       0.400000            12.00000\nmax       4.340000            19.00000",
      "text/html": "<div>\n<style scoped>\n    .dataframe tbody tr th:only-of-type {\n        vertical-align: middle;\n    }\n\n    .dataframe tbody tr th {\n        vertical-align: top;\n    }\n\n    .dataframe thead th {\n        text-align: right;\n    }\n</style>\n<table border=\"1\" class=\"dataframe\">\n  <thead>\n    <tr style=\"text-align: right;\">\n      <th></th>\n      <th>hra</th>\n      <th>observation_weight</th>\n    </tr>\n  </thead>\n  <tbody>\n    <tr>\n      <th>count</th>\n      <td>4525.000000</td>\n      <td>4525.00000</td>\n    </tr>\n    <tr>\n      <th>mean</th>\n      <td>0.143751</td>\n      <td>7.73547</td>\n    </tr>\n    <tr>\n      <th>std</th>\n      <td>0.512492</td>\n      <td>5.51632</td>\n    </tr>\n    <tr>\n      <th>min</th>\n      <td>-3.280000</td>\n      <td>1.00000</td>\n    </tr>\n    <tr>\n      <th>25%</th>\n      <td>-0.105625</td>\n      <td>3.00000</td>\n    </tr>\n    <tr>\n      <th>50%</th>\n      <td>0.141429</td>\n      <td>7.00000</td>\n    </tr>\n    <tr>\n      <th>75%</th>\n      <td>0.400000</td>\n      <td>12.00000</td>\n    </tr>\n    <tr>\n      <th>max</th>\n      <td>4.340000</td>\n      <td>19.00000</td>\n    </tr>\n  </tbody>\n</table>\n</div>"
     },
     "execution_count": 77,
     "metadata": {},
     "output_type": "execute_result"
    }
   ],
   "source": [
    "data[['hra', 'observation_weight']].describe()"
   ],
   "metadata": {
    "collapsed": false,
    "ExecuteTime": {
     "end_time": "2023-06-17T13:11:03.832865Z",
     "start_time": "2023-06-17T13:11:02.722017Z"
    }
   }
  },
  {
   "cell_type": "code",
   "execution_count": 78,
   "outputs": [
    {
     "data": {
      "text/plain": "         season      player_name             team_name  observation_weight  \\\n2416  2016/2017       Ben Foster  West Bromwich Albion                  19   \n4384  2022/2023  Kieran Trippier      Newcastle United                  19   \n1467  2013/2014   Simon Mignolet             Liverpool                  19   \n1472  2013/2014    Bradley Guzan           Aston Villa                  19   \n3899  2021/2022     David de Gea     Manchester United                  19   \n\n           hra  average_home_rating  average_away_rating  \\\n2416  0.100000             6.696316             6.596316   \n4384  0.209474             7.510000             7.300526   \n1467  0.280526             6.817368             6.536842   \n1472 -0.293684             6.636316             6.930000   \n3899 -0.154737             6.564737             6.719474   \n\n      average_home_attendance  stadium_capacity             manager_name  ...  \\\n2416                    23902             26500               Tony Pulis  ...   \n4384                    52126             52305               Eddie Howe  ...   \n1467                    44672             45276          Brendan Rodgers  ...   \n1472                    36080             42682             Paul Lambert  ...   \n3899                    72992             74140  Ralf Rangnick (interim)  ...   \n\n     league  skill_moves  weak_foot_quality  work_rate_a work_rate_d  \\\n2416    EPL          1.0                3.0            M           M   \n4384    EPL          3.0                4.0            M           M   \n1467    EPL          1.0                2.0          NaN         NaN   \n1472    EPL          1.0                2.0          NaN         NaN   \n3899    EPL          1.0                3.0            M           M   \n\n     player_height player_weight   age  basic_position  \\\n2416         193cm          90kg  34.0      goalkeeper   \n4384         173cm          71kg  32.0        defender   \n1467         193cm          87kg  26.0      goalkeeper   \n1472         193cm          95kg  29.0      goalkeeper   \n3899         192cm          82kg  31.0      goalkeeper   \n\n     missing_player_characteristics  \n2416                          False  \n4384                          False  \n1467                          False  \n1472                          False  \n3899                          False  \n\n[5 rows x 26 columns]",
      "text/html": "<div>\n<style scoped>\n    .dataframe tbody tr th:only-of-type {\n        vertical-align: middle;\n    }\n\n    .dataframe tbody tr th {\n        vertical-align: top;\n    }\n\n    .dataframe thead th {\n        text-align: right;\n    }\n</style>\n<table border=\"1\" class=\"dataframe\">\n  <thead>\n    <tr style=\"text-align: right;\">\n      <th></th>\n      <th>season</th>\n      <th>player_name</th>\n      <th>team_name</th>\n      <th>observation_weight</th>\n      <th>hra</th>\n      <th>average_home_rating</th>\n      <th>average_away_rating</th>\n      <th>average_home_attendance</th>\n      <th>stadium_capacity</th>\n      <th>manager_name</th>\n      <th>...</th>\n      <th>league</th>\n      <th>skill_moves</th>\n      <th>weak_foot_quality</th>\n      <th>work_rate_a</th>\n      <th>work_rate_d</th>\n      <th>player_height</th>\n      <th>player_weight</th>\n      <th>age</th>\n      <th>basic_position</th>\n      <th>missing_player_characteristics</th>\n    </tr>\n  </thead>\n  <tbody>\n    <tr>\n      <th>2416</th>\n      <td>2016/2017</td>\n      <td>Ben Foster</td>\n      <td>West Bromwich Albion</td>\n      <td>19</td>\n      <td>0.100000</td>\n      <td>6.696316</td>\n      <td>6.596316</td>\n      <td>23902</td>\n      <td>26500</td>\n      <td>Tony Pulis</td>\n      <td>...</td>\n      <td>EPL</td>\n      <td>1.0</td>\n      <td>3.0</td>\n      <td>M</td>\n      <td>M</td>\n      <td>193cm</td>\n      <td>90kg</td>\n      <td>34.0</td>\n      <td>goalkeeper</td>\n      <td>False</td>\n    </tr>\n    <tr>\n      <th>4384</th>\n      <td>2022/2023</td>\n      <td>Kieran Trippier</td>\n      <td>Newcastle United</td>\n      <td>19</td>\n      <td>0.209474</td>\n      <td>7.510000</td>\n      <td>7.300526</td>\n      <td>52126</td>\n      <td>52305</td>\n      <td>Eddie Howe</td>\n      <td>...</td>\n      <td>EPL</td>\n      <td>3.0</td>\n      <td>4.0</td>\n      <td>M</td>\n      <td>M</td>\n      <td>173cm</td>\n      <td>71kg</td>\n      <td>32.0</td>\n      <td>defender</td>\n      <td>False</td>\n    </tr>\n    <tr>\n      <th>1467</th>\n      <td>2013/2014</td>\n      <td>Simon Mignolet</td>\n      <td>Liverpool</td>\n      <td>19</td>\n      <td>0.280526</td>\n      <td>6.817368</td>\n      <td>6.536842</td>\n      <td>44672</td>\n      <td>45276</td>\n      <td>Brendan Rodgers</td>\n      <td>...</td>\n      <td>EPL</td>\n      <td>1.0</td>\n      <td>2.0</td>\n      <td>NaN</td>\n      <td>NaN</td>\n      <td>193cm</td>\n      <td>87kg</td>\n      <td>26.0</td>\n      <td>goalkeeper</td>\n      <td>False</td>\n    </tr>\n    <tr>\n      <th>1472</th>\n      <td>2013/2014</td>\n      <td>Bradley Guzan</td>\n      <td>Aston Villa</td>\n      <td>19</td>\n      <td>-0.293684</td>\n      <td>6.636316</td>\n      <td>6.930000</td>\n      <td>36080</td>\n      <td>42682</td>\n      <td>Paul Lambert</td>\n      <td>...</td>\n      <td>EPL</td>\n      <td>1.0</td>\n      <td>2.0</td>\n      <td>NaN</td>\n      <td>NaN</td>\n      <td>193cm</td>\n      <td>95kg</td>\n      <td>29.0</td>\n      <td>goalkeeper</td>\n      <td>False</td>\n    </tr>\n    <tr>\n      <th>3899</th>\n      <td>2021/2022</td>\n      <td>David de Gea</td>\n      <td>Manchester United</td>\n      <td>19</td>\n      <td>-0.154737</td>\n      <td>6.564737</td>\n      <td>6.719474</td>\n      <td>72992</td>\n      <td>74140</td>\n      <td>Ralf Rangnick (interim)</td>\n      <td>...</td>\n      <td>EPL</td>\n      <td>1.0</td>\n      <td>3.0</td>\n      <td>M</td>\n      <td>M</td>\n      <td>192cm</td>\n      <td>82kg</td>\n      <td>31.0</td>\n      <td>goalkeeper</td>\n      <td>False</td>\n    </tr>\n  </tbody>\n</table>\n<p>5 rows × 26 columns</p>\n</div>"
     },
     "execution_count": 78,
     "metadata": {},
     "output_type": "execute_result"
    }
   ],
   "source": [
    "data.sort_values('observation_weight', ascending=False).head()"
   ],
   "metadata": {
    "collapsed": false,
    "ExecuteTime": {
     "end_time": "2023-06-17T13:11:03.928601Z",
     "start_time": "2023-06-17T13:11:02.736026Z"
    }
   }
  },
  {
   "cell_type": "code",
   "execution_count": 79,
   "outputs": [
    {
     "data": {
      "text/plain": "0.14375024997857327"
     },
     "execution_count": 79,
     "metadata": {},
     "output_type": "execute_result"
    }
   ],
   "source": [
    "np.average(data['hra'], weights=data['observation_weight'])"
   ],
   "metadata": {
    "collapsed": false,
    "ExecuteTime": {
     "end_time": "2023-06-17T13:11:03.929043Z",
     "start_time": "2023-06-17T13:11:02.764640Z"
    }
   }
  },
  {
   "cell_type": "code",
   "execution_count": 80,
   "outputs": [
    {
     "data": {
      "text/plain": "0.14375024997857327"
     },
     "execution_count": 80,
     "metadata": {},
     "output_type": "execute_result"
    }
   ],
   "source": [
    "(data['hra']*data['observation_weight']).sum()/(data['observation_weight'].sum())"
   ],
   "metadata": {
    "collapsed": false,
    "ExecuteTime": {
     "end_time": "2023-06-17T13:11:03.929295Z",
     "start_time": "2023-06-17T13:11:02.786822Z"
    }
   }
  },
  {
   "cell_type": "code",
   "execution_count": 81,
   "outputs": [
    {
     "data": {
      "text/plain": "nation\nAlbania                0.871667\nAlgeria                0.147923\nAntigua and Barbuda   -0.305000\nArgentina              0.136337\nArmenia                0.157500\n                         ...   \nUruguay                0.390104\nVenezuela              0.174686\nWales                  0.177532\nZambia                 0.010556\nZimbabwe              -0.287000\nName: hra, Length: 91, dtype: float64"
     },
     "execution_count": 81,
     "metadata": {},
     "output_type": "execute_result"
    }
   ],
   "source": [
    "data.groupby('nation')['hra'].mean()"
   ],
   "metadata": {
    "collapsed": false,
    "ExecuteTime": {
     "end_time": "2023-06-17T13:11:03.929611Z",
     "start_time": "2023-06-17T13:11:02.794492Z"
    }
   }
  },
  {
   "cell_type": "code",
   "execution_count": 82,
   "outputs": [
    {
     "data": {
      "text/plain": "                    hra  player_rating\nhra            1.000000       0.026805\nplayer_rating  0.026805       1.000000",
      "text/html": "<div>\n<style scoped>\n    .dataframe tbody tr th:only-of-type {\n        vertical-align: middle;\n    }\n\n    .dataframe tbody tr th {\n        vertical-align: top;\n    }\n\n    .dataframe thead th {\n        text-align: right;\n    }\n</style>\n<table border=\"1\" class=\"dataframe\">\n  <thead>\n    <tr style=\"text-align: right;\">\n      <th></th>\n      <th>hra</th>\n      <th>player_rating</th>\n    </tr>\n  </thead>\n  <tbody>\n    <tr>\n      <th>hra</th>\n      <td>1.000000</td>\n      <td>0.026805</td>\n    </tr>\n    <tr>\n      <th>player_rating</th>\n      <td>0.026805</td>\n      <td>1.000000</td>\n    </tr>\n  </tbody>\n</table>\n</div>"
     },
     "execution_count": 82,
     "metadata": {},
     "output_type": "execute_result"
    }
   ],
   "source": [
    "data[['hra', 'player_rating']].corr()"
   ],
   "metadata": {
    "collapsed": false,
    "ExecuteTime": {
     "end_time": "2023-06-17T13:11:03.930028Z",
     "start_time": "2023-06-17T13:11:02.806491Z"
    }
   }
  },
  {
   "cell_type": "code",
   "execution_count": 83,
   "outputs": [
    {
     "name": "stderr",
     "output_type": "stream",
     "text": [
      "/var/folders/z2/ct83gjv97mz__q43gm_kd6f80000gn/T/ipykernel_8605/1185648202.py:1: FutureWarning: The default value of numeric_only in DataFrame.corr is deprecated. In a future version, it will default to False. Select only valid columns or specify the value of numeric_only to silence this warning.\n",
      "  data.corr()\n"
     ]
    },
    {
     "data": {
      "text/plain": "                                observation_weight       hra  \\\nobservation_weight                        1.000000 -0.000003   \nhra                                      -0.000003  1.000000   \naverage_home_rating                       0.136104  0.614878   \naverage_away_rating                       0.147553 -0.518725   \naverage_home_attendance                  -0.033461  0.062821   \nstadium_capacity                         -0.043469  0.017738   \npromoted                                  0.018040 -0.015059   \nis_captain                                0.112283  0.002879   \nplayer_rating                             0.212993  0.026805   \nskill_moves                              -0.138789  0.094052   \nweak_foot_quality                        -0.045033  0.026865   \nage                                       0.070916 -0.010390   \nmissing_player_characteristics           -0.056308  0.034244   \n\n                                average_home_rating  average_away_rating  \\\nobservation_weight                         0.136104             0.147553   \nhra                                        0.614878            -0.518725   \naverage_home_rating                        1.000000             0.355273   \naverage_away_rating                        0.355273             1.000000   \naverage_home_attendance                    0.241097             0.186909   \nstadium_capacity                           0.203894             0.200015   \npromoted                                  -0.126249            -0.119015   \nis_captain                                 0.011954             0.009547   \nplayer_rating                              0.255439             0.246976   \nskill_moves                                0.213497             0.119912   \nweak_foot_quality                          0.096040             0.072995   \nage                                       -0.062999            -0.056439   \nmissing_player_characteristics            -0.006198            -0.047310   \n\n                                average_home_attendance  stadium_capacity  \\\nobservation_weight                            -0.033461         -0.043469   \nhra                                            0.062821          0.017738   \naverage_home_rating                            0.241097          0.203894   \naverage_away_rating                            0.186909          0.200015   \naverage_home_attendance                        1.000000          0.762349   \nstadium_capacity                               0.762349          1.000000   \npromoted                                      -0.243770         -0.299290   \nis_captain                                    -0.012185         -0.012123   \nplayer_rating                                  0.366121          0.474236   \nskill_moves                                    0.062622          0.127746   \nweak_foot_quality                              0.036040          0.043074   \nage                                           -0.045607         -0.078647   \nmissing_player_characteristics                -0.035831         -0.042008   \n\n                                promoted  is_captain  player_rating  \\\nobservation_weight              0.018040    0.112283       0.212993   \nhra                            -0.015059    0.002879       0.026805   \naverage_home_rating            -0.126249    0.011954       0.255439   \naverage_away_rating            -0.119015    0.009547       0.246976   \naverage_home_attendance        -0.243770   -0.012185       0.366121   \nstadium_capacity               -0.299290   -0.012123       0.474236   \npromoted                        1.000000    0.008543      -0.328839   \nis_captain                      0.008543    1.000000       0.079718   \nplayer_rating                  -0.328839    0.079718       1.000000   \nskill_moves                    -0.071774   -0.095018       0.202184   \nweak_foot_quality              -0.083719   -0.052450       0.153452   \nage                             0.009658    0.192142       0.205933   \nmissing_player_characteristics  0.042223    0.008105            NaN   \n\n                                skill_moves  weak_foot_quality       age  \\\nobservation_weight                -0.138789          -0.045033  0.070916   \nhra                                0.094052           0.026865 -0.010390   \naverage_home_rating                0.213497           0.096040 -0.062999   \naverage_away_rating                0.119912           0.072995 -0.056439   \naverage_home_attendance            0.062622           0.036040 -0.045607   \nstadium_capacity                   0.127746           0.043074 -0.078647   \npromoted                          -0.071774          -0.083719  0.009658   \nis_captain                        -0.095018          -0.052450  0.192142   \nplayer_rating                      0.202184           0.153452  0.205933   \nskill_moves                        1.000000           0.294441 -0.163976   \nweak_foot_quality                  0.294441           1.000000 -0.066329   \nage                               -0.163976          -0.066329  1.000000   \nmissing_player_characteristics          NaN                NaN       NaN   \n\n                                missing_player_characteristics  \nobservation_weight                                   -0.056308  \nhra                                                   0.034244  \naverage_home_rating                                  -0.006198  \naverage_away_rating                                  -0.047310  \naverage_home_attendance                              -0.035831  \nstadium_capacity                                     -0.042008  \npromoted                                              0.042223  \nis_captain                                            0.008105  \nplayer_rating                                              NaN  \nskill_moves                                                NaN  \nweak_foot_quality                                          NaN  \nage                                                        NaN  \nmissing_player_characteristics                        1.000000  ",
      "text/html": "<div>\n<style scoped>\n    .dataframe tbody tr th:only-of-type {\n        vertical-align: middle;\n    }\n\n    .dataframe tbody tr th {\n        vertical-align: top;\n    }\n\n    .dataframe thead th {\n        text-align: right;\n    }\n</style>\n<table border=\"1\" class=\"dataframe\">\n  <thead>\n    <tr style=\"text-align: right;\">\n      <th></th>\n      <th>observation_weight</th>\n      <th>hra</th>\n      <th>average_home_rating</th>\n      <th>average_away_rating</th>\n      <th>average_home_attendance</th>\n      <th>stadium_capacity</th>\n      <th>promoted</th>\n      <th>is_captain</th>\n      <th>player_rating</th>\n      <th>skill_moves</th>\n      <th>weak_foot_quality</th>\n      <th>age</th>\n      <th>missing_player_characteristics</th>\n    </tr>\n  </thead>\n  <tbody>\n    <tr>\n      <th>observation_weight</th>\n      <td>1.000000</td>\n      <td>-0.000003</td>\n      <td>0.136104</td>\n      <td>0.147553</td>\n      <td>-0.033461</td>\n      <td>-0.043469</td>\n      <td>0.018040</td>\n      <td>0.112283</td>\n      <td>0.212993</td>\n      <td>-0.138789</td>\n      <td>-0.045033</td>\n      <td>0.070916</td>\n      <td>-0.056308</td>\n    </tr>\n    <tr>\n      <th>hra</th>\n      <td>-0.000003</td>\n      <td>1.000000</td>\n      <td>0.614878</td>\n      <td>-0.518725</td>\n      <td>0.062821</td>\n      <td>0.017738</td>\n      <td>-0.015059</td>\n      <td>0.002879</td>\n      <td>0.026805</td>\n      <td>0.094052</td>\n      <td>0.026865</td>\n      <td>-0.010390</td>\n      <td>0.034244</td>\n    </tr>\n    <tr>\n      <th>average_home_rating</th>\n      <td>0.136104</td>\n      <td>0.614878</td>\n      <td>1.000000</td>\n      <td>0.355273</td>\n      <td>0.241097</td>\n      <td>0.203894</td>\n      <td>-0.126249</td>\n      <td>0.011954</td>\n      <td>0.255439</td>\n      <td>0.213497</td>\n      <td>0.096040</td>\n      <td>-0.062999</td>\n      <td>-0.006198</td>\n    </tr>\n    <tr>\n      <th>average_away_rating</th>\n      <td>0.147553</td>\n      <td>-0.518725</td>\n      <td>0.355273</td>\n      <td>1.000000</td>\n      <td>0.186909</td>\n      <td>0.200015</td>\n      <td>-0.119015</td>\n      <td>0.009547</td>\n      <td>0.246976</td>\n      <td>0.119912</td>\n      <td>0.072995</td>\n      <td>-0.056439</td>\n      <td>-0.047310</td>\n    </tr>\n    <tr>\n      <th>average_home_attendance</th>\n      <td>-0.033461</td>\n      <td>0.062821</td>\n      <td>0.241097</td>\n      <td>0.186909</td>\n      <td>1.000000</td>\n      <td>0.762349</td>\n      <td>-0.243770</td>\n      <td>-0.012185</td>\n      <td>0.366121</td>\n      <td>0.062622</td>\n      <td>0.036040</td>\n      <td>-0.045607</td>\n      <td>-0.035831</td>\n    </tr>\n    <tr>\n      <th>stadium_capacity</th>\n      <td>-0.043469</td>\n      <td>0.017738</td>\n      <td>0.203894</td>\n      <td>0.200015</td>\n      <td>0.762349</td>\n      <td>1.000000</td>\n      <td>-0.299290</td>\n      <td>-0.012123</td>\n      <td>0.474236</td>\n      <td>0.127746</td>\n      <td>0.043074</td>\n      <td>-0.078647</td>\n      <td>-0.042008</td>\n    </tr>\n    <tr>\n      <th>promoted</th>\n      <td>0.018040</td>\n      <td>-0.015059</td>\n      <td>-0.126249</td>\n      <td>-0.119015</td>\n      <td>-0.243770</td>\n      <td>-0.299290</td>\n      <td>1.000000</td>\n      <td>0.008543</td>\n      <td>-0.328839</td>\n      <td>-0.071774</td>\n      <td>-0.083719</td>\n      <td>0.009658</td>\n      <td>0.042223</td>\n    </tr>\n    <tr>\n      <th>is_captain</th>\n      <td>0.112283</td>\n      <td>0.002879</td>\n      <td>0.011954</td>\n      <td>0.009547</td>\n      <td>-0.012185</td>\n      <td>-0.012123</td>\n      <td>0.008543</td>\n      <td>1.000000</td>\n      <td>0.079718</td>\n      <td>-0.095018</td>\n      <td>-0.052450</td>\n      <td>0.192142</td>\n      <td>0.008105</td>\n    </tr>\n    <tr>\n      <th>player_rating</th>\n      <td>0.212993</td>\n      <td>0.026805</td>\n      <td>0.255439</td>\n      <td>0.246976</td>\n      <td>0.366121</td>\n      <td>0.474236</td>\n      <td>-0.328839</td>\n      <td>0.079718</td>\n      <td>1.000000</td>\n      <td>0.202184</td>\n      <td>0.153452</td>\n      <td>0.205933</td>\n      <td>NaN</td>\n    </tr>\n    <tr>\n      <th>skill_moves</th>\n      <td>-0.138789</td>\n      <td>0.094052</td>\n      <td>0.213497</td>\n      <td>0.119912</td>\n      <td>0.062622</td>\n      <td>0.127746</td>\n      <td>-0.071774</td>\n      <td>-0.095018</td>\n      <td>0.202184</td>\n      <td>1.000000</td>\n      <td>0.294441</td>\n      <td>-0.163976</td>\n      <td>NaN</td>\n    </tr>\n    <tr>\n      <th>weak_foot_quality</th>\n      <td>-0.045033</td>\n      <td>0.026865</td>\n      <td>0.096040</td>\n      <td>0.072995</td>\n      <td>0.036040</td>\n      <td>0.043074</td>\n      <td>-0.083719</td>\n      <td>-0.052450</td>\n      <td>0.153452</td>\n      <td>0.294441</td>\n      <td>1.000000</td>\n      <td>-0.066329</td>\n      <td>NaN</td>\n    </tr>\n    <tr>\n      <th>age</th>\n      <td>0.070916</td>\n      <td>-0.010390</td>\n      <td>-0.062999</td>\n      <td>-0.056439</td>\n      <td>-0.045607</td>\n      <td>-0.078647</td>\n      <td>0.009658</td>\n      <td>0.192142</td>\n      <td>0.205933</td>\n      <td>-0.163976</td>\n      <td>-0.066329</td>\n      <td>1.000000</td>\n      <td>NaN</td>\n    </tr>\n    <tr>\n      <th>missing_player_characteristics</th>\n      <td>-0.056308</td>\n      <td>0.034244</td>\n      <td>-0.006198</td>\n      <td>-0.047310</td>\n      <td>-0.035831</td>\n      <td>-0.042008</td>\n      <td>0.042223</td>\n      <td>0.008105</td>\n      <td>NaN</td>\n      <td>NaN</td>\n      <td>NaN</td>\n      <td>NaN</td>\n      <td>1.000000</td>\n    </tr>\n  </tbody>\n</table>\n</div>"
     },
     "execution_count": 83,
     "metadata": {},
     "output_type": "execute_result"
    }
   ],
   "source": [
    "data.corr()"
   ],
   "metadata": {
    "collapsed": false,
    "ExecuteTime": {
     "end_time": "2023-06-17T13:11:03.930393Z",
     "start_time": "2023-06-17T13:11:02.817049Z"
    }
   }
  },
  {
   "cell_type": "markdown",
   "source": [
    "#### Average HRA full sample"
   ],
   "metadata": {
    "collapsed": false
   }
  },
  {
   "cell_type": "code",
   "execution_count": 84,
   "outputs": [],
   "source": [
    "unweighted_hra = data['hra'].mean()\n",
    "weighted_hra = np.average(data['hra'], weights=data['observation_weight'])\n",
    "hra_full_sample = pd.Series(data=[unweighted_hra, weighted_hra], index=['unweighted', 'weighted'], name='hra')\n",
    "hra_full_sample.to_csv(os.path.join(results_folder_path, 'average_hra_full_sample.csv'), index_label='average')"
   ],
   "metadata": {
    "collapsed": false,
    "ExecuteTime": {
     "end_time": "2023-06-17T13:11:03.930508Z",
     "start_time": "2023-06-17T13:11:02.836263Z"
    }
   }
  },
  {
   "cell_type": "code",
   "execution_count": 85,
   "outputs": [
    {
     "data": {
      "text/plain": "unweighted    0.143751\nweighted      0.143750\nName: hra, dtype: float64"
     },
     "execution_count": 85,
     "metadata": {},
     "output_type": "execute_result"
    }
   ],
   "source": [
    "hra_full_sample"
   ],
   "metadata": {
    "collapsed": false,
    "ExecuteTime": {
     "end_time": "2023-06-17T13:11:03.930860Z",
     "start_time": "2023-06-17T13:11:02.848253Z"
    }
   }
  },
  {
   "cell_type": "markdown",
   "source": [
    "#### Average HRA per season"
   ],
   "metadata": {
    "collapsed": false
   }
  },
  {
   "cell_type": "code",
   "execution_count": 86,
   "outputs": [],
   "source": [
    "def calculate_weighted_average(group):\n",
    "    return ((group['observation_weight']*group['hra']).sum())/(group['observation_weight'].sum())"
   ],
   "metadata": {
    "collapsed": false,
    "ExecuteTime": {
     "end_time": "2023-06-17T13:11:03.931Z",
     "start_time": "2023-06-17T13:11:02.854210Z"
    }
   }
  },
  {
   "cell_type": "code",
   "execution_count": 87,
   "outputs": [],
   "source": [
    "season_group = data.groupby('season')[['observation_weight', 'hra']]\n",
    "\n",
    "# get unweighted average hra per season over the players\n",
    "unweighted_average_hra_per_season = season_group.agg({'hra': 'mean'})\n",
    "unweighted_average_hra_per_season.rename(columns={'hra': 'unweighted_average_hra'}, inplace=True)\n",
    "\n",
    "# get weighted average hra per season over the players\n",
    "weighted_average_hra_per_season = season_group.apply(calculate_weighted_average).to_frame()\n",
    "weighted_average_hra_per_season.rename(columns={0: 'weighted_average_hra'}, inplace=True)\n",
    "\n",
    "# join the dataframes together\n",
    "average_hra_per_season = pd.concat([unweighted_average_hra_per_season, weighted_average_hra_per_season], axis=1)\n",
    "average_hra_per_season.to_csv(os.path.join(results_folder_path, 'average_hra_per_season.csv'))"
   ],
   "metadata": {
    "collapsed": false,
    "ExecuteTime": {
     "end_time": "2023-06-17T13:11:03.931273Z",
     "start_time": "2023-06-17T13:11:02.864882Z"
    }
   }
  },
  {
   "cell_type": "code",
   "execution_count": 88,
   "outputs": [
    {
     "data": {
      "text/plain": "           unweighted_average_hra  weighted_average_hra\nseason                                                 \n2009/2010                0.293280              0.263586\n2010/2011                0.171237              0.188907\n2011/2012                0.159921              0.184332\n2012/2013                0.142209              0.130689\n2013/2014                0.172381              0.183609\n2014/2015                0.140567              0.150546\n2015/2016                0.108171              0.104859\n2016/2017                0.146150              0.169195\n2017/2018                0.168366              0.150891\n2018/2019                0.104414              0.095798\n2019/2020                0.156569              0.149588\n2020/2021               -0.006178             -0.012056\n2021/2022                0.098178              0.088537\n2022/2023                0.165129              0.175347",
      "text/html": "<div>\n<style scoped>\n    .dataframe tbody tr th:only-of-type {\n        vertical-align: middle;\n    }\n\n    .dataframe tbody tr th {\n        vertical-align: top;\n    }\n\n    .dataframe thead th {\n        text-align: right;\n    }\n</style>\n<table border=\"1\" class=\"dataframe\">\n  <thead>\n    <tr style=\"text-align: right;\">\n      <th></th>\n      <th>unweighted_average_hra</th>\n      <th>weighted_average_hra</th>\n    </tr>\n    <tr>\n      <th>season</th>\n      <th></th>\n      <th></th>\n    </tr>\n  </thead>\n  <tbody>\n    <tr>\n      <th>2009/2010</th>\n      <td>0.293280</td>\n      <td>0.263586</td>\n    </tr>\n    <tr>\n      <th>2010/2011</th>\n      <td>0.171237</td>\n      <td>0.188907</td>\n    </tr>\n    <tr>\n      <th>2011/2012</th>\n      <td>0.159921</td>\n      <td>0.184332</td>\n    </tr>\n    <tr>\n      <th>2012/2013</th>\n      <td>0.142209</td>\n      <td>0.130689</td>\n    </tr>\n    <tr>\n      <th>2013/2014</th>\n      <td>0.172381</td>\n      <td>0.183609</td>\n    </tr>\n    <tr>\n      <th>2014/2015</th>\n      <td>0.140567</td>\n      <td>0.150546</td>\n    </tr>\n    <tr>\n      <th>2015/2016</th>\n      <td>0.108171</td>\n      <td>0.104859</td>\n    </tr>\n    <tr>\n      <th>2016/2017</th>\n      <td>0.146150</td>\n      <td>0.169195</td>\n    </tr>\n    <tr>\n      <th>2017/2018</th>\n      <td>0.168366</td>\n      <td>0.150891</td>\n    </tr>\n    <tr>\n      <th>2018/2019</th>\n      <td>0.104414</td>\n      <td>0.095798</td>\n    </tr>\n    <tr>\n      <th>2019/2020</th>\n      <td>0.156569</td>\n      <td>0.149588</td>\n    </tr>\n    <tr>\n      <th>2020/2021</th>\n      <td>-0.006178</td>\n      <td>-0.012056</td>\n    </tr>\n    <tr>\n      <th>2021/2022</th>\n      <td>0.098178</td>\n      <td>0.088537</td>\n    </tr>\n    <tr>\n      <th>2022/2023</th>\n      <td>0.165129</td>\n      <td>0.175347</td>\n    </tr>\n  </tbody>\n</table>\n</div>"
     },
     "execution_count": 88,
     "metadata": {},
     "output_type": "execute_result"
    }
   ],
   "source": [
    "average_hra_per_season"
   ],
   "metadata": {
    "collapsed": false,
    "ExecuteTime": {
     "end_time": "2023-06-17T13:11:03.931516Z",
     "start_time": "2023-06-17T13:11:02.880259Z"
    }
   }
  },
  {
   "cell_type": "code",
   "execution_count": 89,
   "outputs": [
    {
     "data": {
      "text/plain": "<Figure size 800x550 with 1 Axes>",
      "image/png": "[encoded data removed]"
     },
     "metadata": {},
     "output_type": "display_data"
    }
   ],
   "source": [
    "plt.plot(average_hra_per_season.index, average_hra_per_season['weighted_average_hra'], marker='o')\n",
    "plt.xlabel('season')\n",
    "plt.ylabel('weighted average hra')\n",
    "plt.xticks(rotation=45)\n",
    "# plt.title('Home Advantage over the seasons in the EPL')\n",
    "plt.tight_layout()\n",
    "plt.savefig(os.path.join(results_folder_path, 'average_hra_per_season.png'), format='png', dpi=300)\n",
    "plt.show()"
   ],
   "metadata": {
    "collapsed": false,
    "ExecuteTime": {
     "end_time": "2023-06-17T13:11:04.912027Z",
     "start_time": "2023-06-17T13:11:02.886097Z"
    }
   }
  },
  {
   "cell_type": "markdown",
   "source": [
    "#### Average HRA per team\n",
    "From now on when referring to *average*, I mean *weighted average*"
   ],
   "metadata": {
    "collapsed": false
   }
  },
  {
   "cell_type": "code",
   "execution_count": 90,
   "outputs": [],
   "source": [
    "team_group = data.groupby('team_name')[['observation_weight', 'hra']]\n",
    "\n",
    "# get unweighted average hra per team over the seasons\n",
    "unweighted_average_hra_per_team = team_group.agg({'hra': 'mean'})\n",
    "unweighted_average_hra_per_team.rename(columns={'hra': 'unweighted_average_hra'}, inplace=True)\n",
    "\n",
    "# get weighted average hra per team of the seasons\n",
    "weighted_average_hra_per_team = team_group.apply(calculate_weighted_average).to_frame()\n",
    "weighted_average_hra_per_team.rename(columns={0: 'weighted_average_hra'}, inplace=True)\n",
    "\n",
    "# get the number of observations the means are based on\n",
    "number_of_seasons_per_team = (data.groupby('team_name')['season'].nunique()).to_frame()\n",
    "number_of_seasons_per_team.rename(columns={'season': 'season_count'}, inplace=True)\n",
    "\n",
    "# join the dataframes together\n",
    "average_hra_per_team = pd.concat([number_of_seasons_per_team, unweighted_average_hra_per_team, weighted_average_hra_per_team], axis=1)\n",
    "average_hra_per_team.to_csv(os.path.join(results_folder_path, 'average_hra_per_team.csv'))\n",
    "average_hra_per_team.loc[average_hra_per_team['season_count']>=7].to_csv(os.path.join(results_folder_path, 'average_hra_per_team_filtered.csv'))"
   ],
   "metadata": {
    "collapsed": false,
    "ExecuteTime": {
     "end_time": "2023-06-17T13:11:04.955927Z",
     "start_time": "2023-06-17T13:11:04.197371Z"
    }
   }
  },
  {
   "cell_type": "code",
   "execution_count": 91,
   "outputs": [
    {
     "data": {
      "text/plain": "                  season_count  unweighted_average_hra  weighted_average_hra\nteam_name                                                                   \nArsenal                     14                0.207543              0.219957\nAston Villa                 11                0.065908              0.060230\nBirmingham City              2                0.266235              0.276576\nBlackburn Rovers             3                0.248861              0.279971\nBlackpool                    1               -0.107848              0.012868",
      "text/html": "<div>\n<style scoped>\n    .dataframe tbody tr th:only-of-type {\n        vertical-align: middle;\n    }\n\n    .dataframe tbody tr th {\n        vertical-align: top;\n    }\n\n    .dataframe thead th {\n        text-align: right;\n    }\n</style>\n<table border=\"1\" class=\"dataframe\">\n  <thead>\n    <tr style=\"text-align: right;\">\n      <th></th>\n      <th>season_count</th>\n      <th>unweighted_average_hra</th>\n      <th>weighted_average_hra</th>\n    </tr>\n    <tr>\n      <th>team_name</th>\n      <th></th>\n      <th></th>\n      <th></th>\n    </tr>\n  </thead>\n  <tbody>\n    <tr>\n      <th>Arsenal</th>\n      <td>14</td>\n      <td>0.207543</td>\n      <td>0.219957</td>\n    </tr>\n    <tr>\n      <th>Aston Villa</th>\n      <td>11</td>\n      <td>0.065908</td>\n      <td>0.060230</td>\n    </tr>\n    <tr>\n      <th>Birmingham City</th>\n      <td>2</td>\n      <td>0.266235</td>\n      <td>0.276576</td>\n    </tr>\n    <tr>\n      <th>Blackburn Rovers</th>\n      <td>3</td>\n      <td>0.248861</td>\n      <td>0.279971</td>\n    </tr>\n    <tr>\n      <th>Blackpool</th>\n      <td>1</td>\n      <td>-0.107848</td>\n      <td>0.012868</td>\n    </tr>\n  </tbody>\n</table>\n</div>"
     },
     "execution_count": 91,
     "metadata": {},
     "output_type": "execute_result"
    }
   ],
   "source": [
    "average_hra_per_team.head()"
   ],
   "metadata": {
    "collapsed": false,
    "ExecuteTime": {
     "end_time": "2023-06-17T13:11:05.009227Z",
     "start_time": "2023-06-17T13:11:04.234247Z"
    }
   }
  },
  {
   "cell_type": "code",
   "execution_count": 92,
   "outputs": [
    {
     "data": {
      "text/plain": "<Figure size 800x550 with 1 Axes>",
      "image/png": "[encoded data removed]"
     },
     "metadata": {},
     "output_type": "display_data"
    }
   ],
   "source": [
    "# sort hra per team\n",
    "sorted_hra_per_team = average_hra_per_team.sort_values(by='weighted_average_hra')\n",
    "\n",
    "team_names = [x.replace('&', '\\&') for x in sorted_hra_per_team.index.to_list()]\n",
    "plt.bar(team_names, sorted_hra_per_team['weighted_average_hra'])\n",
    "plt.xlabel('team')\n",
    "plt.ylabel('weighted average hra')\n",
    "plt.xticks(rotation=90)\n",
    "# plt.title('Home Advantage over the teams in the EPL')\n",
    "plt.tight_layout()\n",
    "plt.savefig(os.path.join(results_folder_path, 'average_hra_per_team.png'), format='png', dpi=300)\n",
    "plt.show()"
   ],
   "metadata": {
    "collapsed": false,
    "ExecuteTime": {
     "end_time": "2023-06-17T13:11:05.929196Z",
     "start_time": "2023-06-17T13:11:04.245273Z"
    }
   }
  },
  {
   "cell_type": "markdown",
   "source": [
    "#### Average HRA per manager"
   ],
   "metadata": {
    "collapsed": false
   }
  },
  {
   "cell_type": "code",
   "execution_count": 93,
   "outputs": [],
   "source": [
    "manager_group = data.groupby('manager_name')[['observation_weight', 'hra']]\n",
    "\n",
    "# get unweighted average hra per team over the seasons\n",
    "unweighted_average_hra_per_manager = manager_group.agg({'hra': 'mean'})\n",
    "unweighted_average_hra_per_manager.rename(columns={'hra': 'unweighted_average_hra'}, inplace=True)\n",
    "\n",
    "# get weighted average hra per team of the seasons\n",
    "weighted_average_hra_per_manager = manager_group.apply(calculate_weighted_average).to_frame()\n",
    "weighted_average_hra_per_manager.rename(columns={0: 'weighted_average_hra'}, inplace=True)\n",
    "\n",
    "# get the number of observations the means are based on\n",
    "number_of_seasons_per_manager = (data.groupby('manager_name')['season'].nunique()).to_frame()\n",
    "number_of_seasons_per_manager.rename(columns={'season': 'season_count'}, inplace=True)\n",
    "\n",
    "# join the dataframes together\n",
    "average_hra_per_manager = pd.concat([number_of_seasons_per_manager, unweighted_average_hra_per_manager, weighted_average_hra_per_manager], axis=1)\n",
    "average_hra_per_manager.to_csv(os.path.join(results_folder_path, 'average_hra_per_manager.csv'))\n",
    "\n",
    "# get additional insights\n",
    "season_count_filter = average_hra_per_manager['season_count'] >= 3\n",
    "# observation_weight_filter = average_hra_per_player['observation_weight'] >= 30\n",
    "\n",
    "average_hra_per_manager.loc[season_count_filter].\\\n",
    "    sort_values(by='weighted_average_hra', ascending=True).\\\n",
    "    to_csv(os.path.join(results_folder_path, 'average_hra_per_manager_bottom.csv'))\n",
    "\n",
    "average_hra_per_manager.loc[season_count_filter].\\\n",
    "    sort_values(by='weighted_average_hra', ascending=False).\\\n",
    "    to_csv(os.path.join(results_folder_path, 'average_hra_per_manager_top.csv'))\n",
    "\n",
    "average_hra_per_manager.loc[season_count_filter].\\\n",
    "    sort_values(by='season_count', ascending=False).\\\n",
    "    to_csv(os.path.join(results_folder_path, 'average_hra_per_manager_experienced.csv'))"
   ],
   "metadata": {
    "collapsed": false,
    "ExecuteTime": {
     "end_time": "2023-06-17T13:11:05.997476Z",
     "start_time": "2023-06-17T13:11:05.794700Z"
    }
   }
  },
  {
   "cell_type": "code",
   "execution_count": 94,
   "outputs": [
    {
     "data": {
      "text/plain": "                   season_count  unweighted_average_hra  weighted_average_hra\nmanager_name                                                                 \nAitor Karanka                 1                0.199794              0.140150\nAlan Pardew                   7                0.181084              0.110629\nAlex McLeish                  3                0.212402              0.235809\nAlex Neil                     1                0.212096              0.202523\nAndre Villas-Boas             1                0.089493              0.106148",
      "text/html": "<div>\n<style scoped>\n    .dataframe tbody tr th:only-of-type {\n        vertical-align: middle;\n    }\n\n    .dataframe tbody tr th {\n        vertical-align: top;\n    }\n\n    .dataframe thead th {\n        text-align: right;\n    }\n</style>\n<table border=\"1\" class=\"dataframe\">\n  <thead>\n    <tr style=\"text-align: right;\">\n      <th></th>\n      <th>season_count</th>\n      <th>unweighted_average_hra</th>\n      <th>weighted_average_hra</th>\n    </tr>\n    <tr>\n      <th>manager_name</th>\n      <th></th>\n      <th></th>\n      <th></th>\n    </tr>\n  </thead>\n  <tbody>\n    <tr>\n      <th>Aitor Karanka</th>\n      <td>1</td>\n      <td>0.199794</td>\n      <td>0.140150</td>\n    </tr>\n    <tr>\n      <th>Alan Pardew</th>\n      <td>7</td>\n      <td>0.181084</td>\n      <td>0.110629</td>\n    </tr>\n    <tr>\n      <th>Alex McLeish</th>\n      <td>3</td>\n      <td>0.212402</td>\n      <td>0.235809</td>\n    </tr>\n    <tr>\n      <th>Alex Neil</th>\n      <td>1</td>\n      <td>0.212096</td>\n      <td>0.202523</td>\n    </tr>\n    <tr>\n      <th>Andre Villas-Boas</th>\n      <td>1</td>\n      <td>0.089493</td>\n      <td>0.106148</td>\n    </tr>\n  </tbody>\n</table>\n</div>"
     },
     "execution_count": 94,
     "metadata": {},
     "output_type": "execute_result"
    }
   ],
   "source": [
    "average_hra_per_manager.head()"
   ],
   "metadata": {
    "collapsed": false,
    "ExecuteTime": {
     "end_time": "2023-06-17T13:11:05.999562Z",
     "start_time": "2023-06-17T13:11:05.849779Z"
    }
   }
  },
  {
   "cell_type": "markdown",
   "source": [
    "#### Average HRA per player"
   ],
   "metadata": {
    "collapsed": false
   }
  },
  {
   "cell_type": "code",
   "execution_count": 95,
   "outputs": [],
   "source": [
    "# TODO: find a better way to get unique players (name is snot unique)"
   ],
   "metadata": {
    "collapsed": false,
    "ExecuteTime": {
     "end_time": "2023-06-17T13:11:06.000051Z",
     "start_time": "2023-06-17T13:11:05.859883Z"
    }
   }
  },
  {
   "cell_type": "code",
   "execution_count": 96,
   "outputs": [],
   "source": [
    "player_group = data.groupby('player_name')[['observation_weight', 'hra']]\n",
    "\n",
    "# get unweighted average hra per team over the seasons\n",
    "unweighted_average_hra_per_player = player_group.agg({'hra': 'mean'})\n",
    "unweighted_average_hra_per_player.rename(columns={'hra': 'unweighted_average_hra'}, inplace=True)\n",
    "\n",
    "# get weighted average hra per team of the seasons\n",
    "weighted_average_hra_per_player = player_group.apply(calculate_weighted_average).to_frame()\n",
    "weighted_average_hra_per_player.rename(columns={0: 'weighted_average_hra'}, inplace=True)\n",
    "\n",
    "# get the number of observations the averages are based on\n",
    "number_of_seasons_per_player = (data.groupby('player_name')['season'].nunique()).to_frame()\n",
    "number_of_seasons_per_player.rename(columns={'season': 'season_count'}, inplace=True)\n",
    "\n",
    "# get the total sum of weights over the season the averages are based on\n",
    "total_player_weight = player_group.agg({'observation_weight': 'sum'})\n",
    "\n",
    "# join the dataframes together\n",
    "average_hra_per_player = pd.concat([total_player_weight, number_of_seasons_per_player,\n",
    "                                    unweighted_average_hra_per_player, weighted_average_hra_per_player], axis=1)\n",
    "average_hra_per_player.to_csv(os.path.join(results_folder_path, 'average_hra_per_player.csv'))\n",
    "\n",
    "# get additional insights\n",
    "season_count_filter = average_hra_per_player['season_count'] >= 3\n",
    "observation_weight_filter = average_hra_per_player['observation_weight'] >= 30\n",
    "\n",
    "average_hra_per_player.loc[(season_count_filter & observation_weight_filter)].\\\n",
    "    sort_values(by='weighted_average_hra', ascending=True).\\\n",
    "    to_csv(os.path.join(results_folder_path, 'average_hra_per_player_bottom.csv'))\n",
    "\n",
    "average_hra_per_player.loc[(season_count_filter & observation_weight_filter)].\\\n",
    "    sort_values(by='weighted_average_hra', ascending=False).\\\n",
    "    to_csv(os.path.join(results_folder_path, 'average_hra_per_player_top.csv'))\n",
    "\n",
    "average_hra_per_player.loc[(season_count_filter & observation_weight_filter)].\\\n",
    "    sort_values(by=['season_count', 'observation_weight'], ascending=False).\\\n",
    "    to_csv(os.path.join(results_folder_path, 'average_hra_per_player_experienced.csv'))"
   ],
   "metadata": {
    "collapsed": false,
    "ExecuteTime": {
     "end_time": "2023-06-17T13:11:06.340889Z",
     "start_time": "2023-06-17T13:11:05.874577Z"
    }
   }
  },
  {
   "cell_type": "code",
   "execution_count": 97,
   "outputs": [
    {
     "data": {
      "text/plain": "                 observation_weight  season_count  unweighted_average_hra  \\\nplayer_name                                                                 \nAaron Connolly                    4             1                0.840000   \nAaron Cresswell                 113             9                0.139452   \nAaron Hickey                      6             1                0.141667   \nAaron Hughes                     41             4                0.149248   \nAaron Lennon                     46             8                0.283333   \n\n                 weighted_average_hra  \nplayer_name                            \nAaron Connolly               0.840000  \nAaron Cresswell              0.136549  \nAaron Hickey                 0.141667  \nAaron Hughes                 0.164146  \nAaron Lennon                 0.318913  ",
      "text/html": "<div>\n<style scoped>\n    .dataframe tbody tr th:only-of-type {\n        vertical-align: middle;\n    }\n\n    .dataframe tbody tr th {\n        vertical-align: top;\n    }\n\n    .dataframe thead th {\n        text-align: right;\n    }\n</style>\n<table border=\"1\" class=\"dataframe\">\n  <thead>\n    <tr style=\"text-align: right;\">\n      <th></th>\n      <th>observation_weight</th>\n      <th>season_count</th>\n      <th>unweighted_average_hra</th>\n      <th>weighted_average_hra</th>\n    </tr>\n    <tr>\n      <th>player_name</th>\n      <th></th>\n      <th></th>\n      <th></th>\n      <th></th>\n    </tr>\n  </thead>\n  <tbody>\n    <tr>\n      <th>Aaron Connolly</th>\n      <td>4</td>\n      <td>1</td>\n      <td>0.840000</td>\n      <td>0.840000</td>\n    </tr>\n    <tr>\n      <th>Aaron Cresswell</th>\n      <td>113</td>\n      <td>9</td>\n      <td>0.139452</td>\n      <td>0.136549</td>\n    </tr>\n    <tr>\n      <th>Aaron Hickey</th>\n      <td>6</td>\n      <td>1</td>\n      <td>0.141667</td>\n      <td>0.141667</td>\n    </tr>\n    <tr>\n      <th>Aaron Hughes</th>\n      <td>41</td>\n      <td>4</td>\n      <td>0.149248</td>\n      <td>0.164146</td>\n    </tr>\n    <tr>\n      <th>Aaron Lennon</th>\n      <td>46</td>\n      <td>8</td>\n      <td>0.283333</td>\n      <td>0.318913</td>\n    </tr>\n  </tbody>\n</table>\n</div>"
     },
     "execution_count": 97,
     "metadata": {},
     "output_type": "execute_result"
    }
   ],
   "source": [
    "average_hra_per_player.head()"
   ],
   "metadata": {
    "collapsed": false,
    "ExecuteTime": {
     "end_time": "2023-06-17T13:11:06.341370Z",
     "start_time": "2023-06-17T13:11:06.257413Z"
    }
   }
  },
  {
   "cell_type": "markdown",
   "source": [
    "### Preparing the data for LR and ML"
   ],
   "metadata": {
    "collapsed": false
   }
  },
  {
   "cell_type": "markdown",
   "source": [
    "#### Generate time trend\n",
    "To check if there is a secular decline in home advantage over the seasons"
   ],
   "metadata": {
    "collapsed": false
   }
  },
  {
   "cell_type": "code",
   "execution_count": 98,
   "outputs": [],
   "source": [
    "def generate_time_trend(season):\n",
    "    years = season.split('/')\n",
    "    return int(years[0])-2008"
   ],
   "metadata": {
    "collapsed": false,
    "ExecuteTime": {
     "end_time": "2023-06-17T13:11:06.341543Z",
     "start_time": "2023-06-17T13:11:06.257975Z"
    }
   }
  },
  {
   "cell_type": "code",
   "execution_count": 99,
   "outputs": [],
   "source": [
    "model_data['trend'] = model_data['season'].apply(generate_time_trend)"
   ],
   "metadata": {
    "collapsed": false,
    "ExecuteTime": {
     "end_time": "2023-06-17T13:11:06.341641Z",
     "start_time": "2023-06-17T13:11:06.258354Z"
    }
   }
  },
  {
   "cell_type": "markdown",
   "source": [
    "#### Create dummy for british nation"
   ],
   "metadata": {
    "collapsed": false
   }
  },
  {
   "cell_type": "code",
   "execution_count": 100,
   "outputs": [],
   "source": [
    "def check_if_nation_is_british(nation):\n",
    "    result = False\n",
    "    if nation in ['Northern Ireland', 'England', 'Republic of Ireland', 'Wales', 'Scotland']:\n",
    "        result = True\n",
    "    return result"
   ],
   "metadata": {
    "collapsed": false,
    "ExecuteTime": {
     "end_time": "2023-06-17T13:11:06.341723Z",
     "start_time": "2023-06-17T13:11:06.260279Z"
    }
   }
  },
  {
   "cell_type": "code",
   "execution_count": 101,
   "outputs": [],
   "source": [
    "model_data['british_nationality'] = model_data['nation'].apply(check_if_nation_is_british)"
   ],
   "metadata": {
    "collapsed": false,
    "ExecuteTime": {
     "end_time": "2023-06-17T13:11:06.341846Z",
     "start_time": "2023-06-17T13:11:06.264516Z"
    }
   }
  },
  {
   "cell_type": "markdown",
   "source": [
    "#### Drop observations without explanatory variables"
   ],
   "metadata": {
    "collapsed": false
   }
  },
  {
   "cell_type": "code",
   "execution_count": 102,
   "outputs": [],
   "source": [
    "filter_missing_player_characteristics = model_data['missing_player_characteristics'] == True\n",
    "missing_player_characteristics_ix = model_data.loc[filter_missing_player_characteristics].index\n",
    "\n",
    "model_data.drop(index=missing_player_characteristics_ix, inplace=True)\n",
    "model_data.drop(columns=['missing_player_characteristics'], inplace=True)"
   ],
   "metadata": {
    "collapsed": false,
    "ExecuteTime": {
     "end_time": "2023-06-17T13:11:06.341951Z",
     "start_time": "2023-06-17T13:11:06.273141Z"
    }
   }
  },
  {
   "cell_type": "markdown",
   "source": [
    "#### Imputing missing player characteristics"
   ],
   "metadata": {
    "collapsed": false
   }
  },
  {
   "cell_type": "code",
   "execution_count": 103,
   "outputs": [],
   "source": [
    "def impute_skill_moves(player_name):\n",
    "    result = model_data['skill_moves'].mode().values[0]\n",
    "    filtered_df = model_data.loc[model_data['player_name']==player_name]\n",
    "    try:\n",
    "        result = filtered_df['skill_moves'].mode().values[0]\n",
    "    except IndexError:\n",
    "        pass\n",
    "    return result"
   ],
   "metadata": {
    "collapsed": false,
    "ExecuteTime": {
     "end_time": "2023-06-17T13:11:06.342032Z",
     "start_time": "2023-06-17T13:11:06.281341Z"
    }
   }
  },
  {
   "cell_type": "code",
   "execution_count": 104,
   "outputs": [],
   "source": [
    "missing_skill_moves_df = model_data.loc[model_data['skill_moves'].isna()].copy()\n",
    "missing_skill_moves_df['imputed_skill_moves'] = missing_skill_moves_df['player_name'].apply(impute_skill_moves)\n",
    "missing_skill_moves_ix = missing_skill_moves_df.index\n",
    "\n",
    "model_data['imputed_skill_moves'] = False\n",
    "model_data.loc[missing_skill_moves_ix, 'imputed_skill_moves'] = True\n",
    "model_data['skill_moves'] = model_data['skill_moves'].fillna(missing_skill_moves_df['imputed_skill_moves'])"
   ],
   "metadata": {
    "collapsed": false,
    "ExecuteTime": {
     "end_time": "2023-06-17T13:11:06.638522Z",
     "start_time": "2023-06-17T13:11:06.295878Z"
    }
   }
  },
  {
   "cell_type": "code",
   "execution_count": 105,
   "outputs": [],
   "source": [
    "def impute_work_rate_a(player_name):\n",
    "    result = model_data['work_rate_a'].mode().values[0]\n",
    "    filtered_df = model_data.loc[model_data['player_name']==player_name]\n",
    "    try:\n",
    "        result = filtered_df['work_rate_a'].mode().values[0]\n",
    "    except IndexError:\n",
    "        pass\n",
    "    return result"
   ],
   "metadata": {
    "collapsed": false,
    "ExecuteTime": {
     "end_time": "2023-06-17T13:11:06.661709Z",
     "start_time": "2023-06-17T13:11:06.550305Z"
    }
   }
  },
  {
   "cell_type": "code",
   "execution_count": 106,
   "outputs": [],
   "source": [
    "missing_work_rate_a_df = model_data.loc[model_data['work_rate_a'].isna()].copy()\n",
    "missing_work_rate_a_df['imputed_work_rate_a'] = missing_work_rate_a_df['player_name'].apply(impute_work_rate_a)\n",
    "missing_work_rate_a_ix = missing_work_rate_a_df.index\n",
    "\n",
    "model_data['imputed_work_rate_a'] = False\n",
    "model_data.loc[missing_work_rate_a_ix, 'imputed_work_rate_a'] = True\n",
    "model_data['work_rate_a'] = model_data['work_rate_a'].fillna(missing_work_rate_a_df['imputed_work_rate_a'])"
   ],
   "metadata": {
    "collapsed": false,
    "ExecuteTime": {
     "end_time": "2023-06-17T13:11:10.048011Z",
     "start_time": "2023-06-17T13:11:06.553181Z"
    }
   }
  },
  {
   "cell_type": "code",
   "execution_count": 107,
   "outputs": [],
   "source": [
    "def impute_work_rate_d(player_name):\n",
    "    result = model_data['work_rate_d'].mode().values[0]\n",
    "    filtered_df = model_data.loc[model_data['player_name']==player_name]\n",
    "    try:\n",
    "        result = filtered_df['work_rate_d'].mode().values[0]\n",
    "    except IndexError:\n",
    "        pass\n",
    "    return result"
   ],
   "metadata": {
    "collapsed": false,
    "ExecuteTime": {
     "end_time": "2023-06-17T13:11:10.060752Z",
     "start_time": "2023-06-17T13:11:10.032789Z"
    }
   }
  },
  {
   "cell_type": "code",
   "execution_count": 108,
   "outputs": [],
   "source": [
    "missing_work_rate_d_df = model_data.loc[model_data['work_rate_d'].isna()].copy()\n",
    "missing_work_rate_d_df['imputed_work_rate_d'] = missing_work_rate_d_df['player_name'].apply(impute_work_rate_d)\n",
    "missing_work_rate_d_ix = missing_work_rate_d_df.index\n",
    "\n",
    "model_data['imputed_work_rate_d'] = False\n",
    "model_data.loc[missing_work_rate_d_ix, 'imputed_work_rate_d'] = True\n",
    "model_data['work_rate_d'] = model_data['work_rate_d'].fillna(missing_work_rate_d_df['imputed_work_rate_d'])"
   ],
   "metadata": {
    "collapsed": false,
    "ExecuteTime": {
     "end_time": "2023-06-17T13:11:12.490027Z",
     "start_time": "2023-06-17T13:11:10.041422Z"
    }
   }
  },
  {
   "cell_type": "code",
   "execution_count": 109,
   "outputs": [],
   "source": [
    "def impute_player_weight(player_name):\n",
    "    result = model_data['player_weight'].mode().values[0]  # TODO: change base result to mode per player length\n",
    "    filtered_df = model_data.loc[model_data['player_name']==player_name]\n",
    "    try:\n",
    "        result = filtered_df['player_weight'].mode().values[0]\n",
    "    except IndexError:\n",
    "        pass\n",
    "    return result"
   ],
   "metadata": {
    "collapsed": false,
    "ExecuteTime": {
     "end_time": "2023-06-17T13:11:12.497Z",
     "start_time": "2023-06-17T13:11:12.492463Z"
    }
   }
  },
  {
   "cell_type": "code",
   "execution_count": 110,
   "outputs": [],
   "source": [
    "model_data['player_weight'] = model_data['player_weight'].str.replace('kg', '')\n",
    "\n",
    "missing_player_weight_df = model_data.loc[model_data['player_weight'].isna()].copy()\n",
    "missing_player_weight_df['imputed_weight'] = missing_player_weight_df['player_name'].apply(impute_player_weight)\n",
    "missing_player_weight_ix = missing_player_weight_df.index\n",
    "\n",
    "model_data['imputed_weight'] = False\n",
    "model_data.loc[missing_player_weight_ix, 'imputed_weight'] = True\n",
    "model_data['player_weight'] = model_data['player_weight'].fillna(missing_player_weight_df['imputed_weight'])"
   ],
   "metadata": {
    "collapsed": false,
    "ExecuteTime": {
     "end_time": "2023-06-17T13:11:12.885646Z",
     "start_time": "2023-06-17T13:11:12.503677Z"
    }
   }
  },
  {
   "cell_type": "code",
   "execution_count": 111,
   "outputs": [
    {
     "data": {
      "text/plain": "False"
     },
     "execution_count": 111,
     "metadata": {},
     "output_type": "execute_result"
    }
   ],
   "source": [
    "model_data.isna().any().any()"
   ],
   "metadata": {
    "collapsed": false,
    "ExecuteTime": {
     "end_time": "2023-06-17T13:11:12.903207Z",
     "start_time": "2023-06-17T13:11:12.887237Z"
    }
   }
  },
  {
   "cell_type": "markdown",
   "source": [
    "#### Converting datatypes"
   ],
   "metadata": {
    "collapsed": false
   }
  },
  {
   "cell_type": "code",
   "execution_count": 112,
   "outputs": [],
   "source": [
    "# convert player_height to numbers only\n",
    "model_data['player_height'] = model_data['player_height'].str.replace('cm', '')\n",
    "\n",
    "# change model_data types of the columns\n",
    "model_data['season'] = pd.Categorical(model_data['season'])\n",
    "model_data['team_name'] = pd.Categorical(model_data['team_name'])\n",
    "model_data['manager_name'] = pd.Categorical(model_data['manager_name'])\n",
    "model_data['captain_name'] = pd.Categorical(model_data['captain_name'])\n",
    "model_data['basic_position'] = pd.Categorical(model_data['basic_position'])\n",
    "model_data['nation'] = pd.Categorical(model_data['nation'])\n",
    "# model_data['skill_moves'] = pd.Categorical(model_data['skill_moves'], categories = [1,2,3,4,5], ordered = True)\n",
    "# model_data['weak_foot_quality'] = pd.Categorical(model_data['weak_foot_quality'], categories = [1,2,3,4,5], ordered=True)\n",
    "model_data['work_rate_a'] = pd.Categorical(model_data['work_rate_a'], categories=['L', 'M', 'H'], ordered=True)\n",
    "model_data['work_rate_d'] = pd.Categorical(model_data['work_rate_a'], categories=['L', 'M', 'H'], ordered=True)\n",
    "model_data['player_height'] = model_data['player_height'].astype('int')\n",
    "model_data['player_weight'] = model_data['player_weight'].astype('int')\n",
    "model_data['age'] = model_data['age'].astype('int')\n",
    "\n",
    "# drop undesired columns\n",
    "model_data.drop(columns=['player_name', 'average_home_rating', 'average_away_rating', 'position', 'league', 'stadium_capacity'], inplace=True)"
   ],
   "metadata": {
    "collapsed": false,
    "ExecuteTime": {
     "end_time": "2023-06-17T13:11:12.973384Z",
     "start_time": "2023-06-17T13:11:12.908741Z"
    }
   }
  },
  {
   "cell_type": "code",
   "execution_count": 113,
   "outputs": [],
   "source": [
    "data_weight_filter = model_data['observation_weight'] >= 10\n",
    "model_data_filtered = model_data.copy().loc[data_weight_filter]\n",
    "model_data_filtered['team_name'] = pd.Categorical(model_data_filtered['team_name'].astype('object'))"
   ],
   "metadata": {
    "collapsed": false,
    "ExecuteTime": {
     "end_time": "2023-06-17T13:11:13.002648Z",
     "start_time": "2023-06-17T13:11:12.934234Z"
    }
   }
  },
  {
   "cell_type": "code",
   "execution_count": 114,
   "outputs": [
    {
     "name": "stdout",
     "output_type": "stream",
     "text": [
      "<class 'pandas.core.frame.DataFrame'>\n",
      "Int64Index: 4438 entries, 0 to 4524\n",
      "Data columns (total 25 columns):\n",
      " #   Column                   Non-Null Count  Dtype   \n",
      "---  ------                   --------------  -----   \n",
      " 0   season                   4438 non-null   category\n",
      " 1   team_name                4438 non-null   category\n",
      " 2   observation_weight       4438 non-null   int64   \n",
      " 3   hra                      4438 non-null   float64 \n",
      " 4   average_home_attendance  4438 non-null   int64   \n",
      " 5   manager_name             4438 non-null   category\n",
      " 6   captain_name             4438 non-null   category\n",
      " 7   promoted                 4438 non-null   bool    \n",
      " 8   is_captain               4438 non-null   bool    \n",
      " 9   player_rating            4438 non-null   float64 \n",
      " 10  nation                   4438 non-null   category\n",
      " 11  skill_moves              4438 non-null   float64 \n",
      " 12  weak_foot_quality        4438 non-null   float64 \n",
      " 13  work_rate_a              4438 non-null   category\n",
      " 14  work_rate_d              4438 non-null   category\n",
      " 15  player_height            4438 non-null   int64   \n",
      " 16  player_weight            4438 non-null   int64   \n",
      " 17  age                      4438 non-null   int64   \n",
      " 18  basic_position           4438 non-null   category\n",
      " 19  trend                    4438 non-null   int64   \n",
      " 20  british_nationality      4438 non-null   bool    \n",
      " 21  imputed_skill_moves      4438 non-null   bool    \n",
      " 22  imputed_work_rate_a      4438 non-null   bool    \n",
      " 23  imputed_work_rate_d      4438 non-null   bool    \n",
      " 24  imputed_weight           4438 non-null   bool    \n",
      "dtypes: bool(7), category(8), float64(4), int64(6)\n",
      "memory usage: 590.5 KB\n"
     ]
    }
   ],
   "source": [
    "model_data.info()"
   ],
   "metadata": {
    "collapsed": false,
    "ExecuteTime": {
     "end_time": "2023-06-17T13:11:13.003070Z",
     "start_time": "2023-06-17T13:11:12.943226Z"
    }
   }
  },
  {
   "cell_type": "code",
   "execution_count": 115,
   "outputs": [
    {
     "data": {
      "text/plain": "       season          team_name  observation_weight       hra  \\\n0   2009/2010             Fulham                  15  0.348000   \n1   2009/2010             Fulham                  10  0.547000   \n2   2009/2010             Fulham                  13  0.483077   \n3   2009/2010             Fulham                  10  0.172000   \n4   2009/2010             Fulham                   8  0.720000   \n5   2009/2010             Fulham                  12 -0.170000   \n6   2009/2010             Fulham                   6  0.143333   \n7   2009/2010             Fulham                   1  0.360000   \n8   2009/2010             Fulham                   2  0.410000   \n10  2009/2010             Fulham                   2  0.415000   \n12  2009/2010             Fulham                  18  0.081111   \n13  2009/2010             Fulham                   8  0.185000   \n14  2009/2010             Fulham                   1  0.540000   \n15  2009/2010             Fulham                   5  0.442000   \n16  2009/2010  Tottenham Hotspur                   3  1.030000   \n\n    average_home_attendance    manager_name  captain_name  promoted  \\\n0                     23909     Roy Hodgson  Danny Murphy     False   \n1                     23909     Roy Hodgson  Danny Murphy     False   \n2                     23909     Roy Hodgson  Danny Murphy     False   \n3                     23909     Roy Hodgson  Danny Murphy     False   \n4                     23909     Roy Hodgson  Danny Murphy     False   \n5                     23909     Roy Hodgson  Danny Murphy     False   \n6                     23909     Roy Hodgson  Danny Murphy     False   \n7                     23909     Roy Hodgson  Danny Murphy     False   \n8                     23909     Roy Hodgson  Danny Murphy     False   \n10                    23909     Roy Hodgson  Danny Murphy     False   \n12                    23909     Roy Hodgson  Danny Murphy     False   \n13                    23909     Roy Hodgson  Danny Murphy     False   \n14                    23909     Roy Hodgson  Danny Murphy     False   \n15                    23909     Roy Hodgson  Danny Murphy     False   \n16                    35794  Harry Redknapp   Ledley King     False   \n\n    is_captain  player_rating  ... player_height  player_weight  age  \\\n0        False           77.0  ...           183             72   30   \n1        False           75.0  ...           183             74   29   \n2        False           82.0  ...           195             92   28   \n3        False           71.0  ...           179             72   28   \n4        False           75.0  ...           185             84   27   \n5        False           76.0  ...           175             77   31   \n6         True           76.0  ...           175             69   33   \n7        False           71.0  ...           188             83   27   \n8        False           74.0  ...           177             70   32   \n10       False           75.0  ...           180             70   31   \n12       False           80.0  ...           194             85   37   \n13       False           75.0  ...           178             69   29   \n14       False           74.0  ...           178             76   30   \n15       False           74.0  ...           183             75   31   \n16       False           76.0  ...           165             72   23   \n\n   basic_position trend  british_nationality  imputed_skill_moves  \\\n0        defender     1                 True                 True   \n1        attacker     1                 True                 True   \n2        defender     1                False                 True   \n3        defender     1                 True                 True   \n4      midfielder     1                False                 True   \n5        attacker     1                 True                 True   \n6      midfielder     1                 True                 True   \n7      midfielder     1                False                 True   \n8        attacker     1                False                 True   \n10     midfielder     1                 True                 True   \n12     goalkeeper     1                False                 True   \n13       defender     1                 True                 True   \n14     midfielder     1                 True                 True   \n15     midfielder     1                False                 True   \n16       attacker     1                 True                 True   \n\n    imputed_work_rate_a imputed_work_rate_d  imputed_weight  \n0                  True                True           False  \n1                  True                True           False  \n2                  True                True           False  \n3                  True                True           False  \n4                  True                True           False  \n5                  True                True           False  \n6                  True                True           False  \n7                  True                True           False  \n8                  True                True           False  \n10                 True                True           False  \n12                 True                True           False  \n13                 True                True           False  \n14                 True                True           False  \n15                 True                True           False  \n16                 True                True           False  \n\n[15 rows x 25 columns]",
      "text/html": "<div>\n<style scoped>\n    .dataframe tbody tr th:only-of-type {\n        vertical-align: middle;\n    }\n\n    .dataframe tbody tr th {\n        vertical-align: top;\n    }\n\n    .dataframe thead th {\n        text-align: right;\n    }\n</style>\n<table border=\"1\" class=\"dataframe\">\n  <thead>\n    <tr style=\"text-align: right;\">\n      <th></th>\n      <th>season</th>\n      <th>team_name</th>\n      <th>observation_weight</th>\n      <th>hra</th>\n      <th>average_home_attendance</th>\n      <th>manager_name</th>\n      <th>captain_name</th>\n      <th>promoted</th>\n      <th>is_captain</th>\n      <th>player_rating</th>\n      <th>...</th>\n      <th>player_height</th>\n      <th>player_weight</th>\n      <th>age</th>\n      <th>basic_position</th>\n      <th>trend</th>\n      <th>british_nationality</th>\n      <th>imputed_skill_moves</th>\n      <th>imputed_work_rate_a</th>\n      <th>imputed_work_rate_d</th>\n      <th>imputed_weight</th>\n    </tr>\n  </thead>\n  <tbody>\n    <tr>\n      <th>0</th>\n      <td>2009/2010</td>\n      <td>Fulham</td>\n      <td>15</td>\n      <td>0.348000</td>\n      <td>23909</td>\n      <td>Roy Hodgson</td>\n      <td>Danny Murphy</td>\n      <td>False</td>\n      <td>False</td>\n      <td>77.0</td>\n      <td>...</td>\n      <td>183</td>\n      <td>72</td>\n      <td>30</td>\n      <td>defender</td>\n      <td>1</td>\n      <td>True</td>\n      <td>True</td>\n      <td>True</td>\n      <td>True</td>\n      <td>False</td>\n    </tr>\n    <tr>\n      <th>1</th>\n      <td>2009/2010</td>\n      <td>Fulham</td>\n      <td>10</td>\n      <td>0.547000</td>\n      <td>23909</td>\n      <td>Roy Hodgson</td>\n      <td>Danny Murphy</td>\n      <td>False</td>\n      <td>False</td>\n      <td>75.0</td>\n      <td>...</td>\n      <td>183</td>\n      <td>74</td>\n      <td>29</td>\n      <td>attacker</td>\n      <td>1</td>\n      <td>True</td>\n      <td>True</td>\n      <td>True</td>\n      <td>True</td>\n      <td>False</td>\n    </tr>\n    <tr>\n      <th>2</th>\n      <td>2009/2010</td>\n      <td>Fulham</td>\n      <td>13</td>\n      <td>0.483077</td>\n      <td>23909</td>\n      <td>Roy Hodgson</td>\n      <td>Danny Murphy</td>\n      <td>False</td>\n      <td>False</td>\n      <td>82.0</td>\n      <td>...</td>\n      <td>195</td>\n      <td>92</td>\n      <td>28</td>\n      <td>defender</td>\n      <td>1</td>\n      <td>False</td>\n      <td>True</td>\n      <td>True</td>\n      <td>True</td>\n      <td>False</td>\n    </tr>\n    <tr>\n      <th>3</th>\n      <td>2009/2010</td>\n      <td>Fulham</td>\n      <td>10</td>\n      <td>0.172000</td>\n      <td>23909</td>\n      <td>Roy Hodgson</td>\n      <td>Danny Murphy</td>\n      <td>False</td>\n      <td>False</td>\n      <td>71.0</td>\n      <td>...</td>\n      <td>179</td>\n      <td>72</td>\n      <td>28</td>\n      <td>defender</td>\n      <td>1</td>\n      <td>True</td>\n      <td>True</td>\n      <td>True</td>\n      <td>True</td>\n      <td>False</td>\n    </tr>\n    <tr>\n      <th>4</th>\n      <td>2009/2010</td>\n      <td>Fulham</td>\n      <td>8</td>\n      <td>0.720000</td>\n      <td>23909</td>\n      <td>Roy Hodgson</td>\n      <td>Danny Murphy</td>\n      <td>False</td>\n      <td>False</td>\n      <td>75.0</td>\n      <td>...</td>\n      <td>185</td>\n      <td>84</td>\n      <td>27</td>\n      <td>midfielder</td>\n      <td>1</td>\n      <td>False</td>\n      <td>True</td>\n      <td>True</td>\n      <td>True</td>\n      <td>False</td>\n    </tr>\n    <tr>\n      <th>5</th>\n      <td>2009/2010</td>\n      <td>Fulham</td>\n      <td>12</td>\n      <td>-0.170000</td>\n      <td>23909</td>\n      <td>Roy Hodgson</td>\n      <td>Danny Murphy</td>\n      <td>False</td>\n      <td>False</td>\n      <td>76.0</td>\n      <td>...</td>\n      <td>175</td>\n      <td>77</td>\n      <td>31</td>\n      <td>attacker</td>\n      <td>1</td>\n      <td>True</td>\n      <td>True</td>\n      <td>True</td>\n      <td>True</td>\n      <td>False</td>\n    </tr>\n    <tr>\n      <th>6</th>\n      <td>2009/2010</td>\n      <td>Fulham</td>\n      <td>6</td>\n      <td>0.143333</td>\n      <td>23909</td>\n      <td>Roy Hodgson</td>\n      <td>Danny Murphy</td>\n      <td>False</td>\n      <td>True</td>\n      <td>76.0</td>\n      <td>...</td>\n      <td>175</td>\n      <td>69</td>\n      <td>33</td>\n      <td>midfielder</td>\n      <td>1</td>\n      <td>True</td>\n      <td>True</td>\n      <td>True</td>\n      <td>True</td>\n      <td>False</td>\n    </tr>\n    <tr>\n      <th>7</th>\n      <td>2009/2010</td>\n      <td>Fulham</td>\n      <td>1</td>\n      <td>0.360000</td>\n      <td>23909</td>\n      <td>Roy Hodgson</td>\n      <td>Danny Murphy</td>\n      <td>False</td>\n      <td>False</td>\n      <td>71.0</td>\n      <td>...</td>\n      <td>188</td>\n      <td>83</td>\n      <td>27</td>\n      <td>midfielder</td>\n      <td>1</td>\n      <td>False</td>\n      <td>True</td>\n      <td>True</td>\n      <td>True</td>\n      <td>False</td>\n    </tr>\n    <tr>\n      <th>8</th>\n      <td>2009/2010</td>\n      <td>Fulham</td>\n      <td>2</td>\n      <td>0.410000</td>\n      <td>23909</td>\n      <td>Roy Hodgson</td>\n      <td>Danny Murphy</td>\n      <td>False</td>\n      <td>False</td>\n      <td>74.0</td>\n      <td>...</td>\n      <td>177</td>\n      <td>70</td>\n      <td>32</td>\n      <td>attacker</td>\n      <td>1</td>\n      <td>False</td>\n      <td>True</td>\n      <td>True</td>\n      <td>True</td>\n      <td>False</td>\n    </tr>\n    <tr>\n      <th>10</th>\n      <td>2009/2010</td>\n      <td>Fulham</td>\n      <td>2</td>\n      <td>0.415000</td>\n      <td>23909</td>\n      <td>Roy Hodgson</td>\n      <td>Danny Murphy</td>\n      <td>False</td>\n      <td>False</td>\n      <td>75.0</td>\n      <td>...</td>\n      <td>180</td>\n      <td>70</td>\n      <td>31</td>\n      <td>midfielder</td>\n      <td>1</td>\n      <td>True</td>\n      <td>True</td>\n      <td>True</td>\n      <td>True</td>\n      <td>False</td>\n    </tr>\n    <tr>\n      <th>12</th>\n      <td>2009/2010</td>\n      <td>Fulham</td>\n      <td>18</td>\n      <td>0.081111</td>\n      <td>23909</td>\n      <td>Roy Hodgson</td>\n      <td>Danny Murphy</td>\n      <td>False</td>\n      <td>False</td>\n      <td>80.0</td>\n      <td>...</td>\n      <td>194</td>\n      <td>85</td>\n      <td>37</td>\n      <td>goalkeeper</td>\n      <td>1</td>\n      <td>False</td>\n      <td>True</td>\n      <td>True</td>\n      <td>True</td>\n      <td>False</td>\n    </tr>\n    <tr>\n      <th>13</th>\n      <td>2009/2010</td>\n      <td>Fulham</td>\n      <td>8</td>\n      <td>0.185000</td>\n      <td>23909</td>\n      <td>Roy Hodgson</td>\n      <td>Danny Murphy</td>\n      <td>False</td>\n      <td>False</td>\n      <td>75.0</td>\n      <td>...</td>\n      <td>178</td>\n      <td>69</td>\n      <td>29</td>\n      <td>defender</td>\n      <td>1</td>\n      <td>True</td>\n      <td>True</td>\n      <td>True</td>\n      <td>True</td>\n      <td>False</td>\n    </tr>\n    <tr>\n      <th>14</th>\n      <td>2009/2010</td>\n      <td>Fulham</td>\n      <td>1</td>\n      <td>0.540000</td>\n      <td>23909</td>\n      <td>Roy Hodgson</td>\n      <td>Danny Murphy</td>\n      <td>False</td>\n      <td>False</td>\n      <td>74.0</td>\n      <td>...</td>\n      <td>178</td>\n      <td>76</td>\n      <td>30</td>\n      <td>midfielder</td>\n      <td>1</td>\n      <td>True</td>\n      <td>True</td>\n      <td>True</td>\n      <td>True</td>\n      <td>False</td>\n    </tr>\n    <tr>\n      <th>15</th>\n      <td>2009/2010</td>\n      <td>Fulham</td>\n      <td>5</td>\n      <td>0.442000</td>\n      <td>23909</td>\n      <td>Roy Hodgson</td>\n      <td>Danny Murphy</td>\n      <td>False</td>\n      <td>False</td>\n      <td>74.0</td>\n      <td>...</td>\n      <td>183</td>\n      <td>75</td>\n      <td>31</td>\n      <td>midfielder</td>\n      <td>1</td>\n      <td>False</td>\n      <td>True</td>\n      <td>True</td>\n      <td>True</td>\n      <td>False</td>\n    </tr>\n    <tr>\n      <th>16</th>\n      <td>2009/2010</td>\n      <td>Tottenham Hotspur</td>\n      <td>3</td>\n      <td>1.030000</td>\n      <td>35794</td>\n      <td>Harry Redknapp</td>\n      <td>Ledley King</td>\n      <td>False</td>\n      <td>False</td>\n      <td>76.0</td>\n      <td>...</td>\n      <td>165</td>\n      <td>72</td>\n      <td>23</td>\n      <td>attacker</td>\n      <td>1</td>\n      <td>True</td>\n      <td>True</td>\n      <td>True</td>\n      <td>True</td>\n      <td>False</td>\n    </tr>\n  </tbody>\n</table>\n<p>15 rows × 25 columns</p>\n</div>"
     },
     "execution_count": 115,
     "metadata": {},
     "output_type": "execute_result"
    }
   ],
   "source": [
    "model_data.head(15)"
   ],
   "metadata": {
    "collapsed": false,
    "ExecuteTime": {
     "end_time": "2023-06-17T13:11:13.003482Z",
     "start_time": "2023-06-17T13:11:12.973649Z"
    }
   }
  },
  {
   "cell_type": "markdown",
   "source": [
    "### Linear Regression\n",
    "Below we will perform OLS and WLS. For WLS we use the observation_weight as the weights. Furthermore, we use robust standard errors HC1. Note that the models below only take into account fixed effects for the *team*. So, fixed effects for the *season, nation, manager* and *captain* are not included."
   ],
   "metadata": {
    "collapsed": false
   }
  },
  {
   "cell_type": "code",
   "execution_count": 116,
   "outputs": [],
   "source": [
    "# set the formula string\n",
    "formula_string = f'hra ~ team_name + I(average_home_attendance/10000) + promoted + is_captain + player_rating + skill_moves + basic_position + age + trend + british_nationality'\n",
    "\n",
    "# fit the models\n",
    "ols_model_full = smf.ols(formula=formula_string, data=model_data).fit(cov_type='HC1')\n",
    "ols_model_filtered = smf.ols(formula=formula_string, data=model_data_filtered).fit(cov_type='HC1')\n",
    "wls_model_full = smf.wls(formula=formula_string, data=model_data, weights=model_data['observation_weight']).fit(cov_type='HC1')\n",
    "wls_model_filtered = smf.wls(formula=formula_string, data=model_data_filtered,\n",
    "                             weights=model_data_filtered['observation_weight']).fit(cov_type='HC1')\n",
    "\n",
    "# export the model parameters to csv\n",
    "wls_model_full.summary2().tables[1].to_csv(os.path.join(results_folder_path, 'linear-regression', 'wls_parameter_estimates_full_sample.csv'))\n",
    "wls_model_full.summary2().tables[0].to_csv(os.path.join(results_folder_path, 'linear-regression', 'wls_summary_statistics_full_sample.csv'), index=False)\n",
    "wls_model_filtered.summary2().tables[1].to_csv(os.path.join(results_folder_path, 'linear-regression', 'wls_parameter_estimates_filtered_sample.csv'))\n",
    "wls_model_filtered.summary2().tables[0].to_csv(os.path.join(results_folder_path, 'linear-regression', 'wls_summary_statistics_filtered_sample.csv'), index=False)"
   ],
   "metadata": {
    "collapsed": false,
    "ExecuteTime": {
     "end_time": "2023-06-17T13:11:13.262594Z",
     "start_time": "2023-06-17T13:11:12.987306Z"
    }
   }
  },
  {
   "cell_type": "code",
   "execution_count": 117,
   "outputs": [
    {
     "name": "stdout",
     "output_type": "stream",
     "text": [
      "                            WLS Regression Results                            \n",
      "==============================================================================\n",
      "Dep. Variable:                    hra   R-squared:                       0.084\n",
      "Model:                            WLS   Adj. R-squared:                  0.073\n",
      "Method:                 Least Squares   F-statistic:                     8.007\n",
      "Date:                Sat, 17 Jun 2023   Prob (F-statistic):           2.85e-53\n",
      "Time:                        15:11:13   Log-Likelihood:                -2195.9\n",
      "No. Observations:                4438   AIC:                             4494.\n",
      "Df Residuals:                    4387   BIC:                             4820.\n",
      "Df Model:                          50                                         \n",
      "Covariance Type:                  HC1                                         \n",
      "========================================================================================================\n",
      "                                           coef    std err          z      P>|z|      [0.025      0.975]\n",
      "--------------------------------------------------------------------------------------------------------\n",
      "Intercept                               -0.0221      0.128     -0.173      0.863      -0.273       0.229\n",
      "team_name[T.Aston Villa]                -0.0951      0.037     -2.586      0.010      -0.167      -0.023\n",
      "team_name[T.Birmingham City]             0.0890      0.052      1.710      0.087      -0.013       0.191\n",
      "team_name[T.Blackburn Rovers]            0.1246      0.056      2.226      0.026       0.015       0.234\n",
      "team_name[T.Blackpool]                  -0.1547      0.066     -2.336      0.019      -0.285      -0.025\n",
      "team_name[T.Bolton Wanderers]           -0.0139      0.060     -0.233      0.815      -0.131       0.103\n",
      "team_name[T.Bournemouth]                 0.0203      0.051      0.394      0.694      -0.081       0.121\n",
      "team_name[T.Brentford]                   0.1833      0.055      3.333      0.001       0.076       0.291\n",
      "team_name[T.Brighton & Hove Albion]     -0.0550      0.049     -1.129      0.259      -0.150       0.040\n",
      "team_name[T.Burnley]                    -0.0268      0.043     -0.618      0.537      -0.112       0.058\n",
      "team_name[T.Cardiff City]               -0.0722      0.079     -0.909      0.363      -0.228       0.083\n",
      "team_name[T.Chelsea]                    -0.0099      0.037     -0.264      0.791      -0.083       0.063\n",
      "team_name[T.Crystal Palace]             -0.0551      0.039     -1.422      0.155      -0.131       0.021\n",
      "team_name[T.Everton]                     0.0229      0.037      0.622      0.534      -0.049       0.095\n",
      "team_name[T.Fulham]                     -0.0245      0.044     -0.552      0.581      -0.112       0.063\n",
      "team_name[T.Huddersfield Town]          -0.0331      0.058     -0.573      0.567      -0.146       0.080\n",
      "team_name[T.Hull City]                   0.0558      0.044      1.268      0.205      -0.030       0.142\n",
      "team_name[T.Leeds United]               -0.0357      0.059     -0.608      0.543      -0.151       0.079\n",
      "team_name[T.Leicester City]              0.0073      0.043      0.168      0.866      -0.078       0.092\n",
      "team_name[T.Liverpool]                   0.0268      0.036      0.751      0.453      -0.043       0.097\n",
      "team_name[T.Manchester City]            -0.0021      0.036     -0.059      0.953      -0.074       0.069\n",
      "team_name[T.Manchester United]          -0.1058      0.035     -3.022      0.003      -0.174      -0.037\n",
      "team_name[T.Middlesbrough]              -0.0132      0.090     -0.145      0.884      -0.190       0.164\n",
      "team_name[T.Newcastle United]           -0.0216      0.036     -0.605      0.545      -0.091       0.048\n",
      "team_name[T.Norwich City]                0.0298      0.044      0.685      0.493      -0.055       0.115\n",
      "team_name[T.Nottingham Forest]           0.3153      0.112      2.821      0.005       0.096       0.534\n",
      "team_name[T.Portsmouth]                  0.0544      0.094      0.582      0.561      -0.129       0.238\n",
      "team_name[T.Queens Park Rangers]         0.2091      0.064      3.260      0.001       0.083       0.335\n",
      "team_name[T.Reading]                    -0.2255      0.079     -2.849      0.004      -0.381      -0.070\n",
      "team_name[T.Sheffield United]            0.1539      0.049      3.165      0.002       0.059       0.249\n",
      "team_name[T.Southampton]                -0.0096      0.041     -0.235      0.815      -0.090       0.071\n",
      "team_name[T.Stoke City]                 -0.0007      0.038     -0.019      0.985      -0.076       0.074\n",
      "team_name[T.Sunderland]                 -0.0498      0.043     -1.153      0.249      -0.134       0.035\n",
      "team_name[T.Swansea City]                0.0323      0.042      0.769      0.442      -0.050       0.114\n",
      "team_name[T.Tottenham Hotspur]          -0.0070      0.033     -0.211      0.833      -0.072       0.058\n",
      "team_name[T.Watford]                    -0.0203      0.046     -0.441      0.659      -0.111       0.070\n",
      "team_name[T.West Bromwich Albion]       -0.0201      0.041     -0.491      0.624      -0.100       0.060\n",
      "team_name[T.West Ham United]            -0.0551      0.035     -1.562      0.118      -0.124       0.014\n",
      "team_name[T.Wigan Athletic]             -0.0469      0.052     -0.895      0.371      -0.150       0.056\n",
      "team_name[T.Wolverhampton Wanderers]    -0.0086      0.044     -0.196      0.844      -0.094       0.077\n",
      "promoted[T.True]                         0.0194      0.017      1.142      0.253      -0.014       0.053\n",
      "is_captain[T.True]                       0.0165      0.019      0.852      0.394      -0.022       0.055\n",
      "basic_position[T.defender]              -0.0638      0.020     -3.246      0.001      -0.102      -0.025\n",
      "basic_position[T.goalkeeper]            -0.1550      0.032     -4.906      0.000      -0.217      -0.093\n",
      "basic_position[T.midfielder]            -0.0022      0.018     -0.119      0.905      -0.038       0.033\n",
      "british_nationality[T.True]              0.0167      0.011      1.471      0.141      -0.006       0.039\n",
      "I(average_home_attendance / 10000)       0.0302      0.005      6.653      0.000       0.021       0.039\n",
      "player_rating                            0.0013      0.002      0.790      0.430      -0.002       0.004\n",
      "skill_moves                              0.0213      0.009      2.325      0.020       0.003       0.039\n",
      "age                                      0.0006      0.002      0.421      0.674      -0.002       0.004\n",
      "trend                                   -0.0085      0.002     -5.379      0.000      -0.012      -0.005\n",
      "==============================================================================\n",
      "Omnibus:                       34.904   Durbin-Watson:                   1.835\n",
      "Prob(Omnibus):                  0.000   Jarque-Bera (JB):               53.900\n",
      "Skew:                           0.013   Prob(JB):                     1.98e-12\n",
      "Kurtosis:                       3.539   Cond. No.                     3.25e+03\n",
      "==============================================================================\n",
      "\n",
      "Notes:\n",
      "[1] Standard Errors are heteroscedasticity robust (HC1)\n",
      "[2] The condition number is large, 3.25e+03. This might indicate that there are\n",
      "strong multicollinearity or other numerical problems.\n"
     ]
    }
   ],
   "source": [
    "pyperclip.copy(wls_model_full.summary().as_text())\n",
    "print(wls_model_full.summary())"
   ],
   "metadata": {
    "collapsed": false,
    "ExecuteTime": {
     "end_time": "2023-06-17T13:11:13.299808Z",
     "start_time": "2023-06-17T13:11:13.146680Z"
    }
   }
  },
  {
   "cell_type": "code",
   "execution_count": 118,
   "outputs": [
    {
     "name": "stdout",
     "output_type": "stream",
     "text": [
      "in-sample r-squared: 0.0835196292357695\n",
      "in-sample mse: 0.11107912341211841\n",
      "in-sample mae: 0.2417080615215362\n",
      "----------------------------------------------------------------------------------------------------\n"
     ]
    }
   ],
   "source": [
    "y_full = model_data['hra']\n",
    "obs_weight_full = model_data['observation_weight']\n",
    "\n",
    "# predict\n",
    "p_wls_full_in = wls_model_full.fittedvalues\n",
    "\n",
    "# evaluate: in-sample\n",
    "r2_wls_full_in = r2_score(y_true=y_full, y_pred=p_wls_full_in, sample_weight=obs_weight_full)\n",
    "mse_wls_full_in = mean_squared_error(y_true=y_full, y_pred=p_wls_full_in, sample_weight=obs_weight_full)\n",
    "mae_wls_full_in = mean_absolute_error(y_true=y_full, y_pred=p_wls_full_in, sample_weight=obs_weight_full)\n",
    "\n",
    "print(f'in-sample r-squared: {r2_wls_full_in}')\n",
    "print(f'in-sample mse: {mse_wls_full_in}')\n",
    "print(f'in-sample mae: {mae_wls_full_in}')\n",
    "print('-'*100)"
   ],
   "metadata": {
    "collapsed": false,
    "ExecuteTime": {
     "end_time": "2023-06-17T13:11:13.311214Z",
     "start_time": "2023-06-17T13:11:13.237819Z"
    }
   }
  },
  {
   "cell_type": "code",
   "execution_count": 119,
   "outputs": [
    {
     "name": "stdout",
     "output_type": "stream",
     "text": [
      "                            WLS Regression Results                            \n",
      "==============================================================================\n",
      "Dep. Variable:                    hra   R-squared:                       0.164\n",
      "Model:                            WLS   Adj. R-squared:                  0.138\n",
      "Method:                 Least Squares   F-statistic:                     10.30\n",
      "Date:                Sat, 17 Jun 2023   Prob (F-statistic):           5.15e-65\n",
      "Time:                        15:11:13   Log-Likelihood:                -61.877\n",
      "No. Observations:                1619   AIC:                             223.8\n",
      "Df Residuals:                    1569   BIC:                             493.2\n",
      "Df Model:                          49                                         \n",
      "Covariance Type:                  HC1                                         \n",
      "========================================================================================================\n",
      "                                           coef    std err          z      P>|z|      [0.025      0.975]\n",
      "--------------------------------------------------------------------------------------------------------\n",
      "Intercept                               -0.0745      0.175     -0.426      0.670      -0.418       0.269\n",
      "team_name[T.Aston Villa]                -0.0677      0.043     -1.557      0.119      -0.153       0.018\n",
      "team_name[T.Birmingham City]             0.1473      0.060      2.451      0.014       0.030       0.265\n",
      "team_name[T.Blackburn Rovers]            0.1640      0.074      2.205      0.027       0.018       0.310\n",
      "team_name[T.Blackpool]                  -0.1041      0.063     -1.644      0.100      -0.228       0.020\n",
      "team_name[T.Bolton Wanderers]            0.0119      0.072      0.166      0.868      -0.128       0.152\n",
      "team_name[T.Bournemouth]                 0.0424      0.065      0.653      0.514      -0.085       0.169\n",
      "team_name[T.Brentford]                   0.2156      0.071      3.040      0.002       0.077       0.355\n",
      "team_name[T.Brighton & Hove Albion]     -0.0184      0.058     -0.318      0.750      -0.132       0.095\n",
      "team_name[T.Burnley]                     0.0114      0.052      0.220      0.826      -0.090       0.113\n",
      "team_name[T.Cardiff City]               -0.0860      0.103     -0.837      0.403      -0.287       0.115\n",
      "team_name[T.Chelsea]                     0.0431      0.044      0.985      0.325      -0.043       0.129\n",
      "team_name[T.Crystal Palace]             -0.0395      0.047     -0.835      0.404      -0.132       0.053\n",
      "team_name[T.Everton]                     0.0536      0.045      1.201      0.230      -0.034       0.141\n",
      "team_name[T.Fulham]                      0.0202      0.056      0.362      0.717      -0.089       0.130\n",
      "team_name[T.Huddersfield Town]           0.0058      0.071      0.083      0.934      -0.133       0.145\n",
      "team_name[T.Hull City]                   0.0580      0.054      1.071      0.284      -0.048       0.164\n",
      "team_name[T.Leeds United]                0.0219      0.077      0.286      0.775      -0.128       0.172\n",
      "team_name[T.Leicester City]              0.0374      0.054      0.688      0.491      -0.069       0.144\n",
      "team_name[T.Liverpool]                   0.0461      0.044      1.057      0.290      -0.039       0.131\n",
      "team_name[T.Manchester City]             0.0100      0.047      0.213      0.832      -0.082       0.102\n",
      "team_name[T.Manchester United]          -0.0475      0.044     -1.086      0.277      -0.133       0.038\n",
      "team_name[T.Middlesbrough]              -0.1237      0.075     -1.650      0.099      -0.271       0.023\n",
      "team_name[T.Newcastle United]           -0.0017      0.045     -0.038      0.970      -0.090       0.086\n",
      "team_name[T.Norwich City]                0.0702      0.053      1.323      0.186      -0.034       0.174\n",
      "team_name[T.Nottingham Forest]           0.5944      0.063      9.408      0.000       0.471       0.718\n",
      "team_name[T.Queens Park Rangers]         0.3826      0.077      4.971      0.000       0.232       0.533\n",
      "team_name[T.Reading]                    -0.2807      0.086     -3.278      0.001      -0.449      -0.113\n",
      "team_name[T.Sheffield United]            0.2028      0.059      3.426      0.001       0.087       0.319\n",
      "team_name[T.Southampton]                 0.0007      0.051      0.014      0.989      -0.098       0.100\n",
      "team_name[T.Stoke City]                  0.0257      0.045      0.577      0.564      -0.062       0.113\n",
      "team_name[T.Sunderland]                 -0.0205      0.054     -0.382      0.703      -0.126       0.085\n",
      "team_name[T.Swansea City]                0.0946      0.050      1.878      0.060      -0.004       0.193\n",
      "team_name[T.Tottenham Hotspur]           0.0488      0.041      1.198      0.231      -0.031       0.129\n",
      "team_name[T.Watford]                    -0.0012      0.059     -0.020      0.984      -0.117       0.114\n",
      "team_name[T.West Bromwich Albion]        0.0134      0.049      0.272      0.785      -0.083       0.110\n",
      "team_name[T.West Ham United]            -0.0041      0.043     -0.096      0.923      -0.088       0.080\n",
      "team_name[T.Wigan Athletic]             -0.0158      0.061     -0.259      0.796      -0.136       0.104\n",
      "team_name[T.Wolverhampton Wanderers]     0.0155      0.052      0.298      0.765      -0.086       0.117\n",
      "promoted[T.True]                         0.0332      0.021      1.559      0.119      -0.009       0.075\n",
      "is_captain[T.True]                       0.0151      0.023      0.662      0.508      -0.030       0.060\n",
      "basic_position[T.defender]              -0.0895      0.027     -3.322      0.001      -0.142      -0.037\n",
      "basic_position[T.goalkeeper]            -0.1695      0.040     -4.211      0.000      -0.248      -0.091\n",
      "basic_position[T.midfielder]            -0.0197      0.025     -0.789      0.430      -0.069       0.029\n",
      "british_nationality[T.True]              0.0041      0.015      0.283      0.777      -0.025       0.033\n",
      "I(average_home_attendance / 10000)       0.0316      0.006      5.578      0.000       0.020       0.043\n",
      "player_rating                            0.0024      0.002      1.120      0.263      -0.002       0.007\n",
      "skill_moves                              0.0186      0.012      1.571      0.116      -0.005       0.042\n",
      "age                                     -0.0008      0.002     -0.428      0.668      -0.005       0.003\n",
      "trend                                   -0.0086      0.002     -4.412      0.000      -0.012      -0.005\n",
      "==============================================================================\n",
      "Omnibus:                        8.464   Durbin-Watson:                   1.711\n",
      "Prob(Omnibus):                  0.015   Jarque-Bera (JB):               11.060\n",
      "Skew:                           0.029   Prob(JB):                      0.00397\n",
      "Kurtosis:                       3.401   Cond. No.                     3.41e+03\n",
      "==============================================================================\n",
      "\n",
      "Notes:\n",
      "[1] Standard Errors are heteroscedasticity robust (HC1)\n",
      "[2] The condition number is large, 3.41e+03. This might indicate that there are\n",
      "strong multicollinearity or other numerical problems.\n"
     ]
    }
   ],
   "source": [
    "pyperclip.copy(wls_model_filtered.summary().as_text())\n",
    "print(wls_model_filtered.summary())"
   ],
   "metadata": {
    "collapsed": false,
    "ExecuteTime": {
     "end_time": "2023-06-17T13:11:13.438979Z",
     "start_time": "2023-06-17T13:11:13.249978Z"
    }
   }
  },
  {
   "cell_type": "code",
   "execution_count": 120,
   "outputs": [
    {
     "name": "stdout",
     "output_type": "stream",
     "text": [
      "in-sample r-squared: 0.16414038474505288\n",
      "in-sample mse: 0.061875262099465526\n",
      "in-sample mae: 0.19346072408141113\n",
      "----------------------------------------------------------------------------------------------------\n"
     ]
    }
   ],
   "source": [
    "y_filtered = model_data_filtered['hra']\n",
    "obs_weight_filtered = model_data_filtered['observation_weight']\n",
    "\n",
    "# predict\n",
    "p_wls_filtered_in = wls_model_filtered.fittedvalues\n",
    "\n",
    "# evaluate: in-sample\n",
    "r2_wls_filtered_in = r2_score(y_true=y_filtered, y_pred=p_wls_filtered_in, sample_weight=obs_weight_filtered)\n",
    "mse_wls_filtered_in = mean_squared_error(y_true=y_filtered, y_pred=p_wls_filtered_in, sample_weight=obs_weight_filtered)\n",
    "mae_wls_filtered_in = mean_absolute_error(y_true=y_filtered, y_pred=p_wls_filtered_in, sample_weight=obs_weight_filtered)\n",
    "\n",
    "print(f'in-sample r-squared: {r2_wls_filtered_in}')\n",
    "print(f'in-sample mse: {mse_wls_filtered_in}')\n",
    "print(f'in-sample mae: {mae_wls_filtered_in}')\n",
    "print('-'*100)"
   ],
   "metadata": {
    "collapsed": false,
    "ExecuteTime": {
     "end_time": "2023-06-17T13:11:13.439447Z",
     "start_time": "2023-06-17T13:11:13.348325Z"
    }
   }
  },
  {
   "cell_type": "markdown",
   "source": [
    "### Machine Learning: Random Forest Regression"
   ],
   "metadata": {
    "collapsed": false
   }
  },
  {
   "cell_type": "markdown",
   "source": [
    "#### Helper functions"
   ],
   "metadata": {
    "collapsed": false
   }
  },
  {
   "cell_type": "code",
   "execution_count": 121,
   "outputs": [],
   "source": [
    "rs_tree = 530\n",
    "rs_split = 1913\n",
    "rs_cv = 69\n",
    "\n",
    "train, test = train_test_split(model_data_filtered, test_size=0.25, random_state=rs_split)"
   ],
   "metadata": {
    "collapsed": false,
    "ExecuteTime": {
     "end_time": "2023-06-17T13:11:13.439584Z",
     "start_time": "2023-06-17T13:11:13.356847Z"
    }
   }
  },
  {
   "cell_type": "code",
   "execution_count": 122,
   "outputs": [],
   "source": [
    "def get_variable_importance(feature_names, feature_importances):\n",
    "    arr = np.column_stack((feature_names, feature_importances))\n",
    "    var_importance = pd.Series(arr[:,1], index=arr[:,0], name='variable_importance').sort_values(ascending=False)\n",
    "    cumulative_var_importance = var_importance.cumsum()\n",
    "    var_importance = pd.DataFrame({'variable_importance': var_importance, 'cumulative_importance': cumulative_var_importance})\n",
    "    return var_importance"
   ],
   "metadata": {
    "collapsed": false,
    "ExecuteTime": {
     "end_time": "2023-06-17T13:11:13.442370Z",
     "start_time": "2023-06-17T13:11:13.368311Z"
    }
   }
  },
  {
   "cell_type": "code",
   "execution_count": 123,
   "outputs": [],
   "source": [
    "def get_pd_bool(estimator, X, train, method='auto'):\n",
    "    boolean_columns = train.select_dtypes('bool').columns\n",
    "    pd_bool = pd.DataFrame(index=['False', 'True'], columns=boolean_columns)\n",
    "\n",
    "    for boolean_column in boolean_columns:\n",
    "        var_index = X.columns.get_loc(boolean_column)\n",
    "        partial_dep = partial_dependence(estimator, X, features=[var_index], method=method)\n",
    "        column = pd.Series(partial_dep['average'][0], index=partial_dep['values'][0].astype(str))\n",
    "        pd_bool[boolean_column] = column\n",
    "\n",
    "    return pd_bool"
   ],
   "metadata": {
    "collapsed": false,
    "ExecuteTime": {
     "end_time": "2023-06-17T13:11:13.442626Z",
     "start_time": "2023-06-17T13:11:13.374318Z"
    }
   }
  },
  {
   "cell_type": "code",
   "execution_count": 124,
   "outputs": [],
   "source": [
    "def create_pd_bool_plot(pd_bool):\n",
    "    width = 0.4\n",
    "    x_indexes = np.arange(pd_bool.shape[1])\n",
    "\n",
    "    plt.bar(x_indexes-width/2, pd_bool.loc['False'], width=width, label='False')\n",
    "    plt.bar(x_indexes+width/2, pd_bool.loc['True'], width=width, label='True')\n",
    "\n",
    "    plt.xlabel('Binary variable')\n",
    "    plt.ylabel('Partial dependence')\n",
    "    plt.xticks(ticks=x_indexes, labels=pd_bool.columns, rotation=90)\n",
    "    plt.ylim(bottom=pd_bool.min().min()-10, top=pd_bool.max().max()+10)\n",
    "    plt.legend()\n",
    "    plt.tight_layout()\n",
    "    plt.plot()"
   ],
   "metadata": {
    "collapsed": false,
    "ExecuteTime": {
     "end_time": "2023-06-17T13:11:13.442759Z",
     "start_time": "2023-06-17T13:11:13.380620Z"
    }
   }
  },
  {
   "cell_type": "code",
   "execution_count": 125,
   "outputs": [],
   "source": [
    "def get_pd_cat(estimator, X, train, include_region=False, method='auto'):\n",
    "    print(datetime.now())\n",
    "    print('-'*100)\n",
    "\n",
    "    result = dict()\n",
    "    categorical_columns = train.select_dtypes('category').columns\n",
    "\n",
    "    if not include_region:\n",
    "        categorical_columns = categorical_columns.drop('region')\n",
    "\n",
    "    for cat_column in categorical_columns:\n",
    "        pd_temp = pd.Series(index=X.filter(regex=f\"^{cat_column}\").columns, name=\"partial_dependence\")\n",
    "        for category in pd_temp.index:\n",
    "            pd_true = partial_dependence(estimator, X, features=[X.columns.get_loc(category)], method=method)['average'][0][1]\n",
    "            pd_temp[category] = pd_true\n",
    "        result[cat_column] = pd_temp\n",
    "        print(f'Created partial dependence results for {cat_column}')\n",
    "\n",
    "    print('-'*100)\n",
    "    print(datetime.now())\n",
    "\n",
    "    return result"
   ],
   "metadata": {
    "collapsed": false,
    "ExecuteTime": {
     "end_time": "2023-06-17T13:11:13.442946Z",
     "start_time": "2023-06-17T13:11:13.388044Z"
    }
   }
  },
  {
   "cell_type": "code",
   "execution_count": 126,
   "outputs": [],
   "source": [
    "# make pd charts for \"type\"\n",
    "def create_pd_cat_plot(pd_series, custom_x_label, title):\n",
    "    plt.clf()\n",
    "    x = pd_series.index.str.replace(f'{custom_x_label}_', '')\n",
    "    plt.bar(x, pd_series.values)\n",
    "    plt.xlabel(custom_x_label, fontsize=15)\n",
    "    plt.ylabel('Partial dependence', fontsize=15)\n",
    "    plt.xticks(fontsize=15)\n",
    "    plt.yticks(fontsize=15)\n",
    "    # plt.xticks(rotation=90)\n",
    "    margin = 0.2*pd_series.min()\n",
    "    plt.ylim(bottom=pd_series.min()-margin, top=pd_series.max()+margin)\n",
    "    plt.title(title, fontsize=15)\n",
    "    plt.tight_layout()\n",
    "    return plt.gcf()"
   ],
   "metadata": {
    "collapsed": false,
    "ExecuteTime": {
     "end_time": "2023-06-17T13:11:13.443259Z",
     "start_time": "2023-06-17T13:11:13.401727Z"
    }
   }
  },
  {
   "cell_type": "code",
   "execution_count": 127,
   "outputs": [],
   "source": [
    "def create_pd_continuous_plot(figure, font_size, xlabel, ylabel, title):\n",
    "    plt.title(title, fontsize=font_size)\n",
    "    plt.xticks(fontsize=font_size)\n",
    "    plt.yticks(fontsize=font_size)\n",
    "    plt.xlabel(xlabel, fontsize=font_size)\n",
    "    plt.ylabel(ylabel, fontsize=font_size)\n",
    "    plt.tight_layout()\n",
    "    return figure"
   ],
   "metadata": {
    "collapsed": false,
    "ExecuteTime": {
     "end_time": "2023-06-17T13:11:13.443422Z",
     "start_time": "2023-06-17T13:11:13.402190Z"
    }
   }
  },
  {
   "cell_type": "code",
   "execution_count": 128,
   "outputs": [],
   "source": [
    "variables_to_include = ['team_name', 'promoted', 'is_captain', 'basic_position', 'british_nationality',\n",
    "                        'average_home_attendance', 'player_rating', 'skill_moves', 'age', 'trend']\n",
    "\n",
    "y_full = model_data['hra']\n",
    "X_full = pd.get_dummies(model_data[variables_to_include])\n",
    "obs_weight_full = model_data['observation_weight']\n",
    "\n",
    "y_filtered = model_data_filtered['hra']\n",
    "X_filtered = pd.get_dummies(model_data_filtered[variables_to_include])\n",
    "obs_weight_filtered = model_data_filtered['observation_weight']\n",
    "\n",
    "y_train = train['hra']\n",
    "X_train = pd.get_dummies(train[variables_to_include])\n",
    "\n",
    "y_test = test['hra']\n",
    "X_test = pd.get_dummies(test[variables_to_include])"
   ],
   "metadata": {
    "collapsed": false,
    "ExecuteTime": {
     "end_time": "2023-06-17T13:11:13.443580Z",
     "start_time": "2023-06-17T13:11:13.406560Z"
    }
   }
  },
  {
   "cell_type": "markdown",
   "source": [
    "#### Full sample"
   ],
   "metadata": {
    "collapsed": false
   }
  },
  {
   "cell_type": "markdown",
   "source": [
    "##### Initial guess"
   ],
   "metadata": {
    "collapsed": false
   }
  },
  {
   "cell_type": "code",
   "execution_count": 129,
   "outputs": [
    {
     "name": "stdout",
     "output_type": "stream",
     "text": [
      "in-sample r-squared: 0.8418069053043056\n",
      "in-sample mse: 0.01917329694033181\n",
      "in-sample mae: 0.10176967051788396\n",
      "----------------------------------------------------------------------------------------------------\n"
     ]
    }
   ],
   "source": [
    "# train\n",
    "r = RandomForestRegressor(n_jobs=-1, random_state=rs_tree)\n",
    "rf = r.fit(X_full, y_full, sample_weight=obs_weight_full)\n",
    "\n",
    "# predict\n",
    "p_rf_in = rf.predict(X_full)\n",
    "\n",
    "# evaluate: in-sample\n",
    "r2_rf_in = r2_score(y_true=y_full, y_pred=p_rf_in, sample_weight=obs_weight_full)\n",
    "# r2_mae_rf_in = r2_score_mae(y_true=y_full, y_pred=p_rf_in)\n",
    "mse_rf_in = mean_squared_error(y_true=y_full, y_pred=p_rf_in, sample_weight=obs_weight_full)\n",
    "mae_rf_in = mean_absolute_error(y_true=y_full, y_pred=p_rf_in, sample_weight=obs_weight_full)\n",
    "\n",
    "print(f'in-sample r-squared: {r2_rf_in}')\n",
    "print(f'in-sample mse: {mse_rf_in}')\n",
    "print(f'in-sample mae: {mae_rf_in}')\n",
    "print('-'*100)\n",
    "\n",
    "# # evaluate: out-of-sample\n",
    "# p_rf_out = rf.predict(X_test) # run model on test (out-of-sample data) and get predictions\n",
    "#\n",
    "# r2_rf_out = r2_score(y_true=y_test, y_pred=p_rf_out)\n",
    "# # r2_mae_rf_out = r2_score_mae(y_true=y_test, y_pred=p_rf_out)\n",
    "# mse_rf_out = mean_squared_error(y_true=y_test, y_pred=p_rf_out)\n",
    "# mae_rf_out = mean_absolute_error(y_true=y_test, y_pred=p_rf_out)\n",
    "#\n",
    "# print(f'out-of-sample r-squared: {r2_rf_out}')\n",
    "# # print(f'out-of-sample MAE based r-squared: {r2_mae_rf_out}')\n",
    "# print(f'out-of-sample mse: {mse_rf_out}')\n",
    "# print(f'out-of-sample mae: {mae_rf_out}')"
   ],
   "metadata": {
    "collapsed": false,
    "ExecuteTime": {
     "end_time": "2023-06-17T13:11:14.141522Z",
     "start_time": "2023-06-17T13:11:13.427681Z"
    }
   }
  },
  {
   "cell_type": "markdown",
   "source": [
    "##### Cross-validation"
   ],
   "metadata": {
    "collapsed": false
   }
  },
  {
   "cell_type": "code",
   "execution_count": 130,
   "outputs": [
    {
     "name": "stdout",
     "output_type": "stream",
     "text": [
      "2023-06-17 15:11:14.132116\n",
      "----------------------------------------------------------------------------------------------------\n",
      "{'max_depth': 7, 'max_features': 'sqrt', 'max_samples': 0.7, 'n_estimators': 300}\n",
      "----------------------------------------------------------------------------------------------------\n",
      "2023-06-17 15:11:58.531026\n",
      "Execution time of Randomized cross-validation took 0:00:44.398910\n"
     ]
    }
   ],
   "source": [
    "start_time = datetime.now()\n",
    "print(start_time)\n",
    "print('-'*100)\n",
    "\n",
    "parameters = {'n_estimators': randint(10,300+1), 'max_depth': randint(3,16),\n",
    "              'max_features': ['sqrt', 'log2', None], 'max_samples': [0.5, 0.7, 0.9, 1.0]}\n",
    "cv_rf_full = RandomizedSearchCV(estimator=RandomForestRegressor(random_state=rs_tree), param_distributions=parameters,\n",
    "                                n_iter=100, cv=3, n_jobs=-1, random_state=rs_cv)\n",
    "cv_rf_full.fit(X_full, y_full, **{'sample_weight':obs_weight_full})\n",
    "print(cv_rf_full.best_params_)\n",
    "print('-'*100)\n",
    "\n",
    "end_time = datetime.now()\n",
    "print(end_time)\n",
    "print(f'Execution time of Randomized cross-validation took {end_time-start_time}')"
   ],
   "metadata": {
    "collapsed": false,
    "ExecuteTime": {
     "end_time": "2023-06-17T13:11:58.538422Z",
     "start_time": "2023-06-17T13:11:14.141275Z"
    }
   }
  },
  {
   "cell_type": "code",
   "execution_count": 131,
   "outputs": [
    {
     "data": {
      "text/plain": "    mean_fit_time  std_fit_time  mean_score_time  std_score_time  \\\n39       0.983791      0.008621         0.054560        0.002812   \n66       0.894778      0.005760         0.052713        0.003663   \n74       1.010782      0.015044         0.050249        0.002552   \n65       1.153477      0.017553         0.074152        0.024339   \n54       0.969059      0.032070         0.057759        0.005960   \n\n   param_max_depth param_max_features param_max_samples param_n_estimators  \\\n39               7               sqrt               0.7                300   \n66               6               log2               0.7                247   \n74               7               sqrt               0.9                260   \n65               6               sqrt               0.7                290   \n54               7               sqrt               0.5                245   \n\n                                               params  split0_test_score  \\\n39  {'max_depth': 7, 'max_features': 'sqrt', 'max_...           0.006844   \n66  {'max_depth': 6, 'max_features': 'log2', 'max_...           0.006622   \n74  {'max_depth': 7, 'max_features': 'sqrt', 'max_...           0.006156   \n65  {'max_depth': 6, 'max_features': 'sqrt', 'max_...           0.004973   \n54  {'max_depth': 7, 'max_features': 'sqrt', 'max_...           0.005778   \n\n    split1_test_score  split2_test_score  mean_test_score  std_test_score  \\\n39           0.016993          -0.011135         0.004234        0.011630   \n66           0.015215          -0.009925         0.003971        0.010433   \n74           0.016233          -0.010710         0.003893        0.011115   \n65           0.015680          -0.009783         0.003623        0.010439   \n54           0.016130          -0.011488         0.003473        0.011392   \n\n    rank_test_score  \n39                1  \n66                2  \n74                3  \n65                4  \n54                5  ",
      "text/html": "<div>\n<style scoped>\n    .dataframe tbody tr th:only-of-type {\n        vertical-align: middle;\n    }\n\n    .dataframe tbody tr th {\n        vertical-align: top;\n    }\n\n    .dataframe thead th {\n        text-align: right;\n    }\n</style>\n<table border=\"1\" class=\"dataframe\">\n  <thead>\n    <tr style=\"text-align: right;\">\n      <th></th>\n      <th>mean_fit_time</th>\n      <th>std_fit_time</th>\n      <th>mean_score_time</th>\n      <th>std_score_time</th>\n      <th>param_max_depth</th>\n      <th>param_max_features</th>\n      <th>param_max_samples</th>\n      <th>param_n_estimators</th>\n      <th>params</th>\n      <th>split0_test_score</th>\n      <th>split1_test_score</th>\n      <th>split2_test_score</th>\n      <th>mean_test_score</th>\n      <th>std_test_score</th>\n      <th>rank_test_score</th>\n    </tr>\n  </thead>\n  <tbody>\n    <tr>\n      <th>39</th>\n      <td>0.983791</td>\n      <td>0.008621</td>\n      <td>0.054560</td>\n      <td>0.002812</td>\n      <td>7</td>\n      <td>sqrt</td>\n      <td>0.7</td>\n      <td>300</td>\n      <td>{'max_depth': 7, 'max_features': 'sqrt', 'max_...</td>\n      <td>0.006844</td>\n      <td>0.016993</td>\n      <td>-0.011135</td>\n      <td>0.004234</td>\n      <td>0.011630</td>\n      <td>1</td>\n    </tr>\n    <tr>\n      <th>66</th>\n      <td>0.894778</td>\n      <td>0.005760</td>\n      <td>0.052713</td>\n      <td>0.003663</td>\n      <td>6</td>\n      <td>log2</td>\n      <td>0.7</td>\n      <td>247</td>\n      <td>{'max_depth': 6, 'max_features': 'log2', 'max_...</td>\n      <td>0.006622</td>\n      <td>0.015215</td>\n      <td>-0.009925</td>\n      <td>0.003971</td>\n      <td>0.010433</td>\n      <td>2</td>\n    </tr>\n    <tr>\n      <th>74</th>\n      <td>1.010782</td>\n      <td>0.015044</td>\n      <td>0.050249</td>\n      <td>0.002552</td>\n      <td>7</td>\n      <td>sqrt</td>\n      <td>0.9</td>\n      <td>260</td>\n      <td>{'max_depth': 7, 'max_features': 'sqrt', 'max_...</td>\n      <td>0.006156</td>\n      <td>0.016233</td>\n      <td>-0.010710</td>\n      <td>0.003893</td>\n      <td>0.011115</td>\n      <td>3</td>\n    </tr>\n    <tr>\n      <th>65</th>\n      <td>1.153477</td>\n      <td>0.017553</td>\n      <td>0.074152</td>\n      <td>0.024339</td>\n      <td>6</td>\n      <td>sqrt</td>\n      <td>0.7</td>\n      <td>290</td>\n      <td>{'max_depth': 6, 'max_features': 'sqrt', 'max_...</td>\n      <td>0.004973</td>\n      <td>0.015680</td>\n      <td>-0.009783</td>\n      <td>0.003623</td>\n      <td>0.010439</td>\n      <td>4</td>\n    </tr>\n    <tr>\n      <th>54</th>\n      <td>0.969059</td>\n      <td>0.032070</td>\n      <td>0.057759</td>\n      <td>0.005960</td>\n      <td>7</td>\n      <td>sqrt</td>\n      <td>0.5</td>\n      <td>245</td>\n      <td>{'max_depth': 7, 'max_features': 'sqrt', 'max_...</td>\n      <td>0.005778</td>\n      <td>0.016130</td>\n      <td>-0.011488</td>\n      <td>0.003473</td>\n      <td>0.011392</td>\n      <td>5</td>\n    </tr>\n  </tbody>\n</table>\n</div>"
     },
     "execution_count": 131,
     "metadata": {},
     "output_type": "execute_result"
    }
   ],
   "source": [
    "pd.DataFrame(cv_rf_full.cv_results_).sort_values(by='rank_test_score', ascending=True).head(5)"
   ],
   "metadata": {
    "collapsed": false,
    "ExecuteTime": {
     "end_time": "2023-06-17T13:11:58.566252Z",
     "start_time": "2023-06-17T13:11:58.538737Z"
    }
   }
  },
  {
   "cell_type": "code",
   "execution_count": 132,
   "outputs": [
    {
     "name": "stdout",
     "output_type": "stream",
     "text": [
      "2023-06-17 15:11:58.562118\n",
      "----------------------------------------------------------------------------------------------------\n",
      "in-sample r-squared: 0.13162514528865688\n",
      "in-sample mse: 0.10524864550457033\n",
      "in-sample mae: 0.23593427178797283\n",
      "----------------------------------------------------------------------------------------------------\n",
      "2023-06-17 15:11:58.628154\n",
      "Execution time of training the RF took 0:00:00.066036\n"
     ]
    }
   ],
   "source": [
    "start_time = datetime.now()\n",
    "print(start_time)\n",
    "print('-'*100)\n",
    "\n",
    "# train (or if already trained and saved, import that one)\n",
    "rf_cv_full = cv_rf_full.best_estimator_\n",
    "\n",
    "# predict\n",
    "p_rf_cv_full_in = rf_cv_full.predict(X_full)\n",
    "\n",
    "# evaluate: in-sample\n",
    "r2_rf_cv_full_in = r2_score(y_true=y_full, y_pred=p_rf_cv_full_in, sample_weight=obs_weight_full)\n",
    "mse_rf_cv_full_in = mean_squared_error(y_true=y_full, y_pred=p_rf_cv_full_in, sample_weight=obs_weight_full)\n",
    "mae_rf_cv_full_in = mean_absolute_error(y_true=y_full, y_pred=p_rf_cv_full_in, sample_weight=obs_weight_full)\n",
    "\n",
    "print(f'in-sample r-squared: {r2_rf_cv_full_in}')\n",
    "print(f'in-sample mse: {mse_rf_cv_full_in}')\n",
    "print(f'in-sample mae: {mae_rf_cv_full_in}')\n",
    "print('-'*100)\n",
    "\n",
    "# # evaluate: out-of-sample\n",
    "# p_rf_cv_full_out = rf_cv_full.predict(X_test) # run model on test (out-of-sample data) and get predictions\n",
    "#\n",
    "# r2_rf_cv_full_out = r2_score(y_true=y_test, y_pred=p_rf_cv_full_out)\n",
    "# mse_rf_cv_full_out = mean_squared_error(y_true=y_test, y_pred=p_rf_cv_full_out)\n",
    "# mae_rf_cv_full_out = mean_absolute_error(y_true=y_test, y_pred=p_rf_cv_full_out)\n",
    "#\n",
    "# print(f'out-of-sample r-squared: {r2_rf_cv_full_out}')\n",
    "# print(f'out-of-sample mse: {mse_rf_cv_full_out}')\n",
    "# print(f'out-of-sample mae: {mae_rf_cv_full_out}')\n",
    "# print('-'*100)\n",
    "\n",
    "end_time = datetime.now()\n",
    "print(end_time)\n",
    "print(f'Execution time of training the RF took {end_time-start_time}')"
   ],
   "metadata": {
    "collapsed": false,
    "ExecuteTime": {
     "end_time": "2023-06-17T13:11:58.649694Z",
     "start_time": "2023-06-17T13:11:58.565563Z"
    }
   }
  },
  {
   "cell_type": "markdown",
   "source": [
    "##### Explainable AI"
   ],
   "metadata": {
    "collapsed": false
   }
  },
  {
   "cell_type": "markdown",
   "source": [
    "###### Variable Importance"
   ],
   "metadata": {
    "collapsed": false
   }
  },
  {
   "cell_type": "code",
   "execution_count": 133,
   "outputs": [
    {
     "data": {
      "text/plain": "                          variable_importance cumulative_importance\naverage_home_attendance              0.178296              0.178296\nskill_moves                          0.111903              0.290199\ntrend                                0.111411               0.40161\nplayer_rating                        0.108926              0.510536\nage                                  0.077029              0.587565\nbasic_position_goalkeeper            0.077009              0.664574\nbasic_position_midfielder            0.034601              0.699175\nbasic_position_defender              0.033229              0.732404\nbasic_position_attacker              0.024926               0.75733\nbritish_nationality                  0.021346              0.778676",
      "text/html": "<div>\n<style scoped>\n    .dataframe tbody tr th:only-of-type {\n        vertical-align: middle;\n    }\n\n    .dataframe tbody tr th {\n        vertical-align: top;\n    }\n\n    .dataframe thead th {\n        text-align: right;\n    }\n</style>\n<table border=\"1\" class=\"dataframe\">\n  <thead>\n    <tr style=\"text-align: right;\">\n      <th></th>\n      <th>variable_importance</th>\n      <th>cumulative_importance</th>\n    </tr>\n  </thead>\n  <tbody>\n    <tr>\n      <th>average_home_attendance</th>\n      <td>0.178296</td>\n      <td>0.178296</td>\n    </tr>\n    <tr>\n      <th>skill_moves</th>\n      <td>0.111903</td>\n      <td>0.290199</td>\n    </tr>\n    <tr>\n      <th>trend</th>\n      <td>0.111411</td>\n      <td>0.40161</td>\n    </tr>\n    <tr>\n      <th>player_rating</th>\n      <td>0.108926</td>\n      <td>0.510536</td>\n    </tr>\n    <tr>\n      <th>age</th>\n      <td>0.077029</td>\n      <td>0.587565</td>\n    </tr>\n    <tr>\n      <th>basic_position_goalkeeper</th>\n      <td>0.077009</td>\n      <td>0.664574</td>\n    </tr>\n    <tr>\n      <th>basic_position_midfielder</th>\n      <td>0.034601</td>\n      <td>0.699175</td>\n    </tr>\n    <tr>\n      <th>basic_position_defender</th>\n      <td>0.033229</td>\n      <td>0.732404</td>\n    </tr>\n    <tr>\n      <th>basic_position_attacker</th>\n      <td>0.024926</td>\n      <td>0.75733</td>\n    </tr>\n    <tr>\n      <th>british_nationality</th>\n      <td>0.021346</td>\n      <td>0.778676</td>\n    </tr>\n  </tbody>\n</table>\n</div>"
     },
     "execution_count": 133,
     "metadata": {},
     "output_type": "execute_result"
    }
   ],
   "source": [
    "rf_var_importance = get_variable_importance(rf_cv_full.feature_names_in_, rf_cv_full.feature_importances_)\n",
    "rf_var_importance.to_csv(os.path.join(results_folder_path, 'machine-learning', 'rf_var_importance_full_sample.csv'))\n",
    "rf_var_importance.head(10)"
   ],
   "metadata": {
    "collapsed": false,
    "ExecuteTime": {
     "end_time": "2023-06-17T13:11:58.686216Z",
     "start_time": "2023-06-17T13:11:58.646825Z"
    }
   }
  },
  {
   "cell_type": "markdown",
   "source": [
    "###### Partial Dependence"
   ],
   "metadata": {
    "collapsed": false
   }
  },
  {
   "cell_type": "code",
   "execution_count": 161,
   "outputs": [
    {
     "data": {
      "text/plain": "<Figure size 800x550 with 2 Axes>",
      "image/png": "[encoded data removed]"
     },
     "execution_count": 161,
     "metadata": {},
     "output_type": "execute_result"
    }
   ],
   "source": [
    "pd_aha_rf_full = PartialDependenceDisplay.from_estimator(rf_cv_full, X_full, features=[X_full.columns.get_loc('average_home_attendance')]).figure_\n",
    "create_pd_continuous_plot(pd_aha_rf_full, 15, 'average_home_attendance', 'Partial dependence', 'full sample')\n",
    "pd_aha_rf_full.savefig(os.path.join(results_folder_path, 'machine-learning', 'pd_aha_rf_full_sample.png'), format='png', dpi=300)\n",
    "pd_aha_rf_full"
   ],
   "metadata": {
    "collapsed": false,
    "ExecuteTime": {
     "end_time": "2023-06-17T13:24:13.549003Z",
     "start_time": "2023-06-17T13:24:12.645349Z"
    }
   }
  },
  {
   "cell_type": "code",
   "execution_count": 162,
   "outputs": [
    {
     "data": {
      "text/plain": "<Figure size 800x550 with 2 Axes>",
      "image/png": "[encoded data removed]"
     },
     "execution_count": 162,
     "metadata": {},
     "output_type": "execute_result"
    }
   ],
   "source": [
    "pd_pr_rf_full = PartialDependenceDisplay.from_estimator(rf_cv_full, X_full, features=[X_full.columns.get_loc('player_rating')]).figure_\n",
    "create_pd_continuous_plot(pd_pr_rf_full, 15, 'player_rating', 'Partial dependence', 'full sample')\n",
    "pd_pr_rf_full.savefig(os.path.join(results_folder_path, 'machine-learning', 'pd_pr_rf_full_sample.png'), format='png', dpi=300)\n",
    "pd_pr_rf_full"
   ],
   "metadata": {
    "collapsed": false,
    "ExecuteTime": {
     "end_time": "2023-06-17T13:24:16.761424Z",
     "start_time": "2023-06-17T13:24:15.704720Z"
    }
   }
  },
  {
   "cell_type": "code",
   "execution_count": 163,
   "outputs": [
    {
     "data": {
      "text/plain": "<Figure size 800x550 with 2 Axes>",
      "image/png": "[encoded data removed]"
     },
     "execution_count": 163,
     "metadata": {},
     "output_type": "execute_result"
    }
   ],
   "source": [
    "pd_trend_rf_full = PartialDependenceDisplay.from_estimator(rf_cv_full, X_full, features=[X_full.columns.get_loc('trend')]).figure_\n",
    "create_pd_continuous_plot(pd_trend_rf_full, 15, 'trend', 'Partial dependence', 'full sample')\n",
    "pd_trend_rf_full.savefig(os.path.join(results_folder_path, 'machine-learning', 'pd_trend_rf_full_sample.png'), format='png', dpi=300)\n",
    "pd_trend_rf_full"
   ],
   "metadata": {
    "collapsed": false,
    "ExecuteTime": {
     "end_time": "2023-06-17T13:24:18.049474Z",
     "start_time": "2023-06-17T13:24:16.761213Z"
    }
   }
  },
  {
   "cell_type": "code",
   "execution_count": 164,
   "outputs": [
    {
     "data": {
      "text/plain": "<Figure size 800x550 with 2 Axes>",
      "image/png": "[encoded data removed]"
     },
     "execution_count": 164,
     "metadata": {},
     "output_type": "execute_result"
    }
   ],
   "source": [
    "pd_sm_rf_full = PartialDependenceDisplay.from_estimator(rf_cv_full, X_full, features=[X_full.columns.get_loc('skill_moves')]).figure_\n",
    "create_pd_continuous_plot(pd_sm_rf_full, 15, 'skill_moves', 'Partial dependence', 'full sample')\n",
    "pd_sm_rf_full.savefig(os.path.join(results_folder_path, 'machine-learning', 'pd_sm_rf_full_sample.png'), format='png', dpi=300)\n",
    "pd_sm_rf_full"
   ],
   "metadata": {
    "collapsed": false,
    "ExecuteTime": {
     "end_time": "2023-06-17T13:24:19.732761Z",
     "start_time": "2023-06-17T13:24:17.942300Z"
    }
   }
  },
  {
   "cell_type": "code",
   "execution_count": 165,
   "outputs": [
    {
     "data": {
      "text/plain": "<Figure size 800x550 with 2 Axes>",
      "image/png": "[encoded data removed]"
     },
     "execution_count": 165,
     "metadata": {},
     "output_type": "execute_result"
    }
   ],
   "source": [
    "pd_age_rf_full = PartialDependenceDisplay.from_estimator(rf_cv_full, X_full, features=[X_full.columns.get_loc('age')]).figure_\n",
    "create_pd_continuous_plot(pd_age_rf_full, 15, 'age', 'Partial dependence', 'full sample')\n",
    "pd_age_rf_full.savefig(os.path.join(results_folder_path, 'machine-learning', 'pd_age_rf_full_sample.png'), format='png', dpi=300)\n",
    "pd_age_rf_full"
   ],
   "metadata": {
    "collapsed": false,
    "ExecuteTime": {
     "end_time": "2023-06-17T13:24:21.342246Z",
     "start_time": "2023-06-17T13:24:19.741184Z"
    }
   }
  },
  {
   "cell_type": "code",
   "execution_count": 166,
   "outputs": [
    {
     "name": "stdout",
     "output_type": "stream",
     "text": [
      "2023-06-17 15:24:21.310743\n",
      "----------------------------------------------------------------------------------------------------\n",
      "Created partial dependence results for season\n",
      "Created partial dependence results for team_name\n",
      "Created partial dependence results for manager_name\n",
      "Created partial dependence results for captain_name\n",
      "Created partial dependence results for nation\n",
      "Created partial dependence results for work_rate_a\n",
      "Created partial dependence results for work_rate_d\n",
      "Created partial dependence results for basic_position\n",
      "----------------------------------------------------------------------------------------------------\n",
      "2023-06-17 15:24:21.424141\n",
      "dict_keys(['season', 'team_name', 'manager_name', 'captain_name', 'nation', 'work_rate_a', 'work_rate_d', 'basic_position'])\n"
     ]
    },
    {
     "name": "stderr",
     "output_type": "stream",
     "text": [
      "/var/folders/z2/ct83gjv97mz__q43gm_kd6f80000gn/T/ipykernel_8605/3786733364.py:12: FutureWarning: The default dtype for empty Series will be 'object' instead of 'float64' in a future version. Specify a dtype explicitly to silence this warning.\n",
      "  pd_temp = pd.Series(index=X.filter(regex=f\"^{cat_column}\").columns, name=\"partial_dependence\")\n",
      "/var/folders/z2/ct83gjv97mz__q43gm_kd6f80000gn/T/ipykernel_8605/3786733364.py:12: FutureWarning: The default dtype for empty Series will be 'object' instead of 'float64' in a future version. Specify a dtype explicitly to silence this warning.\n",
      "  pd_temp = pd.Series(index=X.filter(regex=f\"^{cat_column}\").columns, name=\"partial_dependence\")\n",
      "/var/folders/z2/ct83gjv97mz__q43gm_kd6f80000gn/T/ipykernel_8605/3786733364.py:12: FutureWarning: The default dtype for empty Series will be 'object' instead of 'float64' in a future version. Specify a dtype explicitly to silence this warning.\n",
      "  pd_temp = pd.Series(index=X.filter(regex=f\"^{cat_column}\").columns, name=\"partial_dependence\")\n",
      "/var/folders/z2/ct83gjv97mz__q43gm_kd6f80000gn/T/ipykernel_8605/3786733364.py:12: FutureWarning: The default dtype for empty Series will be 'object' instead of 'float64' in a future version. Specify a dtype explicitly to silence this warning.\n",
      "  pd_temp = pd.Series(index=X.filter(regex=f\"^{cat_column}\").columns, name=\"partial_dependence\")\n",
      "/var/folders/z2/ct83gjv97mz__q43gm_kd6f80000gn/T/ipykernel_8605/3786733364.py:12: FutureWarning: The default dtype for empty Series will be 'object' instead of 'float64' in a future version. Specify a dtype explicitly to silence this warning.\n",
      "  pd_temp = pd.Series(index=X.filter(regex=f\"^{cat_column}\").columns, name=\"partial_dependence\")\n",
      "/var/folders/z2/ct83gjv97mz__q43gm_kd6f80000gn/T/ipykernel_8605/3786733364.py:12: FutureWarning: The default dtype for empty Series will be 'object' instead of 'float64' in a future version. Specify a dtype explicitly to silence this warning.\n",
      "  pd_temp = pd.Series(index=X.filter(regex=f\"^{cat_column}\").columns, name=\"partial_dependence\")\n",
      "/var/folders/z2/ct83gjv97mz__q43gm_kd6f80000gn/T/ipykernel_8605/3786733364.py:12: FutureWarning: The default dtype for empty Series will be 'object' instead of 'float64' in a future version. Specify a dtype explicitly to silence this warning.\n",
      "  pd_temp = pd.Series(index=X.filter(regex=f\"^{cat_column}\").columns, name=\"partial_dependence\")\n",
      "/var/folders/z2/ct83gjv97mz__q43gm_kd6f80000gn/T/ipykernel_8605/3786733364.py:12: FutureWarning: The default dtype for empty Series will be 'object' instead of 'float64' in a future version. Specify a dtype explicitly to silence this warning.\n",
      "  pd_temp = pd.Series(index=X.filter(regex=f\"^{cat_column}\").columns, name=\"partial_dependence\")\n"
     ]
    }
   ],
   "source": [
    "pd_cat = get_pd_cat(rf_cv_full, X_full, model_data, include_region=True)\n",
    "print(pd_cat.keys())"
   ],
   "metadata": {
    "collapsed": false,
    "ExecuteTime": {
     "end_time": "2023-06-17T13:24:21.477157Z",
     "start_time": "2023-06-17T13:24:21.312891Z"
    }
   }
  },
  {
   "cell_type": "code",
   "execution_count": 167,
   "outputs": [
    {
     "data": {
      "text/plain": "<Figure size 800x550 with 1 Axes>",
      "image/png": "[encoded data removed]"
     },
     "execution_count": 167,
     "metadata": {},
     "output_type": "execute_result"
    }
   ],
   "source": [
    "pd_pos_rf_full = create_pd_cat_plot(pd_cat['basic_position'], 'basic_position', 'full sample')\n",
    "pd_pos_rf_full.savefig(os.path.join(results_folder_path, 'machine-learning', 'pd_pos_rf_full_sample.png'), format='png', dpi=300)\n",
    "pd_pos_rf_full"
   ],
   "metadata": {
    "collapsed": false,
    "ExecuteTime": {
     "end_time": "2023-06-17T13:24:22.840373Z",
     "start_time": "2023-06-17T13:24:21.460279Z"
    }
   }
  },
  {
   "cell_type": "markdown",
   "source": [
    "#### Filtered sample"
   ],
   "metadata": {
    "collapsed": false
   }
  },
  {
   "cell_type": "markdown",
   "source": [
    "##### Initial guess"
   ],
   "metadata": {
    "collapsed": false
   }
  },
  {
   "cell_type": "code",
   "execution_count": 141,
   "outputs": [
    {
     "name": "stdout",
     "output_type": "stream",
     "text": [
      "in-sample r-squared: 0.8739820158002753\n",
      "in-sample mse: 0.009328594968936222\n",
      "in-sample mae: 0.07492236332801101\n",
      "----------------------------------------------------------------------------------------------------\n"
     ]
    }
   ],
   "source": [
    "# train\n",
    "r = RandomForestRegressor(n_jobs=-1, random_state=rs_tree)\n",
    "rf = r.fit(X_filtered, y_filtered, sample_weight=obs_weight_filtered)\n",
    "\n",
    "# predict\n",
    "p_rf_in = rf.predict(X_filtered)\n",
    "\n",
    "# evaluate: in-sample\n",
    "r2_rf_in = r2_score(y_true=y_filtered, y_pred=p_rf_in, sample_weight=obs_weight_filtered)\n",
    "# r2_mae_rf_in = r2_score_mae(y_true=y_filtered, y_pred=p_rf_in)\n",
    "mse_rf_in = mean_squared_error(y_true=y_filtered, y_pred=p_rf_in, sample_weight=obs_weight_filtered)\n",
    "mae_rf_in = mean_absolute_error(y_true=y_filtered, y_pred=p_rf_in, sample_weight=obs_weight_filtered)\n",
    "\n",
    "print(f'in-sample r-squared: {r2_rf_in}')\n",
    "print(f'in-sample mse: {mse_rf_in}')\n",
    "print(f'in-sample mae: {mae_rf_in}')\n",
    "print('-'*100)\n",
    "\n",
    "# # evaluate: out-of-sample\n",
    "# p_rf_out = rf.predict(X_test) # run model on test (out-of-sample data) and get predictions\n",
    "#\n",
    "# r2_rf_out = r2_score(y_true=y_test, y_pred=p_rf_out)\n",
    "# # r2_mae_rf_out = r2_score_mae(y_true=y_test, y_pred=p_rf_out)\n",
    "# mse_rf_out = mean_squared_error(y_true=y_test, y_pred=p_rf_out)\n",
    "# mae_rf_out = mean_absolute_error(y_true=y_test, y_pred=p_rf_out)\n",
    "#\n",
    "# print(f'out-of-sample r-squared: {r2_rf_out}')\n",
    "# # print(f'out-of-sample MAE based r-squared: {r2_mae_rf_out}')\n",
    "# print(f'out-of-sample mse: {mse_rf_out}')\n",
    "# print(f'out-of-sample mae: {mae_rf_out}')"
   ],
   "metadata": {
    "collapsed": false,
    "ExecuteTime": {
     "end_time": "2023-06-17T13:12:06.446Z",
     "start_time": "2023-06-17T13:12:06.187524Z"
    }
   }
  },
  {
   "cell_type": "markdown",
   "source": [
    "##### Cross-validation"
   ],
   "metadata": {
    "collapsed": false
   }
  },
  {
   "cell_type": "code",
   "execution_count": 142,
   "outputs": [
    {
     "name": "stdout",
     "output_type": "stream",
     "text": [
      "2023-06-17 15:12:06.447673\n",
      "----------------------------------------------------------------------------------------------------\n",
      "{'max_depth': 7, 'max_features': 'sqrt', 'max_samples': 0.5, 'n_estimators': 245}\n",
      "----------------------------------------------------------------------------------------------------\n",
      "2023-06-17 15:12:28.679410\n",
      "Execution time of Randomized cross-validation took 0:00:22.231737\n"
     ]
    }
   ],
   "source": [
    "start_time = datetime.now()\n",
    "print(start_time)\n",
    "print('-'*100)\n",
    "\n",
    "parameters = {'n_estimators': randint(10,300+1), 'max_depth': randint(3,16),\n",
    "              'max_features': ['sqrt', 'log2', None], 'max_samples': [0.5, 0.7, 0.9, 1.0]}\n",
    "cv_rf_filtered = RandomizedSearchCV(estimator=RandomForestRegressor(random_state=rs_tree), param_distributions=parameters,\n",
    "                                    n_iter=100, cv=3, n_jobs=-1, random_state=rs_cv)\n",
    "cv_rf_filtered.fit(X_filtered, y_filtered, **{'sample_weight': obs_weight_filtered})\n",
    "print(cv_rf_filtered.best_params_)\n",
    "print('-'*100)\n",
    "\n",
    "end_time = datetime.now()\n",
    "print(end_time)\n",
    "print(f'Execution time of Randomized cross-validation took {end_time-start_time}')"
   ],
   "metadata": {
    "collapsed": false,
    "ExecuteTime": {
     "end_time": "2023-06-17T13:12:28.684093Z",
     "start_time": "2023-06-17T13:12:06.451630Z"
    }
   }
  },
  {
   "cell_type": "code",
   "execution_count": 143,
   "outputs": [
    {
     "data": {
      "text/plain": "    mean_fit_time  std_fit_time  mean_score_time  std_score_time  \\\n54       0.673726      0.003507         0.041544        0.001243   \n82       0.280507      0.002209         0.016037        0.001380   \n76       0.859385      0.007679         0.035867        0.001120   \n87       0.879299      0.009252         0.042711        0.004069   \n65       0.738394      0.005218         0.039186        0.003277   \n\n   param_max_depth param_max_features param_max_samples param_n_estimators  \\\n54               7               sqrt               0.5                245   \n82               7               sqrt               0.5                114   \n76               4               None               0.5                282   \n87               3               None               0.5                296   \n65               6               sqrt               0.7                290   \n\n                                               params  split0_test_score  \\\n54  {'max_depth': 7, 'max_features': 'sqrt', 'max_...           0.014009   \n82  {'max_depth': 7, 'max_features': 'sqrt', 'max_...           0.010775   \n76  {'max_depth': 4, 'max_features': None, 'max_sa...           0.007719   \n87  {'max_depth': 3, 'max_features': None, 'max_sa...           0.007187   \n65  {'max_depth': 6, 'max_features': 'sqrt', 'max_...           0.009783   \n\n    split1_test_score  split2_test_score  mean_test_score  std_test_score  \\\n54           0.058320           0.042783         0.038371        0.018357   \n82           0.055293           0.045186         0.037085        0.019056   \n76           0.044651           0.054951         0.035774        0.020278   \n87           0.049958           0.047625         0.034923        0.019636   \n65           0.053973           0.036603         0.033453        0.018178   \n\n    rank_test_score  \n54                1  \n82                2  \n76                3  \n87                4  \n65                5  ",
      "text/html": "<div>\n<style scoped>\n    .dataframe tbody tr th:only-of-type {\n        vertical-align: middle;\n    }\n\n    .dataframe tbody tr th {\n        vertical-align: top;\n    }\n\n    .dataframe thead th {\n        text-align: right;\n    }\n</style>\n<table border=\"1\" class=\"dataframe\">\n  <thead>\n    <tr style=\"text-align: right;\">\n      <th></th>\n      <th>mean_fit_time</th>\n      <th>std_fit_time</th>\n      <th>mean_score_time</th>\n      <th>std_score_time</th>\n      <th>param_max_depth</th>\n      <th>param_max_features</th>\n      <th>param_max_samples</th>\n      <th>param_n_estimators</th>\n      <th>params</th>\n      <th>split0_test_score</th>\n      <th>split1_test_score</th>\n      <th>split2_test_score</th>\n      <th>mean_test_score</th>\n      <th>std_test_score</th>\n      <th>rank_test_score</th>\n    </tr>\n  </thead>\n  <tbody>\n    <tr>\n      <th>54</th>\n      <td>0.673726</td>\n      <td>0.003507</td>\n      <td>0.041544</td>\n      <td>0.001243</td>\n      <td>7</td>\n      <td>sqrt</td>\n      <td>0.5</td>\n      <td>245</td>\n      <td>{'max_depth': 7, 'max_features': 'sqrt', 'max_...</td>\n      <td>0.014009</td>\n      <td>0.058320</td>\n      <td>0.042783</td>\n      <td>0.038371</td>\n      <td>0.018357</td>\n      <td>1</td>\n    </tr>\n    <tr>\n      <th>82</th>\n      <td>0.280507</td>\n      <td>0.002209</td>\n      <td>0.016037</td>\n      <td>0.001380</td>\n      <td>7</td>\n      <td>sqrt</td>\n      <td>0.5</td>\n      <td>114</td>\n      <td>{'max_depth': 7, 'max_features': 'sqrt', 'max_...</td>\n      <td>0.010775</td>\n      <td>0.055293</td>\n      <td>0.045186</td>\n      <td>0.037085</td>\n      <td>0.019056</td>\n      <td>2</td>\n    </tr>\n    <tr>\n      <th>76</th>\n      <td>0.859385</td>\n      <td>0.007679</td>\n      <td>0.035867</td>\n      <td>0.001120</td>\n      <td>4</td>\n      <td>None</td>\n      <td>0.5</td>\n      <td>282</td>\n      <td>{'max_depth': 4, 'max_features': None, 'max_sa...</td>\n      <td>0.007719</td>\n      <td>0.044651</td>\n      <td>0.054951</td>\n      <td>0.035774</td>\n      <td>0.020278</td>\n      <td>3</td>\n    </tr>\n    <tr>\n      <th>87</th>\n      <td>0.879299</td>\n      <td>0.009252</td>\n      <td>0.042711</td>\n      <td>0.004069</td>\n      <td>3</td>\n      <td>None</td>\n      <td>0.5</td>\n      <td>296</td>\n      <td>{'max_depth': 3, 'max_features': None, 'max_sa...</td>\n      <td>0.007187</td>\n      <td>0.049958</td>\n      <td>0.047625</td>\n      <td>0.034923</td>\n      <td>0.019636</td>\n      <td>4</td>\n    </tr>\n    <tr>\n      <th>65</th>\n      <td>0.738394</td>\n      <td>0.005218</td>\n      <td>0.039186</td>\n      <td>0.003277</td>\n      <td>6</td>\n      <td>sqrt</td>\n      <td>0.7</td>\n      <td>290</td>\n      <td>{'max_depth': 6, 'max_features': 'sqrt', 'max_...</td>\n      <td>0.009783</td>\n      <td>0.053973</td>\n      <td>0.036603</td>\n      <td>0.033453</td>\n      <td>0.018178</td>\n      <td>5</td>\n    </tr>\n  </tbody>\n</table>\n</div>"
     },
     "execution_count": 143,
     "metadata": {},
     "output_type": "execute_result"
    }
   ],
   "source": [
    "pd.DataFrame(cv_rf_filtered.cv_results_).sort_values(by='rank_test_score', ascending=True).head(5)"
   ],
   "metadata": {
    "collapsed": false,
    "ExecuteTime": {
     "end_time": "2023-06-17T13:12:28.700392Z",
     "start_time": "2023-06-17T13:12:28.684514Z"
    }
   }
  },
  {
   "cell_type": "code",
   "execution_count": 144,
   "outputs": [
    {
     "name": "stdout",
     "output_type": "stream",
     "text": [
      "2023-06-17 15:12:28.702064\n",
      "----------------------------------------------------------------------------------------------------\n",
      "in-sample r-squared: 0.23576603763094384\n",
      "in-sample mse: 0.05657310852669353\n",
      "in-sample mae: 0.1869421305620687\n",
      "----------------------------------------------------------------------------------------------------\n",
      "2023-06-17 15:12:28.739232\n",
      "Execution time of training the RF took 0:00:00.037168\n"
     ]
    }
   ],
   "source": [
    "start_time = datetime.now()\n",
    "print(start_time)\n",
    "print('-'*100)\n",
    "\n",
    "# train (or if already trained and saved, import that one)\n",
    "rf_cv_filtered = cv_rf_filtered.best_estimator_\n",
    "\n",
    "# predict\n",
    "p_rf_cv_filtered_in = rf_cv_filtered.predict(X_filtered)\n",
    "\n",
    "# evaluate: in-sample\n",
    "r2_rf_cv_filtered_in = r2_score(y_true=y_filtered, y_pred=p_rf_cv_filtered_in, sample_weight=obs_weight_filtered)\n",
    "mse_rf_cv_filtered_in = mean_squared_error(y_true=y_filtered, y_pred=p_rf_cv_filtered_in, sample_weight=obs_weight_filtered)\n",
    "mae_rf_cv_filtered_in = mean_absolute_error(y_true=y_filtered, y_pred=p_rf_cv_filtered_in, sample_weight=obs_weight_filtered)\n",
    "\n",
    "print(f'in-sample r-squared: {r2_rf_cv_filtered_in}')\n",
    "print(f'in-sample mse: {mse_rf_cv_filtered_in}')\n",
    "print(f'in-sample mae: {mae_rf_cv_filtered_in}')\n",
    "print('-'*100)\n",
    "\n",
    "# # evaluate: out-of-sample\n",
    "# p_rf_cv_filtered_out = rf_cv_filtered.predict(X_test) # run model on test (out-of-sample data) and get predictions\n",
    "#\n",
    "# r2_rf_cv_filtered_out = r2_score(y_true=y_test, y_pred=p_rf_cv_filtered_out)\n",
    "# mse_rf_cv_filtered_out = mean_squared_error(y_true=y_test, y_pred=p_rf_cv_filtered_out)\n",
    "# mae_rf_cv_filtered_out = mean_absolute_error(y_true=y_test, y_pred=p_rf_cv_filtered_out)\n",
    "#\n",
    "# print(f'out-of-sample r-squared: {r2_rf_cv_filtered_out}')\n",
    "# print(f'out-of-sample mse: {mse_rf_cv_filtered_out}')\n",
    "# print(f'out-of-sample mae: {mae_rf_cv_filtered_out}')\n",
    "# print('-'*100)\n",
    "\n",
    "end_time = datetime.now()\n",
    "print(end_time)\n",
    "print(f'Execution time of training the RF took {end_time-start_time}')"
   ],
   "metadata": {
    "collapsed": false,
    "ExecuteTime": {
     "end_time": "2023-06-17T13:12:28.810061Z",
     "start_time": "2023-06-17T13:12:28.705115Z"
    }
   }
  },
  {
   "cell_type": "markdown",
   "source": [
    "##### Explainable AI"
   ],
   "metadata": {
    "collapsed": false
   }
  },
  {
   "cell_type": "markdown",
   "source": [
    "###### Variable Importance"
   ],
   "metadata": {
    "collapsed": false
   }
  },
  {
   "cell_type": "code",
   "execution_count": 145,
   "outputs": [
    {
     "data": {
      "text/plain": "                          variable_importance cumulative_importance\naverage_home_attendance              0.170931              0.170931\nplayer_rating                        0.110186              0.281117\ntrend                                0.105953               0.38707\nskill_moves                           0.09614               0.48321\nage                                  0.084786              0.567996\nbasic_position_goalkeeper            0.063764               0.63176\nbasic_position_attacker               0.03323              0.664991\nbasic_position_midfielder            0.031772              0.696762\nbasic_position_defender              0.027863              0.724626\nbritish_nationality                  0.019157              0.743782",
      "text/html": "<div>\n<style scoped>\n    .dataframe tbody tr th:only-of-type {\n        vertical-align: middle;\n    }\n\n    .dataframe tbody tr th {\n        vertical-align: top;\n    }\n\n    .dataframe thead th {\n        text-align: right;\n    }\n</style>\n<table border=\"1\" class=\"dataframe\">\n  <thead>\n    <tr style=\"text-align: right;\">\n      <th></th>\n      <th>variable_importance</th>\n      <th>cumulative_importance</th>\n    </tr>\n  </thead>\n  <tbody>\n    <tr>\n      <th>average_home_attendance</th>\n      <td>0.170931</td>\n      <td>0.170931</td>\n    </tr>\n    <tr>\n      <th>player_rating</th>\n      <td>0.110186</td>\n      <td>0.281117</td>\n    </tr>\n    <tr>\n      <th>trend</th>\n      <td>0.105953</td>\n      <td>0.38707</td>\n    </tr>\n    <tr>\n      <th>skill_moves</th>\n      <td>0.09614</td>\n      <td>0.48321</td>\n    </tr>\n    <tr>\n      <th>age</th>\n      <td>0.084786</td>\n      <td>0.567996</td>\n    </tr>\n    <tr>\n      <th>basic_position_goalkeeper</th>\n      <td>0.063764</td>\n      <td>0.63176</td>\n    </tr>\n    <tr>\n      <th>basic_position_attacker</th>\n      <td>0.03323</td>\n      <td>0.664991</td>\n    </tr>\n    <tr>\n      <th>basic_position_midfielder</th>\n      <td>0.031772</td>\n      <td>0.696762</td>\n    </tr>\n    <tr>\n      <th>basic_position_defender</th>\n      <td>0.027863</td>\n      <td>0.724626</td>\n    </tr>\n    <tr>\n      <th>british_nationality</th>\n      <td>0.019157</td>\n      <td>0.743782</td>\n    </tr>\n  </tbody>\n</table>\n</div>"
     },
     "execution_count": 145,
     "metadata": {},
     "output_type": "execute_result"
    }
   ],
   "source": [
    "rf_filtered_var_importance = get_variable_importance(rf_cv_filtered.feature_names_in_, rf_cv_filtered.feature_importances_)\n",
    "rf_filtered_var_importance.to_csv(os.path.join(results_folder_path, 'machine-learning', 'rf_var_importance_filtered_sample.csv'))\n",
    "rf_filtered_var_importance.head(10)"
   ],
   "metadata": {
    "collapsed": false,
    "ExecuteTime": {
     "end_time": "2023-06-17T13:12:28.811254Z",
     "start_time": "2023-06-17T13:12:28.788327Z"
    }
   }
  },
  {
   "cell_type": "markdown",
   "source": [
    "###### Partial Dependence"
   ],
   "metadata": {
    "collapsed": false
   }
  },
  {
   "cell_type": "code",
   "execution_count": 168,
   "outputs": [
    {
     "data": {
      "text/plain": "<Figure size 800x550 with 2 Axes>",
      "image/png": "[encoded data removed]"
     },
     "execution_count": 168,
     "metadata": {},
     "output_type": "execute_result"
    }
   ],
   "source": [
    "pd_aha_rf_filtered = PartialDependenceDisplay.from_estimator(rf_cv_filtered, X_filtered, features=[X_filtered.columns.get_loc('average_home_attendance')]).figure_\n",
    "create_pd_continuous_plot(pd_aha_rf_filtered, 15, 'average_home_attendance', 'Partial dependence', 'filtered sample')\n",
    "pd_aha_rf_filtered.savefig(os.path.join(results_folder_path, 'machine-learning', 'pd_aha_rf_filtered_sample.png'), format='png', dpi=300)\n",
    "pd_aha_rf_filtered"
   ],
   "metadata": {
    "collapsed": false,
    "ExecuteTime": {
     "end_time": "2023-06-17T13:24:40.252843Z",
     "start_time": "2023-06-17T13:24:39.288425Z"
    }
   }
  },
  {
   "cell_type": "code",
   "execution_count": 169,
   "outputs": [
    {
     "data": {
      "text/plain": "<Figure size 800x550 with 2 Axes>",
      "image/png": "[encoded data removed]"
     },
     "execution_count": 169,
     "metadata": {},
     "output_type": "execute_result"
    }
   ],
   "source": [
    "pd_pr_rf_filtered = PartialDependenceDisplay.from_estimator(rf_cv_filtered, X_filtered, features=[X_filtered.columns.get_loc('player_rating')]).figure_\n",
    "create_pd_continuous_plot(pd_pr_rf_filtered, 15, 'player_rating', 'Partial dependence', 'filtered sample')\n",
    "pd_pr_rf_filtered.savefig(os.path.join(results_folder_path, 'machine-learning', 'pd_pr_rf_filtered_sample.png'), format='png', dpi=300)\n",
    "pd_pr_rf_filtered"
   ],
   "metadata": {
    "collapsed": false,
    "ExecuteTime": {
     "end_time": "2023-06-17T13:24:41.327958Z",
     "start_time": "2023-06-17T13:24:40.249127Z"
    }
   }
  },
  {
   "cell_type": "code",
   "execution_count": 170,
   "outputs": [
    {
     "data": {
      "text/plain": "<Figure size 800x550 with 2 Axes>",
      "image/png": "[encoded data removed]"
     },
     "execution_count": 170,
     "metadata": {},
     "output_type": "execute_result"
    }
   ],
   "source": [
    "pd_trend_rf_filtered = PartialDependenceDisplay.from_estimator(rf_cv_filtered, X_filtered, features=[X_filtered.columns.get_loc('trend')]).figure_\n",
    "create_pd_continuous_plot(pd_trend_rf_filtered, 15, 'trend', 'Partial dependence', 'filtered sample')\n",
    "pd_trend_rf_filtered.savefig(os.path.join(results_folder_path, 'machine-learning', 'pd_trend_rf_filtered_sample.png'), format='png', dpi=300)\n",
    "pd_trend_rf_filtered"
   ],
   "metadata": {
    "collapsed": false,
    "ExecuteTime": {
     "end_time": "2023-06-17T13:24:42.295496Z",
     "start_time": "2023-06-17T13:24:41.326132Z"
    }
   }
  },
  {
   "cell_type": "code",
   "execution_count": 171,
   "outputs": [
    {
     "data": {
      "text/plain": "<Figure size 800x550 with 2 Axes>",
      "image/png": "[encoded data removed]"
     },
     "execution_count": 171,
     "metadata": {},
     "output_type": "execute_result"
    }
   ],
   "source": [
    "pd_sm_rf_filtered = PartialDependenceDisplay.from_estimator(rf_cv_filtered, X_filtered, features=[X_filtered.columns.get_loc('skill_moves')]).figure_\n",
    "create_pd_continuous_plot(pd_sm_rf_filtered, 15, 'skill_moves', 'Partial dependence', 'filtered sample')\n",
    "pd_sm_rf_filtered.savefig(os.path.join(results_folder_path, 'machine-learning', 'pd_sm_rf_filtered_sample.png'), format='png', dpi=300)\n",
    "pd_sm_rf_filtered"
   ],
   "metadata": {
    "collapsed": false,
    "ExecuteTime": {
     "end_time": "2023-06-17T13:24:43.332183Z",
     "start_time": "2023-06-17T13:24:42.299557Z"
    }
   }
  },
  {
   "cell_type": "code",
   "execution_count": 172,
   "outputs": [
    {
     "data": {
      "text/plain": "<Figure size 800x550 with 2 Axes>",
      "image/png": "[encoded data removed]"
     },
     "execution_count": 172,
     "metadata": {},
     "output_type": "execute_result"
    }
   ],
   "source": [
    "pd_age_rf_filtered = PartialDependenceDisplay.from_estimator(rf_cv_filtered, X_filtered, features=[X_filtered.columns.get_loc('age')]).figure_\n",
    "create_pd_continuous_plot(pd_age_rf_filtered, 15, 'age', 'Partial dependence', 'filtered sample')\n",
    "pd_age_rf_filtered.savefig(os.path.join(results_folder_path, 'machine-learning', 'pd_age_rf_filtered_sample.png'), format='png', dpi=300)\n",
    "pd_age_rf_filtered"
   ],
   "metadata": {
    "collapsed": false,
    "ExecuteTime": {
     "end_time": "2023-06-17T13:24:44.320395Z",
     "start_time": "2023-06-17T13:24:43.332756Z"
    }
   }
  },
  {
   "cell_type": "code",
   "execution_count": 173,
   "outputs": [
    {
     "name": "stdout",
     "output_type": "stream",
     "text": [
      "2023-06-17 15:24:44.317338\n",
      "----------------------------------------------------------------------------------------------------\n",
      "Created partial dependence results for season\n",
      "Created partial dependence results for team_name\n",
      "Created partial dependence results for manager_name\n",
      "Created partial dependence results for captain_name\n",
      "Created partial dependence results for nation\n",
      "Created partial dependence results for work_rate_a\n",
      "Created partial dependence results for work_rate_d\n",
      "Created partial dependence results for basic_position\n",
      "----------------------------------------------------------------------------------------------------\n",
      "2023-06-17 15:24:44.410899\n",
      "dict_keys(['season', 'team_name', 'manager_name', 'captain_name', 'nation', 'work_rate_a', 'work_rate_d', 'basic_position'])\n"
     ]
    },
    {
     "name": "stderr",
     "output_type": "stream",
     "text": [
      "/var/folders/z2/ct83gjv97mz__q43gm_kd6f80000gn/T/ipykernel_8605/3786733364.py:12: FutureWarning: The default dtype for empty Series will be 'object' instead of 'float64' in a future version. Specify a dtype explicitly to silence this warning.\n",
      "  pd_temp = pd.Series(index=X.filter(regex=f\"^{cat_column}\").columns, name=\"partial_dependence\")\n",
      "/var/folders/z2/ct83gjv97mz__q43gm_kd6f80000gn/T/ipykernel_8605/3786733364.py:12: FutureWarning: The default dtype for empty Series will be 'object' instead of 'float64' in a future version. Specify a dtype explicitly to silence this warning.\n",
      "  pd_temp = pd.Series(index=X.filter(regex=f\"^{cat_column}\").columns, name=\"partial_dependence\")\n",
      "/var/folders/z2/ct83gjv97mz__q43gm_kd6f80000gn/T/ipykernel_8605/3786733364.py:12: FutureWarning: The default dtype for empty Series will be 'object' instead of 'float64' in a future version. Specify a dtype explicitly to silence this warning.\n",
      "  pd_temp = pd.Series(index=X.filter(regex=f\"^{cat_column}\").columns, name=\"partial_dependence\")\n",
      "/var/folders/z2/ct83gjv97mz__q43gm_kd6f80000gn/T/ipykernel_8605/3786733364.py:12: FutureWarning: The default dtype for empty Series will be 'object' instead of 'float64' in a future version. Specify a dtype explicitly to silence this warning.\n",
      "  pd_temp = pd.Series(index=X.filter(regex=f\"^{cat_column}\").columns, name=\"partial_dependence\")\n",
      "/var/folders/z2/ct83gjv97mz__q43gm_kd6f80000gn/T/ipykernel_8605/3786733364.py:12: FutureWarning: The default dtype for empty Series will be 'object' instead of 'float64' in a future version. Specify a dtype explicitly to silence this warning.\n",
      "  pd_temp = pd.Series(index=X.filter(regex=f\"^{cat_column}\").columns, name=\"partial_dependence\")\n",
      "/var/folders/z2/ct83gjv97mz__q43gm_kd6f80000gn/T/ipykernel_8605/3786733364.py:12: FutureWarning: The default dtype for empty Series will be 'object' instead of 'float64' in a future version. Specify a dtype explicitly to silence this warning.\n",
      "  pd_temp = pd.Series(index=X.filter(regex=f\"^{cat_column}\").columns, name=\"partial_dependence\")\n",
      "/var/folders/z2/ct83gjv97mz__q43gm_kd6f80000gn/T/ipykernel_8605/3786733364.py:12: FutureWarning: The default dtype for empty Series will be 'object' instead of 'float64' in a future version. Specify a dtype explicitly to silence this warning.\n",
      "  pd_temp = pd.Series(index=X.filter(regex=f\"^{cat_column}\").columns, name=\"partial_dependence\")\n",
      "/var/folders/z2/ct83gjv97mz__q43gm_kd6f80000gn/T/ipykernel_8605/3786733364.py:12: FutureWarning: The default dtype for empty Series will be 'object' instead of 'float64' in a future version. Specify a dtype explicitly to silence this warning.\n",
      "  pd_temp = pd.Series(index=X.filter(regex=f\"^{cat_column}\").columns, name=\"partial_dependence\")\n"
     ]
    }
   ],
   "source": [
    "pd_cat_filtered_sample = get_pd_cat(rf_cv_filtered, X_filtered, model_data_filtered, include_region=True)\n",
    "print(pd_cat.keys())"
   ],
   "metadata": {
    "collapsed": false,
    "ExecuteTime": {
     "end_time": "2023-06-17T13:24:44.429041Z",
     "start_time": "2023-06-17T13:24:44.320708Z"
    }
   }
  },
  {
   "cell_type": "code",
   "execution_count": 174,
   "outputs": [
    {
     "data": {
      "text/plain": "<Figure size 800x550 with 1 Axes>",
      "image/png": "[encoded data removed]"
     },
     "execution_count": 174,
     "metadata": {},
     "output_type": "execute_result"
    }
   ],
   "source": [
    "pd_pos_rf_filtered = create_pd_cat_plot(pd_cat_filtered_sample['basic_position'], 'basic_position', 'filtered sample')\n",
    "pd_pos_rf_filtered.savefig(os.path.join(results_folder_path, 'machine-learning', 'pd_pos_rf_filtered_sample.png'), format='png', dpi=300)\n",
    "pd_pos_rf_filtered"
   ],
   "metadata": {
    "collapsed": false,
    "ExecuteTime": {
     "end_time": "2023-06-17T13:24:45.110214Z",
     "start_time": "2023-06-17T13:24:44.443223Z"
    }
   }
  },
  {
   "cell_type": "markdown",
   "source": [
    "## Appendix"
   ],
   "metadata": {
    "collapsed": false
   }
  },
  {
   "cell_type": "markdown",
   "source": [
    "### Linear Regression"
   ],
   "metadata": {
    "collapsed": false
   }
  },
  {
   "cell_type": "code",
   "execution_count": null,
   "outputs": [],
   "source": [
    "# In this cell we investigate whether the r-squared given in the model.summary() method is weighted or not\n",
    "wls_model_predictions = wls_model_filtered.fittedvalues\n",
    "actual_values = model_data_filtered['hra']\n",
    "obs_weights = model_data_filtered['observation_weight']\n",
    "\n",
    "print(f'r2 given by statsmodels summary: {wls_model_filtered.rsquared}')\n",
    "\n",
    "# unweighted r2 (default)\n",
    "print(f'manual unweighted r2: {r2_score(y_true=actual_values, y_pred=wls_model_predictions)}')\n",
    "\n",
    "# manual weighted r2\n",
    "print(f'manual weighted r2: {r2_score(y_true=actual_values, y_pred=wls_model_predictions, sample_weight=obs_weights)}')\n",
    "\n",
    "#############\n",
    "\n",
    "# conclusion: statsmodels WLS gives the weighted r2"
   ],
   "metadata": {
    "collapsed": false
   }
  },
  {
   "cell_type": "markdown",
   "source": [
    "#### Investigating HRA per team"
   ],
   "metadata": {
    "collapsed": false
   }
  },
  {
   "cell_type": "code",
   "execution_count": null,
   "outputs": [],
   "source": [
    "man_u = model_data.loc[model_data['team_name']=='Manchester United']"
   ],
   "metadata": {
    "collapsed": false
   }
  },
  {
   "cell_type": "code",
   "execution_count": null,
   "outputs": [],
   "source": [
    "model = smf.ols(formula=f'hra ~ trend + is_captain + player_rating + skill_moves + age + basic_position + british_nationality', data=man_u).fit()"
   ],
   "metadata": {
    "collapsed": false
   }
  },
  {
   "cell_type": "code",
   "execution_count": null,
   "outputs": [],
   "source": [
    "print(model.summary())"
   ],
   "metadata": {
    "collapsed": false
   }
  },
  {
   "cell_type": "code",
   "execution_count": null,
   "outputs": [],
   "source": [
    "model.cond"
   ],
   "metadata": {
    "collapsed": false
   }
  },
  {
   "cell_type": "markdown",
   "source": [
    "#### No fixed effects"
   ],
   "metadata": {
    "collapsed": false
   }
  },
  {
   "cell_type": "code",
   "execution_count": null,
   "outputs": [],
   "source": [
    "variables_to_drop = ['season', 'observation_weight', 'hra', 'player_weight', 'player_height',\n",
    "                   'captain_name', 'manager_name', 'team_name', 'nation']\n",
    "\n",
    "variables_to_drop = ['observation_weight', 'hra', 'player_weight', 'player_height',\n",
    "                   'captain_name', 'manager_name', 'nation', 'imputed_weight']\n",
    "all_variables = (model_data.columns).to_list()\n",
    "variables_to_include = [x for x in all_variables if x not in variables_to_drop]"
   ],
   "metadata": {
    "collapsed": false
   }
  },
  {
   "cell_type": "code",
   "execution_count": null,
   "outputs": [],
   "source": [
    "model = smf.ols(formula=f'hra ~ {\"+\".join(variables_to_include)}', data=model_data).fit(cov_type='HC1')"
   ],
   "metadata": {
    "collapsed": false
   }
  },
  {
   "cell_type": "code",
   "execution_count": null,
   "outputs": [],
   "source": [
    "print(model.summary())"
   ],
   "metadata": {
    "collapsed": false
   }
  },
  {
   "cell_type": "code",
   "execution_count": null,
   "outputs": [],
   "source": [
    "dir(model.summary())"
   ],
   "metadata": {
    "collapsed": false
   }
  },
  {
   "cell_type": "code",
   "execution_count": null,
   "outputs": [],
   "source": [
    "print(model.summary().tables[2])"
   ],
   "metadata": {
    "collapsed": false
   }
  },
  {
   "cell_type": "code",
   "execution_count": null,
   "outputs": [],
   "source": [
    "import pyperclip"
   ],
   "metadata": {
    "collapsed": false
   }
  },
  {
   "cell_type": "code",
   "execution_count": null,
   "outputs": [],
   "source": [
    "a = model.summary().as_csv()\n",
    "pyperclip.copy(a)"
   ],
   "metadata": {
    "collapsed": false
   }
  },
  {
   "cell_type": "code",
   "execution_count": null,
   "outputs": [],
   "source": [
    "a = pd.DataFrame(model.summary().tables[1])"
   ],
   "metadata": {
    "collapsed": false
   }
  },
  {
   "cell_type": "code",
   "execution_count": null,
   "outputs": [],
   "source": [
    "a = pd.read_csv(model.summary().tables[0].as_csv())"
   ],
   "metadata": {
    "collapsed": false
   }
  },
  {
   "cell_type": "code",
   "execution_count": null,
   "outputs": [],
   "source": [
    "model.summary2().tables[1]"
   ],
   "metadata": {
    "collapsed": false
   }
  },
  {
   "cell_type": "markdown",
   "source": [
    "#### Fixed effects\n",
    "This regression model includes fixed effects for the *team, nation, manager and captain*"
   ],
   "metadata": {
    "collapsed": false
   }
  },
  {
   "cell_type": "code",
   "execution_count": null,
   "outputs": [],
   "source": [
    "variables_to_drop = ['season', 'observation_weight', 'hra', 'player_weight', 'player_height']\n",
    "all_variables = (model_data.columns).to_list()\n",
    "variables_to_include = [x for x in all_variables if x not in variables_to_drop]"
   ],
   "metadata": {
    "collapsed": false
   }
  },
  {
   "cell_type": "code",
   "execution_count": null,
   "outputs": [],
   "source": [
    "model_2 = smf.ols(formula=f'hra ~ {\"+\".join(variables_to_include)}', data=model_data).fit(cov_type='HC1')"
   ],
   "metadata": {
    "collapsed": false
   }
  },
  {
   "cell_type": "code",
   "execution_count": null,
   "outputs": [],
   "source": [
    "print(model_2.summary())"
   ],
   "metadata": {
    "collapsed": false
   }
  },
  {
   "cell_type": "markdown",
   "source": [
    "### Machine Learning"
   ],
   "metadata": {
    "collapsed": false
   }
  },
  {
   "cell_type": "markdown",
   "source": [
    "#### Combing the plots"
   ],
   "metadata": {
    "collapsed": false
   }
  },
  {
   "cell_type": "code",
   "execution_count": null,
   "outputs": [],
   "source": [
    "fig = plt.figure()\n",
    "\n",
    "plt.subplot(2, 2, 1)\n",
    "plt.plot(pd_aha_rf_full)\n",
    "\n",
    "plt.subplot(2, 2, 2)\n",
    "plt.show(pd_aha_rf_filtered)\n",
    "\n",
    "plt.subplot(2, 2, 3)\n",
    "plt.show(pd_age_rf_full)\n",
    "\n",
    "plt.subplot(2, 2, 4)\n",
    "plt.show(pd_age_rf_filtered)\n",
    "\n",
    "plt.show()"
   ],
   "metadata": {
    "collapsed": false
   }
  },
  {
   "cell_type": "markdown",
   "source": [
    "#### Gradient Boosting"
   ],
   "metadata": {
    "collapsed": false
   }
  },
  {
   "cell_type": "code",
   "execution_count": null,
   "outputs": [],
   "source": [
    "# train\n",
    "r = GradientBoostingRegressor(random_state=rs_tree)\n",
    "gb = r.fit(X_train, y_train)\n",
    "\n",
    "# predict\n",
    "p_gb_in = gb.predict(X_train)\n",
    "\n",
    "# evaluate: in-sample\n",
    "r2_gb_in = r2_score(y_true=y_train, y_pred=p_gb_in)\n",
    "# r2_mae_rf_in = r2_score_mae(y_true=y_train, y_pred=p_rf_in)\n",
    "mse_gb_in = mean_squared_error(y_true=y_train, y_pred=p_gb_in)\n",
    "mae_gb_in = mean_absolute_error(y_true=y_train, y_pred=p_gb_in)\n",
    "\n",
    "print(f'in-sample r-squared: {r2_gb_in}')\n",
    "# print(f'in-sample MAE based r-squared: {r2_mae_rf_in}')\n",
    "print(f'in-sample mse: {mse_gb_in}')\n",
    "print(f'in-sample mae: {mae_gb_in}')\n",
    "print('-'*100)\n",
    "# print(f'number of trees in the forest: {rf.n_estimators}')\n",
    "print(f'random state: {gb.random_state}')\n",
    "print('-'*100)\n",
    "\n",
    "# evaluate: out-of-sample\n",
    "p_gb_out = gb.predict(X_test) # run model on test (out-of-sample data) and get predictions\n",
    "\n",
    "r2_gb_out = r2_score(y_true=y_test, y_pred=p_gb_out)\n",
    "# r2_mae_rf_out = r2_score_mae(y_true=y_test, y_pred=p_rf_out)\n",
    "mse_gb_out = mean_squared_error(y_true=y_test, y_pred=p_gb_out)\n",
    "mae_gb_out = mean_absolute_error(y_true=y_test, y_pred=p_gb_out)\n",
    "\n",
    "print(f'out-of-sample r-squared: {r2_gb_out}')\n",
    "# print(f'out-of-sample MAE based r-squared: {r2_mae_rf_out}')\n",
    "print(f'out-of-sample mse: {mse_gb_out}')\n",
    "print(f'out-of-sample mae: {mae_gb_out}')"
   ],
   "metadata": {
    "collapsed": false
   }
  },
  {
   "cell_type": "code",
   "execution_count": null,
   "outputs": [],
   "source": [
    "start_time = datetime.now()\n",
    "print(start_time)\n",
    "print('-'*100)\n",
    "\n",
    "parameters = {'learning_rate': [0.1, 0.2, 0.5], 'n_estimators': [10, 50, 100, 200, 300, 500],\n",
    "              'max_depth': [2,3,4,5,6,7,8,10, 20, 30, 40], 'max_leaf_nodes': [5, 10, 20, 30, 50, 100]}\n",
    "cv_gb = RandomizedSearchCV(estimator=GradientBoostingRegressor(random_state=rs_tree), param_distributions=parameters,\n",
    "                           n_iter=50, cv=2, n_jobs=-1, random_state=99)\n",
    "cv_gb.fit(X_train, y_train)\n",
    "print(cv_gb.best_params_)\n",
    "print('-'*100)\n",
    "\n",
    "end_time = datetime.now()\n",
    "print(end_time)\n",
    "print(f'Execution time of Randomized cross-validation took {end_time-start_time}')"
   ],
   "metadata": {
    "collapsed": false
   }
  },
  {
   "cell_type": "code",
   "execution_count": null,
   "outputs": [],
   "source": [
    "pd.DataFrame(cv_gb.cv_results_).sort_values(by='rank_test_score', ascending=True).head(5)"
   ],
   "metadata": {
    "collapsed": false
   }
  },
  {
   "cell_type": "code",
   "execution_count": null,
   "outputs": [],
   "source": [
    "start_time = datetime.now()\n",
    "print(start_time)\n",
    "print('-'*100)\n",
    "\n",
    "# train (or if already trained and saved, import that one)\n",
    "gb_cv = cv_gb.best_estimator_\n",
    "\n",
    "# predict\n",
    "p_gb_cv_in = gb_cv.predict(X_train)\n",
    "\n",
    "# evaluate: in-sample\n",
    "r2_gb_cv_in = r2_score(y_true=y_train, y_pred=p_gb_cv_in)\n",
    "mse_gb_cv_in = mean_squared_error(y_true=y_train, y_pred=p_gb_cv_in)\n",
    "mae_gb_cv_in = mean_absolute_error(y_true=y_train, y_pred=p_gb_cv_in)\n",
    "\n",
    "print(f'in-sample r-squared: {r2_gb_cv_in}')\n",
    "print(f'in-sample mse: {mse_gb_cv_in}')\n",
    "print(f'in-sample mae: {mae_gb_cv_in}')\n",
    "print('-'*100)\n",
    "# print(f'number of trees in the forest: {gb.n_estimators}')\n",
    "print(f'random state: {gb_cv.random_state}')\n",
    "print('-'*100)\n",
    "\n",
    "# evaluate: out-of-sample\n",
    "p_gb_cv_out = gb_cv.predict(X_test) # run model on test (out-of-sample data) and get predictions\n",
    "\n",
    "r2_gb_cv_out = r2_score(y_true=y_test, y_pred=p_gb_cv_out)\n",
    "mse_gb_cv_out = mean_squared_error(y_true=y_test, y_pred=p_gb_cv_out)\n",
    "mae_gb_cv_out = mean_absolute_error(y_true=y_test, y_pred=p_gb_cv_out)\n",
    "\n",
    "print(f'out-of-sample r-squared: {r2_gb_cv_out}')\n",
    "print(f'out-of-sample mse: {mse_gb_cv_out}')\n",
    "print(f'out-of-sample mae: {mae_gb_cv_out}')\n",
    "print('-'*100)\n",
    "\n",
    "end_time = datetime.now()\n",
    "print(end_time)\n",
    "print(f'Execution time of training the HGB took {end_time-start_time}')"
   ],
   "metadata": {
    "collapsed": false
   }
  },
  {
   "cell_type": "code",
   "execution_count": null,
   "outputs": [],
   "source": [
    "gb_var_importance = get_variable_importance(gb.feature_names_in_, gb.feature_importances_)\n",
    "gb_var_importance.head(15)"
   ],
   "metadata": {
    "collapsed": false
   }
  },
  {
   "cell_type": "markdown",
   "source": [
    "#### Histogram Gradient Boosting"
   ],
   "metadata": {
    "collapsed": false
   }
  },
  {
   "cell_type": "code",
   "execution_count": null,
   "outputs": [],
   "source": [
    "# train\n",
    "# r = RandomForestRegressor(n_jobs=-1, random_state=rs_tree)\n",
    "r = HistGradientBoostingRegressor(random_state=rs_tree)\n",
    "rf = r.fit(X_train, y_train)\n",
    "\n",
    "# predict\n",
    "p_rf_in = rf.predict(X_train)\n",
    "\n",
    "# evaluate: in-sample\n",
    "r2_rf_in = r2_score(y_true=y_train, y_pred=p_rf_in)\n",
    "# r2_mae_rf_in = r2_score_mae(y_true=y_train, y_pred=p_rf_in)\n",
    "mse_rf_in = mean_squared_error(y_true=y_train, y_pred=p_rf_in)\n",
    "mae_rf_in = mean_absolute_error(y_true=y_train, y_pred=p_rf_in)\n",
    "\n",
    "print(f'in-sample r-squared: {r2_rf_in}')\n",
    "# print(f'in-sample MAE based r-squared: {r2_mae_rf_in}')\n",
    "print(f'in-sample mse: {mse_rf_in}')\n",
    "print(f'in-sample mae: {mae_rf_in}')\n",
    "print('-'*100)\n",
    "# print(f'number of trees in the forest: {rf.n_estimators}')\n",
    "print(f'random state: {rf.random_state}')\n",
    "print('-'*100)\n",
    "\n",
    "# evaluate: out-of-sample\n",
    "p_rf_out = rf.predict(X_test) # run model on test (out-of-sample data) and get predictions\n",
    "\n",
    "r2_rf_out = r2_score(y_true=y_test, y_pred=p_rf_out)\n",
    "# r2_mae_rf_out = r2_score_mae(y_true=y_test, y_pred=p_rf_out)\n",
    "mse_rf_out = mean_squared_error(y_true=y_test, y_pred=p_rf_out)\n",
    "mae_rf_out = mean_absolute_error(y_true=y_test, y_pred=p_rf_out)\n",
    "\n",
    "print(f'out-of-sample r-squared: {r2_rf_out}')\n",
    "# print(f'out-of-sample MAE based r-squared: {r2_mae_rf_out}')\n",
    "print(f'out-of-sample mse: {mse_rf_out}')\n",
    "print(f'out-of-sample mae: {mae_rf_out}')"
   ],
   "metadata": {
    "collapsed": false
   }
  },
  {
   "cell_type": "code",
   "execution_count": null,
   "outputs": [],
   "source": [
    "start_time = datetime.now()\n",
    "print(start_time)\n",
    "print('-'*100)\n",
    "\n",
    "parameters = {'learning_rate': [0.1, 0.2, 0.5], 'max_iter': [10, 50, 100, 200, 300, 500],\n",
    "              'max_depth': [3,4,5, 10, 20, 30, 40], 'max_leaf_nodes': [5, 10, 20, 30, 50, 100, 200, 500]}\n",
    "cv_hgb = RandomizedSearchCV(estimator=HistGradientBoostingRegressor(random_state=rs_tree), param_distributions=parameters,\n",
    "                           n_iter=50, cv=2, n_jobs=-1, random_state=99)\n",
    "cv_hgb.fit(X_train, y_train)\n",
    "print(cv_hgb.best_params_)\n",
    "print('-'*100)\n",
    "\n",
    "end_time = datetime.now()\n",
    "print(end_time)\n",
    "print(f'Execution time of Randomized cross-validation took {end_time-start_time}')"
   ],
   "metadata": {
    "collapsed": false
   }
  },
  {
   "cell_type": "code",
   "execution_count": null,
   "outputs": [],
   "source": [
    "pd.DataFrame(cv_hgb.cv_results_).sort_values(by='rank_test_score', ascending=True).head(5)"
   ],
   "metadata": {
    "collapsed": false
   }
  },
  {
   "cell_type": "code",
   "execution_count": null,
   "outputs": [],
   "source": [
    "start_time = datetime.now()\n",
    "print(start_time)\n",
    "print('-'*100)\n",
    "\n",
    "# train (or if already trained and saved, import that one)\n",
    "hgb_cv = cv_hgb.best_estimator_\n",
    "\n",
    "# predict\n",
    "p_hgb_cv_in = hgb_cv.predict(X_train)\n",
    "\n",
    "# evaluate: in-sample\n",
    "r2_hgb_cv_in = r2_score(y_true=y_train, y_pred=p_hgb_cv_in)\n",
    "mse_hgb_cv_in = mean_squared_error(y_true=y_train, y_pred=p_hgb_cv_in)\n",
    "mae_hgb_cv_in = mean_absolute_error(y_true=y_train, y_pred=p_hgb_cv_in)\n",
    "\n",
    "print(f'in-sample r-squared: {r2_hgb_cv_in}')\n",
    "print(f'in-sample mse: {mse_hgb_cv_in}')\n",
    "print(f'in-sample mae: {mae_hgb_cv_in}')\n",
    "print('-'*100)\n",
    "# print(f'number of trees in the forest: {gb.n_estimators}')\n",
    "print(f'random state: {hgb_cv.random_state}')\n",
    "print('-'*100)\n",
    "\n",
    "# evaluate: out-of-sample\n",
    "p_hgb_cv_out = hgb_cv.predict(X_test) # run model on test (out-of-sample data) and get predictions\n",
    "\n",
    "r2_hgb_cv_out = r2_score(y_true=y_test, y_pred=p_hgb_cv_out)\n",
    "mse_hgb_cv_out = mean_squared_error(y_true=y_test, y_pred=p_hgb_cv_out)\n",
    "mae_hgb_cv_out = mean_absolute_error(y_true=y_test, y_pred=p_hgb_cv_out)\n",
    "\n",
    "print(f'out-of-sample r-squared: {r2_hgb_cv_out}')\n",
    "print(f'out-of-sample mse: {mse_hgb_cv_out}')\n",
    "print(f'out-of-sample mae: {mae_hgb_cv_out}')\n",
    "print('-'*100)\n",
    "\n",
    "end_time = datetime.now()\n",
    "print(end_time)\n",
    "print(f'Execution time of training the HGB took {end_time-start_time}')"
   ],
   "metadata": {
    "collapsed": false
   }
  },
  {
   "cell_type": "code",
   "execution_count": null,
   "outputs": [],
   "source": [
    "PartialDependenceDisplay.from_estimator(hgb_cv, X_train, features=[X_train.columns.get_loc('player_rating')])"
   ],
   "metadata": {
    "collapsed": false
   }
  },
  {
   "cell_type": "code",
   "execution_count": null,
   "outputs": [],
   "source": [
    "PartialDependenceDisplay.from_estimator(hgb_cv, X_train, features=[X_train.columns.get_loc('age')])"
   ],
   "metadata": {
    "collapsed": false
   }
  },
  {
   "cell_type": "code",
   "execution_count": null,
   "outputs": [],
   "source": [
    "PartialDependenceDisplay.from_estimator(hgb_cv, X_train, features=[X_train.columns.get_loc('british_nationality')])"
   ],
   "metadata": {
    "collapsed": false
   }
  },
  {
   "cell_type": "code",
   "execution_count": null,
   "outputs": [],
   "source": [
    "PartialDependenceDisplay.from_estimator(hgb_cv, X_train, features=[X_train.columns.get_loc('promoted')])"
   ],
   "metadata": {
    "collapsed": false
   }
  },
  {
   "cell_type": "code",
   "execution_count": null,
   "outputs": [],
   "source": [
    "PartialDependenceDisplay.from_estimator(hgb_cv, X_train, features=[X_train.columns.get_loc('average_home_attendance')])"
   ],
   "metadata": {
    "collapsed": false
   }
  },
  {
   "cell_type": "code",
   "execution_count": null,
   "outputs": [],
   "source": [
    "PartialDependenceDisplay.from_estimator(hgb_cv, X_train, features=[X_train.columns.get_loc('trend')])"
   ],
   "metadata": {
    "collapsed": false
   }
  },
  {
   "cell_type": "code",
   "execution_count": null,
   "outputs": [],
   "source": [
    "model_data_filtered['player_rating'].describe()"
   ],
   "metadata": {
    "collapsed": false
   }
  },
  {
   "cell_type": "code",
   "execution_count": null,
   "outputs": [],
   "source": [
    "model_data_filtered['player_rating'].quantile([0.1, 0.2, 0.5, 0.7, 0.9, 0.99])"
   ],
   "metadata": {
    "collapsed": false
   }
  },
  {
   "cell_type": "code",
   "execution_count": null,
   "outputs": [],
   "source": [
    "correlation_matrix_filtered = model_data_filtered.corr()"
   ],
   "metadata": {
    "collapsed": false
   }
  },
  {
   "cell_type": "code",
   "execution_count": null,
   "outputs": [],
   "source": [
    "correlation_matrix_filtered"
   ],
   "metadata": {
    "collapsed": false
   }
  },
  {
   "cell_type": "code",
   "execution_count": null,
   "outputs": [],
   "source": [
    "plt.style.use('default')\n",
    "# Assuming you have a correlation matrix named 'correlation_matrix'\n",
    "# If you have a DataFrame, you can compute the correlation matrix using df.corr()\n",
    "# correlation_matrix = df.corr()\n",
    "\n",
    "# Create a figure and axis\n",
    "fig, ax = plt.subplots(figsize=(10, 8))\n",
    "\n",
    "# Generate the color map using matshow\n",
    "cax = ax.matshow(correlation_matrix_filtered, cmap='coolwarm')\n",
    "\n",
    "# Add a colorbar\n",
    "cbar = fig.colorbar(cax)\n",
    "\n",
    "# Set the title\n",
    "ax.set_title('Correlation Matrix')\n",
    "\n",
    "# Set the x and y-axis labels\n",
    "ax.set_xticks(range(len(correlation_matrix_filtered.columns)))\n",
    "ax.set_yticks(range(len(correlation_matrix_filtered.columns)))\n",
    "ax.set_xticklabels(correlation_matrix_filtered.columns, rotation=90)\n",
    "ax.set_yticklabels(correlation_matrix_filtered.columns)\n",
    "\n",
    "plt.tight_layout()\n",
    "\n",
    "# save the plot\n",
    "plt.savefig(os.path.join(results_folder_path, 'correlation_matrix.png'), format='png')\n",
    "\n",
    "# Show the plot\n",
    "plt.show()"
   ],
   "metadata": {
    "collapsed": false
   }
  },
  {
   "cell_type": "code",
   "execution_count": null,
   "outputs": [],
   "source": [
    "import seaborn as sb\n",
    "\n",
    "\n",
    "sb.heatmap(correlation_matrix_filtered, cmap=\"coolwarm\", annot=False)"
   ],
   "metadata": {
    "collapsed": false
   }
  }
 ],
 "metadata": {
  "kernelspec": {
   "display_name": "Python 3",
   "language": "python",
   "name": "python3"
  },
  "language_info": {
   "codemirror_mode": {
    "name": "ipython",
    "version": 2
   },
   "file_extension": ".py",
   "mimetype": "text/x-python",
   "name": "python",
   "nbconvert_exporter": "python",
   "pygments_lexer": "ipython2",
   "version": "2.7.6"
  }
 },
 "nbformat": 4,
 "nbformat_minor": 0
}
